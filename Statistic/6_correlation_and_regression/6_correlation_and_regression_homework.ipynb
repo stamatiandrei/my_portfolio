{
 "cells": [
  {
   "cell_type": "markdown",
   "metadata": {},
   "source": [
    "# Блок №6 Корреляция и регрессия"
   ]
  },
  {
   "cell_type": "markdown",
   "metadata": {},
   "source": [
    "# Задание 1\n",
    "___\n",
    "Укажите верные высказывания:\n",
    "+ Чем ближе значение коэффициента корреляции к 1 или к -1, тем сильнее взаимосвязь двух переменных.\n",
    "+ Коэффициент корреляции может принимать значения на промежутке [-1;1]\n",
    "+ Коэффициент корреляции никогда не может быть равен нулю.\n",
    "+ Положительное значение коэффициента корреляции говорит нам о том, что с увеличением значений одной переменной значения второй переменной уменьшаются."
   ]
  },
  {
   "cell_type": "markdown",
   "metadata": {},
   "source": [
    "Ответ:\n",
    "+ Чем ближе значение коэффициента корреляции к 1 или к -1, тем сильнее взаимосвязь двух переменных.\n",
    "+ Коэффициент корреляции может принимать значения на промежутке [-1;1]"
   ]
  },
  {
   "cell_type": "markdown",
   "metadata": {},
   "source": [
    "# Задание 2\n",
    "___\n",
    "Если при исследовании взаимосвязи двух переменных коэффициент детерминации оказался равен 0.25, то"
   ]
  },
  {
   "cell_type": "markdown",
   "metadata": {},
   "source": [
    "Ответ:\n",
    "коэффициент корреляции равен 0.5 или -0.5"
   ]
  },
  {
   "cell_type": "markdown",
   "metadata": {},
   "source": [
    "# Задание 3\n",
    "___\n",
    "Соотнесите графики (А, Б, В) и значения коэффициента детерминации:\n",
    "![](https://ucarecdn.com/b6c1cac5-deb0-41d4-aaa6-ea0dbd961b46/)"
   ]
  },
  {
   "cell_type": "markdown",
   "metadata": {},
   "source": [
    "Ответ:\n",
    "+ A -> 0.02\n",
    "+ Б -> 0.55\n",
    "+ В -> 0.9"
   ]
  },
  {
   "cell_type": "markdown",
   "metadata": {},
   "source": [
    "# Задание 4\n",
    "___\n",
    "Верно ли это утверждение: если коэффициент корреляции равен 0.7, то такая взаимосвязь всегда будет статистически достоверна (p-уровень значимости обязательно будет меньше 0.05)?"
   ]
  },
  {
   "cell_type": "markdown",
   "metadata": {},
   "source": [
    "Ответ:\n",
    "+ Нет, высокая корреляция не обязательно означает статистически значимую взаимосвязь."
   ]
  },
  {
   "cell_type": "markdown",
   "metadata": {},
   "source": [
    "# Задание 5\n",
    "___\n",
    "Чему равен коэффициент корреляции в данной выборке (попробуйте построить график для нахождения верного ответа):\n",
    "\n",
    "| X | Y |\n",
    "|---|---|\n",
    "| 4 | 2 |\n",
    "| 5 | 1 |\n",
    "| 2 | 4 |\n",
    "| 3 | 3 |\n",
    "| 1 | 5 |"
   ]
  },
  {
   "cell_type": "code",
   "execution_count": 12,
   "metadata": {},
   "outputs": [],
   "source": [
    "import numpy as np\n",
    "\n",
    "import seaborn as sns"
   ]
  },
  {
   "cell_type": "code",
   "execution_count": 13,
   "metadata": {},
   "outputs": [],
   "source": [
    "x1 = [4, 5, 2, 3, 1]\n",
    "x2 = [2, 1, 4, 3, 5]"
   ]
  },
  {
   "cell_type": "code",
   "execution_count": 14,
   "metadata": {},
   "outputs": [
    {
     "data": {
      "text/plain": [
       "array([[ 1., -1.],\n",
       "       [-1.,  1.]])"
      ]
     },
     "execution_count": 14,
     "metadata": {},
     "output_type": "execute_result"
    }
   ],
   "source": [
    "# Посчитаем корреляцию\n",
    "np.corrcoef(x1, x2)"
   ]
  },
  {
   "cell_type": "code",
   "execution_count": 16,
   "metadata": {},
   "outputs": [
    {
     "name": "stderr",
     "output_type": "stream",
     "text": [
      "/opt/tljh/user/lib/python3.7/site-packages/seaborn/_decorators.py:43: FutureWarning: Pass the following variables as keyword args: x, y. From version 0.12, the only valid positional argument will be `data`, and passing other arguments without an explicit keyword will result in an error or misinterpretation.\n",
      "  FutureWarning\n"
     ]
    },
    {
     "data": {
      "image/png": "[encoded data removed]",
      "text/plain": [
       "<Figure size 432x288 with 1 Axes>"
      ]
     },
     "metadata": {
      "needs_background": "light"
     },
     "output_type": "display_data"
    }
   ],
   "source": [
    "sns.scatterplot(x1, x2);"
   ]
  },
  {
   "cell_type": "markdown",
   "metadata": {},
   "source": [
    "Ответ:\n",
    "-1"
   ]
  },
  {
   "cell_type": "markdown",
   "metadata": {},
   "source": [
    "# Задание 6\n",
    "___\n",
    "Укажите, на каких графиках значение коэффициента корреляции Пирсона приблизительно равняется нулю.\n",
    "![](https://ucarecdn.com/688ad2df-1267-4872-84c7-0628c0dd61cb/)"
   ]
  },
  {
   "cell_type": "markdown",
   "metadata": {},
   "source": [
    "Ответ: А, В"
   ]
  },
  {
   "cell_type": "markdown",
   "metadata": {},
   "source": [
    "# Задание 7\n",
    "___\n",
    "Укажите основные требования к данным при использовании коэффициента корреляции Пирсона:\n",
    "+ Обе переменные обязательно должны быть представлены в ранговой шкале\n",
    "+ Линейная взаимосвязь двух переменных\n",
    "+ Значения переменных не должны быть отрицательными\n",
    "+ Нормальное распределение переменных (значительные выбросы могут негативно сказаться на значении коэффициента корреляции)"
   ]
  },
  {
   "cell_type": "markdown",
   "metadata": {},
   "source": [
    "Ответ:\n",
    "+ Линейная взаимосвязь двух переменных\n",
    "+ Нормальное распределение переменных (значительные выбросы могут негативно сказаться на значении коэффициента корреляции)"
   ]
  },
  {
   "cell_type": "markdown",
   "metadata": {},
   "source": [
    "# Задание 8\n",
    "___\n",
    "Если по результатам исследования мы обнаружили значимую положительную корреляцию уровня преступности и уровня безработицы, то это означает, что:\n",
    "+ Преступность – причина безработицы\n",
    "+ Безработица – причина преступности\n",
    "+ Результаты только корреляционного исследования не позволяют нам делать вывод о причинно-следственной связи"
   ]
  },
  {
   "cell_type": "markdown",
   "metadata": {},
   "source": [
    "Ответ: Результаты только корреляционного исследования не позволяют нам делать вывод о причинно-следственной связи"
   ]
  },
  {
   "cell_type": "markdown",
   "metadata": {},
   "source": [
    "# Задание 9\n",
    "___\n",
    "Исследователь решил выяснить, существует ли значимая корреляция между словарным запасом школьников и их ростом. В исследовании приняло участие 11 классов (с 1 по 11 класс, по 30 человек в каждом классе) некоторой школы. Оказалось, что существует значимая положительная корреляция этих двух показателей (r = 0.7, p < 0.05).\n",
    "\n",
    "Исследователь размышляет, какой вывод он может сделать, основываясь на этих данных:\n",
    "+ Доказано влияние роста на словарный запас\n",
    "+ Доказано влияние словарного запаса на рост\n",
    "+ Причиной данных результатов, вероятнее всего, является влияние третьей переменной (в каком классе учится школьник), если учесть этот показатель, то значимая взаимосвязь между ростом и словарным запасом не будет обнаружена"
   ]
  },
  {
   "cell_type": "markdown",
   "metadata": {},
   "source": [
    "Ответ: Причиной данных результатов, вероятнее всего, является влияние третьей переменной (в каком классе учится школьник), если учесть этот показатель, то значимая взаимосвязь между ростом и словарным запасом не будет обнаружена"
   ]
  },
  {
   "cell_type": "markdown",
   "metadata": {},
   "source": [
    "# Задание 10:\n",
    "___\n",
    "Соотнесите графики, на которых изображена регрессионная прямая, и значения коэффициентов b1 и b0 в уравнении регрессии:\n",
    "![](https://ucarecdn.com/79632d98-7cad-4b27-9eb4-7212ac401f39/)"
   ]
  },
  {
   "cell_type": "markdown",
   "metadata": {},
   "source": [
    "Ответ:\n",
    "+ A -> b1 > 0 ; b0 > 0\n",
    "+ Б -> b1 > 0 ; b0 < 0\n",
    "+ В -> b1 < 0 ; b0 > 0"
   ]
  },
  {
   "cell_type": "markdown",
   "metadata": {},
   "source": [
    "# Задание 11\n",
    "___\n",
    "Укажите верные высказывания:\n",
    "+ Мы рассчитываем коэффициенты регрессионной прямой таким образом, чтобы минимизировать сумму квадратов остатков\n",
    "+ Коэффициент b1 всегда равен коэффициенту корреляции\n",
    "+ Если коэффициент корреляции между двумя переменными равен нулю, и обе переменные представлены в z - значениях, то уравнение регрессии примет вид y = 0\n",
    "+ Мы рассчитываем коэффициенты регрессионной прямой таким образом, чтобы максимизировать сумму квадратов остатков"
   ]
  },
  {
   "cell_type": "markdown",
   "metadata": {},
   "source": [
    "Ответ:\n",
    "+ Мы рассчитываем коэффициенты регрессионной прямой таким образом, чтобы минимизировать сумму квадратов остатков\n",
    "+ Если коэффициент корреляции между двумя переменными равен нулю, и обе переменные представлены в z - значениях, то уравнение регрессии примет вид y = 0"
   ]
  },
  {
   "cell_type": "markdown",
   "metadata": {},
   "source": [
    "# Задание 12\n",
    "___\n",
    "На графике изображена зависимость двух количественных переменных X и Y. Рассчитайте коэффициент b1 для регрессионной прямой, если коэффициент детерминации равен 0.25:\n",
    "\n",
    "Среднее первой группы: 15\n",
    "\n",
    "Дисперсия: 25\n",
    "\n",
    "Среднее второй группы: 10\n",
    "\n",
    "Дисперсия: 36\n",
    "![](https://ucarecdn.com/e327a245-3795-4f0a-b52c-f223019e9079/)"
   ]
  },
  {
   "cell_type": "markdown",
   "metadata": {},
   "source": [
    "Ответ: 0.6"
   ]
  },
  {
   "cell_type": "markdown",
   "metadata": {},
   "source": [
    "# Задание 13\n",
    "___\n",
    "Проверяя нулевую гипотезу об отсутствии взаимосвязи двух наших переменных, мы применяем t-критерий:\n",
    "+ для проверки гипотезы о том, что в генеральной совокупности b1 = 0\n",
    "+ для проверки гипотезы о том, что в генеральной совокупности b1 < 0\n",
    "+ для проверки гипотезы о том, что в генеральной совокупности b0 > 0\n",
    "+ для проверки гипотезы о том, что в генеральной совокупности b0 = 0"
   ]
  },
  {
   "cell_type": "markdown",
   "metadata": {},
   "source": [
    "Ответ:\n",
    "для проверки гипотезы о том, что в генеральной совокупности b1 = 0"
   ]
  },
  {
   "cell_type": "markdown",
   "metadata": {},
   "source": [
    "# Задание 14\n",
    "___\n",
    "Отклонив нулевую гипотезу о том, что b1 = 0, мы можем сделать следующий вывод:\n",
    "+ Обнаружена значимая взаимосвязь двух переменных\n",
    "+ Коэффициент корреляции между двумя переменными обязательно больше нуля\n",
    "+ Коэффициент корреляции между двумя переменными обязательно меньше нуля\n",
    "+ Регрессионная прямая пересекает ось Y выше нуля\n",
    "+ Обнаружена причинно-следственная связь между зависимой и независимой переменной"
   ]
  },
  {
   "cell_type": "markdown",
   "metadata": {},
   "source": [
    "Ответ:\n",
    "Обнаружена значимая взаимосвязь двух переменных"
   ]
  },
  {
   "cell_type": "markdown",
   "metadata": {},
   "source": [
    "# Задание 15\n",
    "___\n",
    "Укажите верные высказывания:\n",
    "+ Если коэффициент детерминации равен нулю, то и коэффициент b0 (intercept) также равен нулю\n",
    "+ Коэффициент детерминации может быть равен единице только в том случае, если корреляция между переменными положительная и равна 1\n",
    "+ Чем больше коэффициент детерминации, тем большая часть дисперсии зависимой переменной обусловлена взаимосвязью с независимой переменной\n",
    "+ Если коэффициент детерминации равен нулю, то и коэффициент b1 (slope) также равен нулю"
   ]
  },
  {
   "cell_type": "markdown",
   "metadata": {},
   "source": [
    "Ответ:\n",
    "+ Чем больше коэффициент детерминации, тем большая часть дисперсии зависимой переменной обусловлена взаимосвязью с независимой переменной\n",
    "+ Если коэффициент детерминации равен нулю, то и коэффициент b1 (slope) также равен нулю"
   ]
  },
  {
   "cell_type": "markdown",
   "metadata": {},
   "source": [
    "# Задание 16\n",
    "___\n",
    "В случае линейной взаимосвязи двух переменных распределение остатков"
   ]
  },
  {
   "cell_type": "markdown",
   "metadata": {},
   "source": [
    "Ответ: будет стремиться к нормальному со средним значением, приблизительно равным нулю."
   ]
  },
  {
   "cell_type": "markdown",
   "metadata": {},
   "source": [
    "# Задание 17\n",
    "___\n",
    "Гомоскедастичность – это:"
   ]
  },
  {
   "cell_type": "markdown",
   "metadata": {},
   "source": [
    "Ответ: одинаковая изменчивость зависимой переменной на всех уровнях независимой переменной (постоянная изменчивость остатков)"
   ]
  },
  {
   "cell_type": "markdown",
   "metadata": {},
   "source": [
    "# Задание 18\n",
    "___\n",
    "Исследователь построил несколько регрессионных моделей. На графиках изображено распределение остатков. Как вы считаете, какой график соответствует модели, в которой взаимосвязь двух переменных линейная и выполнено требование гомоскедастичности?\n",
    "![](https://storage.yandexcloud.net/klms-public/production/learning-content/28/375/2907/8942/35489/image.png)"
   ]
  },
  {
   "cell_type": "markdown",
   "metadata": {},
   "source": [
    "Ответ: В"
   ]
  },
  {
   "cell_type": "markdown",
   "metadata": {},
   "source": [
    "# Задание 19\n",
    "___\n",
    "Если в нашей модели коэффициент b1 оказался не равен нулю,  означает ли это, что обнаружена статистически значимая взаимосвязь (p < 0.05) между исследуемыми переменными?"
   ]
  },
  {
   "cell_type": "markdown",
   "metadata": {},
   "source": [
    "Ответ: Нет, коэффициент b1, не равный нулю, не всегда означает, что мы отклоняем нулевую гипотезу"
   ]
  },
  {
   "cell_type": "markdown",
   "metadata": {},
   "source": [
    "# Задание 20\n",
    "___\n",
    "На графиках изображено распределение остатков. \n",
    "\n",
    "Верхний график: распределение остатков на различных уровнях независимой переменной\n",
    "Нижний график: qq-plot для остатков. \n",
    "\n",
    "![](https://ucarecdn.com/81d8b0e4-db70-4c51-927a-54e65c3b7002/)\n",
    "![](https://ucarecdn.com/406733fc-0738-4951-a31b-3916ba209d7b/-/crop/513x327/0,0/-/preview/)\n",
    "\n",
    "Основываясь на этих данных, можно заключить, что:"
   ]
  },
  {
   "cell_type": "markdown",
   "metadata": {},
   "source": [
    "Ответ: \n",
    "В целом требования гомоскедастичности и нормальности распределения остатков выполнены (хотя и присутствуют заметные положительные отклонения от нуля)"
   ]
  },
  {
   "cell_type": "markdown",
   "metadata": {},
   "source": [
    "# Задание 21\n",
    "___\n",
    "В таблице представлены результаты исследования, посвященного взаимосвязи кровяного давления и возраста у людей в возрасте от 45 до 70 лет.\n",
    "\n",
    "![](https://ucarecdn.com/54058ac3-915a-4064-9213-3e897d9aa368/)\n",
    "\n",
    "Исследователи применили регрессионный анализ, где в качестве зависимой переменной выступало кровяное давление (pressure), а в качестве независимой переменной – возраст пациентов (age). Согласно полученным результатам, уравнение регрессии будет выглядеть следующим образом:"
   ]
  },
  {
   "cell_type": "markdown",
   "metadata": {},
   "source": [
    "Ответ: Pressure = 58.7 + 1.46*Age"
   ]
  },
  {
   "cell_type": "markdown",
   "metadata": {},
   "source": [
    "# Задание 22\n",
    "___\n",
    "![](https://ucarecdn.com/54058ac3-915a-4064-9213-3e897d9aa368/)\n",
    "Основываясь на результатах исследования, укажите верные утверждения:\n",
    "+ С каждым единичным положительным изменением независимой переменной (возраста), ожидаемые значения зависимой переменной (давления) уменьшаются на 58.7\n",
    "+ С каждым единичным положительным изменением независимой переменной (возраста), ожидаемые значения зависимой переменной (давления) увеличиваются на 1.46\n",
    "+ Обнаружена статистически значимая положительная взаимосвязь исследуемых переменных\n",
    "+ Обнаружена статистически значимая отрицательная взаимосвязь исследуемых переменных"
   ]
  },
  {
   "cell_type": "markdown",
   "metadata": {},
   "source": [
    "Ответ:\n",
    "+ С каждым единичным положительным изменением независимой переменной (возраста), ожидаемые значения зависимой переменной (давления) увеличиваются на 1.46\n",
    "+ Обнаружена статистически значимая положительная взаимосвязь исследуемых переменных"
   ]
  },
  {
   "cell_type": "markdown",
   "metadata": {},
   "source": [
    "# Задание 23\n",
    "___\n",
    "![](https://ucarecdn.com/54058ac3-915a-4064-9213-3e897d9aa368/)\n",
    "В данном исследовании коэффициент детерминации оказался равен 0.95. Как мы можем проинтерпретировать этот результат? Укажите все верные высказывания:\n",
    "+ 95% изменчивости зависимой переменной (давление) объясняется нашей моделью\n",
    "+ Коэффициент корреляции между нашими переменными близок к 1\n",
    "+ Коэффициент корреляции между нашими переменными близок к -1\n",
    "+ Почти все точки лежат очень близко к регрессионной прямой\n",
    "+ Коэффициент корреляции между переменными близок к 1 или к -1 (но для однозначного ответа недостаточно данных)"
   ]
  },
  {
   "cell_type": "markdown",
   "metadata": {},
   "source": [
    "Ответ:\n",
    "+ 95% изменчивости зависимой переменной (давление) объясняется нашей моделью\n",
    "+ Коэффициент корреляции между нашими переменными близок к 1\n",
    "+ Почти все точки лежат очень близко к регрессионной прямой"
   ]
  },
  {
   "cell_type": "code",
   "execution_count": null,
   "metadata": {},
   "outputs": [],
   "source": []
  }
 ],
 "metadata": {
  "kernelspec": {
   "display_name": "Python 3",
   "language": "python",
   "name": "python3"
  },
  "language_info": {
   "codemirror_mode": {
    "name": "ipython",
    "version": 3
   },
   "file_extension": ".py",
   "mimetype": "text/x-python",
   "name": "python",
   "nbconvert_exporter": "python",
   "pygments_lexer": "ipython3",
   "version": "3.7.3"
  }
 },
 "nbformat": 4,
 "nbformat_minor": 4
}
