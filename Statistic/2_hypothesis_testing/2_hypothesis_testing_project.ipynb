{
 "cells": [
  {
   "cell_type": "markdown",
   "metadata": {},
   "source": [
    "# Блок №2 Проект"
   ]
  },
  {
   "cell_type": "markdown",
   "metadata": {},
   "source": [
    "В этом мини-проекте мы посчитаем несколько продуктовых метрик и посмотрим, какие распределения могут встретиться на практике :)\n",
    "\n",
    "# Задание\n",
    "1. Загрузите [данные](https://disk.yandex.ru/d/Kl4mPINblwnJCA), проверьте число наблюдений и столбцов, типы данных, наличие пропущенных значений, какие уникальные значения встречаются.\n",
    "2. Постройте график распределения числа показов (`Impressions`) для каждой рекламы, прологарифмировав значения.\n",
    "3. Создайте новую колонку c `CTR`. Посмотрите на описательные статистики и распределение.\n",
    "4. Проанализируйте `CTR` с разбивкой по рекламной кампании.\n",
    "5. Посчитайте стоимость за клик пользователя по объявлению (`CPC`). Изучите полученные значения, используя меры центральной тенденции и меры изменчивости. \n",
    "6. Визуализируйте `CPC` с разбивкой по полу пользователей, которым были показаны объявления. \n",
    "7. Посчитайте конверсию из клика в покупку.\n",
    "\n",
    "# Описание данных\n",
    "+ `ad_id – идентификатор объявления (рекламы)\n",
    "+ `xyz_campaign_id` – идентификатор рекламной кампании в базе компании X\n",
    "+ `fb_campaign_id` – идентификатор кампании в Facebook\n",
    "+ `age` – возрастная группа, которой показывалась реклама\n",
    "+ `gender` – пол тех, кому показывалась реклама\n",
    "+ `interest` –код, указывающий категорию, к которой относится интерес пользователя (соответствие число – интерес)\n",
    "+ `impressions` – число показов\n",
    "+ `clicks` – число кликов\n",
    "+ `spent` – сумма, которую компания потратила на показ объявления \n",
    "+ `total_conversion` – количество людей, которые заинтересовались продуктом после просмотра рекламы\n",
    "+ `approved_conversion` – количество людей, которые купили продукт после просмотра рекламы"
   ]
  },
  {
   "cell_type": "code",
   "execution_count": 1,
   "metadata": {},
   "outputs": [],
   "source": [
    "# Импортируем библиотеки\n",
    "import pandas as pd\n",
    "import numpy as np\n",
    "\n",
    "import scipy.stats as ss\n",
    "\n",
    "import seaborn as sns\n",
    "import matplotlib.pyplot as plt\n",
    "\n",
    "sns.set(rc={'figure.figsize':(16, 6)}, style='whitegrid')"
   ]
  },
  {
   "cell_type": "markdown",
   "metadata": {},
   "source": [
    "# Задача №1\n",
    "___\n",
    "Загрузите [данные](https://disk.yandex.ru/d/Kl4mPINblwnJCA), проверьте число наблюдений и столбцов, типы данных, наличие пропущенных значений, какие уникальные значения встречаются.\n",
    "\n",
    "Сколько уникальных рекламных кампаний было проведено? "
   ]
  },
  {
   "cell_type": "code",
   "execution_count": 11,
   "metadata": {},
   "outputs": [],
   "source": [
    "# Загрузим данные\n",
    "conv = pd.read_csv('/home/jupyter-a.stamati-16/Statistic/conversion.csv')"
   ]
  },
  {
   "cell_type": "code",
   "execution_count": 12,
   "metadata": {},
   "outputs": [
    {
     "data": {
      "text/html": [
       "<div>\n",
       "<style scoped>\n",
       "    .dataframe tbody tr th:only-of-type {\n",
       "        vertical-align: middle;\n",
       "    }\n",
       "\n",
       "    .dataframe tbody tr th {\n",
       "        vertical-align: top;\n",
       "    }\n",
       "\n",
       "    .dataframe thead th {\n",
       "        text-align: right;\n",
       "    }\n",
       "</style>\n",
       "<table border=\"1\" class=\"dataframe\">\n",
       "  <thead>\n",
       "    <tr style=\"text-align: right;\">\n",
       "      <th></th>\n",
       "      <th>ad_id</th>\n",
       "      <th>xyz_campaign_id</th>\n",
       "      <th>fb_campaign_id</th>\n",
       "      <th>age</th>\n",
       "      <th>gender</th>\n",
       "      <th>interest</th>\n",
       "      <th>Impressions</th>\n",
       "      <th>Clicks</th>\n",
       "      <th>Spent</th>\n",
       "      <th>Total_Conversion</th>\n",
       "      <th>Approved_Conversion</th>\n",
       "    </tr>\n",
       "  </thead>\n",
       "  <tbody>\n",
       "    <tr>\n",
       "      <th>0</th>\n",
       "      <td>708746</td>\n",
       "      <td>916</td>\n",
       "      <td>103916</td>\n",
       "      <td>30-34</td>\n",
       "      <td>M</td>\n",
       "      <td>15</td>\n",
       "      <td>7350</td>\n",
       "      <td>1</td>\n",
       "      <td>1.43</td>\n",
       "      <td>2</td>\n",
       "      <td>1</td>\n",
       "    </tr>\n",
       "    <tr>\n",
       "      <th>1</th>\n",
       "      <td>708749</td>\n",
       "      <td>916</td>\n",
       "      <td>103917</td>\n",
       "      <td>30-34</td>\n",
       "      <td>M</td>\n",
       "      <td>16</td>\n",
       "      <td>17861</td>\n",
       "      <td>2</td>\n",
       "      <td>1.82</td>\n",
       "      <td>2</td>\n",
       "      <td>0</td>\n",
       "    </tr>\n",
       "    <tr>\n",
       "      <th>2</th>\n",
       "      <td>708771</td>\n",
       "      <td>916</td>\n",
       "      <td>103920</td>\n",
       "      <td>30-34</td>\n",
       "      <td>M</td>\n",
       "      <td>20</td>\n",
       "      <td>693</td>\n",
       "      <td>0</td>\n",
       "      <td>0.00</td>\n",
       "      <td>1</td>\n",
       "      <td>0</td>\n",
       "    </tr>\n",
       "    <tr>\n",
       "      <th>3</th>\n",
       "      <td>708815</td>\n",
       "      <td>916</td>\n",
       "      <td>103928</td>\n",
       "      <td>30-34</td>\n",
       "      <td>M</td>\n",
       "      <td>28</td>\n",
       "      <td>4259</td>\n",
       "      <td>1</td>\n",
       "      <td>1.25</td>\n",
       "      <td>1</td>\n",
       "      <td>0</td>\n",
       "    </tr>\n",
       "    <tr>\n",
       "      <th>4</th>\n",
       "      <td>708818</td>\n",
       "      <td>916</td>\n",
       "      <td>103928</td>\n",
       "      <td>30-34</td>\n",
       "      <td>M</td>\n",
       "      <td>28</td>\n",
       "      <td>4133</td>\n",
       "      <td>1</td>\n",
       "      <td>1.29</td>\n",
       "      <td>1</td>\n",
       "      <td>1</td>\n",
       "    </tr>\n",
       "  </tbody>\n",
       "</table>\n",
       "</div>"
      ],
      "text/plain": [
       "    ad_id  xyz_campaign_id  fb_campaign_id    age gender  interest  \\\n",
       "0  708746              916          103916  30-34      M        15   \n",
       "1  708749              916          103917  30-34      M        16   \n",
       "2  708771              916          103920  30-34      M        20   \n",
       "3  708815              916          103928  30-34      M        28   \n",
       "4  708818              916          103928  30-34      M        28   \n",
       "\n",
       "   Impressions  Clicks  Spent  Total_Conversion  Approved_Conversion  \n",
       "0         7350       1   1.43                 2                    1  \n",
       "1        17861       2   1.82                 2                    0  \n",
       "2          693       0   0.00                 1                    0  \n",
       "3         4259       1   1.25                 1                    0  \n",
       "4         4133       1   1.29                 1                    1  "
      ]
     },
     "execution_count": 12,
     "metadata": {},
     "output_type": "execute_result"
    }
   ],
   "source": [
    "# Посмотрим на данные\n",
    "conv.head()"
   ]
  },
  {
   "cell_type": "code",
   "execution_count": 4,
   "metadata": {},
   "outputs": [
    {
     "data": {
      "text/plain": [
       "(1143, 11)"
      ]
     },
     "execution_count": 4,
     "metadata": {},
     "output_type": "execute_result"
    }
   ],
   "source": [
    "# Посмотрми на размер таблицы\n",
    "conv.shape"
   ]
  },
  {
   "cell_type": "code",
   "execution_count": 5,
   "metadata": {},
   "outputs": [
    {
     "data": {
      "text/plain": [
       "ad_id                    int64\n",
       "xyz_campaign_id          int64\n",
       "fb_campaign_id           int64\n",
       "age                     object\n",
       "gender                  object\n",
       "interest                 int64\n",
       "Impressions              int64\n",
       "Clicks                   int64\n",
       "Spent                  float64\n",
       "Total_Conversion         int64\n",
       "Approved_Conversion      int64\n",
       "dtype: object"
      ]
     },
     "execution_count": 5,
     "metadata": {},
     "output_type": "execute_result"
    }
   ],
   "source": [
    "# Посмотрим на тип дынных\n",
    "conv.dtypes"
   ]
  },
  {
   "cell_type": "code",
   "execution_count": 6,
   "metadata": {},
   "outputs": [
    {
     "data": {
      "text/plain": [
       "ad_id                  0\n",
       "xyz_campaign_id        0\n",
       "fb_campaign_id         0\n",
       "age                    0\n",
       "gender                 0\n",
       "interest               0\n",
       "Impressions            0\n",
       "Clicks                 0\n",
       "Spent                  0\n",
       "Total_Conversion       0\n",
       "Approved_Conversion    0\n",
       "dtype: int64"
      ]
     },
     "execution_count": 6,
     "metadata": {},
     "output_type": "execute_result"
    }
   ],
   "source": [
    "# Проверим наличие пропущенных значений\n",
    "conv.isna().sum()"
   ]
  },
  {
   "cell_type": "code",
   "execution_count": 7,
   "metadata": {},
   "outputs": [
    {
     "data": {
      "text/plain": [
       "ad_id                  1143\n",
       "xyz_campaign_id           3\n",
       "fb_campaign_id          691\n",
       "age                       4\n",
       "gender                    2\n",
       "interest                 40\n",
       "Impressions            1130\n",
       "Clicks                  183\n",
       "Spent                   869\n",
       "Total_Conversion         32\n",
       "Approved_Conversion      16\n",
       "dtype: int64"
      ]
     },
     "execution_count": 7,
     "metadata": {},
     "output_type": "execute_result"
    }
   ],
   "source": [
    "# Посмотрим на количество униклаьных значений в колонках\n",
    "conv.nunique()"
   ]
  },
  {
   "cell_type": "code",
   "execution_count": 13,
   "metadata": {},
   "outputs": [
    {
     "data": {
      "text/plain": [
       "3"
      ]
     },
     "execution_count": 13,
     "metadata": {},
     "output_type": "execute_result"
    }
   ],
   "source": [
    "# Найдем ответ на задачу\n",
    "conv.nunique().loc['xyz_campaign_id']"
   ]
  },
  {
   "cell_type": "markdown",
   "metadata": {},
   "source": [
    "# Задание №2\n",
    "___\n",
    "Посмотрите на данные и их описание. Соотнесите названия переменных с соответствующим типом данных."
   ]
  },
  {
   "cell_type": "code",
   "execution_count": 14,
   "metadata": {},
   "outputs": [
    {
     "data": {
      "text/html": [
       "<div>\n",
       "<style scoped>\n",
       "    .dataframe tbody tr th:only-of-type {\n",
       "        vertical-align: middle;\n",
       "    }\n",
       "\n",
       "    .dataframe tbody tr th {\n",
       "        vertical-align: top;\n",
       "    }\n",
       "\n",
       "    .dataframe thead th {\n",
       "        text-align: right;\n",
       "    }\n",
       "</style>\n",
       "<table border=\"1\" class=\"dataframe\">\n",
       "  <thead>\n",
       "    <tr style=\"text-align: right;\">\n",
       "      <th></th>\n",
       "      <th>ad_id</th>\n",
       "      <th>xyz_campaign_id</th>\n",
       "      <th>fb_campaign_id</th>\n",
       "      <th>age</th>\n",
       "      <th>gender</th>\n",
       "      <th>interest</th>\n",
       "      <th>Impressions</th>\n",
       "      <th>Clicks</th>\n",
       "      <th>Spent</th>\n",
       "      <th>Total_Conversion</th>\n",
       "      <th>Approved_Conversion</th>\n",
       "    </tr>\n",
       "  </thead>\n",
       "  <tbody>\n",
       "    <tr>\n",
       "      <th>0</th>\n",
       "      <td>708746</td>\n",
       "      <td>916</td>\n",
       "      <td>103916</td>\n",
       "      <td>30-34</td>\n",
       "      <td>M</td>\n",
       "      <td>15</td>\n",
       "      <td>7350</td>\n",
       "      <td>1</td>\n",
       "      <td>1.43</td>\n",
       "      <td>2</td>\n",
       "      <td>1</td>\n",
       "    </tr>\n",
       "    <tr>\n",
       "      <th>1</th>\n",
       "      <td>708749</td>\n",
       "      <td>916</td>\n",
       "      <td>103917</td>\n",
       "      <td>30-34</td>\n",
       "      <td>M</td>\n",
       "      <td>16</td>\n",
       "      <td>17861</td>\n",
       "      <td>2</td>\n",
       "      <td>1.82</td>\n",
       "      <td>2</td>\n",
       "      <td>0</td>\n",
       "    </tr>\n",
       "    <tr>\n",
       "      <th>2</th>\n",
       "      <td>708771</td>\n",
       "      <td>916</td>\n",
       "      <td>103920</td>\n",
       "      <td>30-34</td>\n",
       "      <td>M</td>\n",
       "      <td>20</td>\n",
       "      <td>693</td>\n",
       "      <td>0</td>\n",
       "      <td>0.00</td>\n",
       "      <td>1</td>\n",
       "      <td>0</td>\n",
       "    </tr>\n",
       "    <tr>\n",
       "      <th>3</th>\n",
       "      <td>708815</td>\n",
       "      <td>916</td>\n",
       "      <td>103928</td>\n",
       "      <td>30-34</td>\n",
       "      <td>M</td>\n",
       "      <td>28</td>\n",
       "      <td>4259</td>\n",
       "      <td>1</td>\n",
       "      <td>1.25</td>\n",
       "      <td>1</td>\n",
       "      <td>0</td>\n",
       "    </tr>\n",
       "    <tr>\n",
       "      <th>4</th>\n",
       "      <td>708818</td>\n",
       "      <td>916</td>\n",
       "      <td>103928</td>\n",
       "      <td>30-34</td>\n",
       "      <td>M</td>\n",
       "      <td>28</td>\n",
       "      <td>4133</td>\n",
       "      <td>1</td>\n",
       "      <td>1.29</td>\n",
       "      <td>1</td>\n",
       "      <td>1</td>\n",
       "    </tr>\n",
       "  </tbody>\n",
       "</table>\n",
       "</div>"
      ],
      "text/plain": [
       "    ad_id  xyz_campaign_id  fb_campaign_id    age gender  interest  \\\n",
       "0  708746              916          103916  30-34      M        15   \n",
       "1  708749              916          103917  30-34      M        16   \n",
       "2  708771              916          103920  30-34      M        20   \n",
       "3  708815              916          103928  30-34      M        28   \n",
       "4  708818              916          103928  30-34      M        28   \n",
       "\n",
       "   Impressions  Clicks  Spent  Total_Conversion  Approved_Conversion  \n",
       "0         7350       1   1.43                 2                    1  \n",
       "1        17861       2   1.82                 2                    0  \n",
       "2          693       0   0.00                 1                    0  \n",
       "3         4259       1   1.25                 1                    0  \n",
       "4         4133       1   1.29                 1                    1  "
      ]
     },
     "execution_count": 14,
     "metadata": {},
     "output_type": "execute_result"
    }
   ],
   "source": [
    "conv.head()"
   ]
  },
  {
   "cell_type": "markdown",
   "metadata": {},
   "source": [
    "Ответ:\n",
    "![](https://sun9-66.userapi.com/impg/LQnCXZbXm-_3bBLvCirO4qNVwxKuewp4PjZLjQ/Vtkx9iHwMdI.jpg?size=567x341&quality=96&sign=2ca1490e65e1f3a355afe4b18eef02ac&type=album)"
   ]
  },
  {
   "cell_type": "markdown",
   "metadata": {},
   "source": [
    "# Задание №3\n",
    "\n",
    "Постройте график распределения числа показов (`Impressions` – сколько раз пользователи увидели данное объявление) для каждой рекламной кампании в Facebook, прологарифмировав значения. Выберите верные утверждения:\n",
    "+ Распределение симметричное\n",
    "+ Полученное распределение является нормальным\n",
    "+ Распределение унимодальное\n",
    "+ Полученное распределение не является нормальным\n",
    "+ Распределение бимодальное"
   ]
  },
  {
   "cell_type": "code",
   "execution_count": 20,
   "metadata": {},
   "outputs": [
    {
     "data": {
      "text/html": [
       "<div>\n",
       "<style scoped>\n",
       "    .dataframe tbody tr th:only-of-type {\n",
       "        vertical-align: middle;\n",
       "    }\n",
       "\n",
       "    .dataframe tbody tr th {\n",
       "        vertical-align: top;\n",
       "    }\n",
       "\n",
       "    .dataframe thead th {\n",
       "        text-align: right;\n",
       "    }\n",
       "</style>\n",
       "<table border=\"1\" class=\"dataframe\">\n",
       "  <thead>\n",
       "    <tr style=\"text-align: right;\">\n",
       "      <th></th>\n",
       "      <th>Impressions</th>\n",
       "    </tr>\n",
       "    <tr>\n",
       "      <th>fb_campaign_id</th>\n",
       "      <th></th>\n",
       "    </tr>\n",
       "  </thead>\n",
       "  <tbody>\n",
       "    <tr>\n",
       "      <th>103916</th>\n",
       "      <td>8.902456</td>\n",
       "    </tr>\n",
       "    <tr>\n",
       "      <th>103917</th>\n",
       "      <td>9.790375</td>\n",
       "    </tr>\n",
       "    <tr>\n",
       "      <th>103920</th>\n",
       "      <td>6.541030</td>\n",
       "    </tr>\n",
       "    <tr>\n",
       "      <th>103928</th>\n",
       "      <td>9.035034</td>\n",
       "    </tr>\n",
       "    <tr>\n",
       "      <th>103929</th>\n",
       "      <td>7.557473</td>\n",
       "    </tr>\n",
       "  </tbody>\n",
       "</table>\n",
       "</div>"
      ],
      "text/plain": [
       "                Impressions\n",
       "fb_campaign_id             \n",
       "103916             8.902456\n",
       "103917             9.790375\n",
       "103920             6.541030\n",
       "103928             9.035034\n",
       "103929             7.557473"
      ]
     },
     "execution_count": 20,
     "metadata": {},
     "output_type": "execute_result"
    }
   ],
   "source": [
    "conv_log = conv \\\n",
    "        .groupby('fb_campaign_id') \\\n",
    "        .agg({'Impressions' : 'sum'}) \\\n",
    "        .apply(lambda x: np.log(x))\n",
    "\n",
    "conv_log.head()"
   ]
  },
  {
   "cell_type": "code",
   "execution_count": 21,
   "metadata": {},
   "outputs": [
    {
     "name": "stderr",
     "output_type": "stream",
     "text": [
      "/opt/tljh/user/lib/python3.7/site-packages/seaborn/distributions.py:2557: FutureWarning: `distplot` is a deprecated function and will be removed in a future version. Please adapt your code to use either `displot` (a figure-level function with similar flexibility) or `histplot` (an axes-level function for histograms).\n",
      "  warnings.warn(msg, FutureWarning)\n"
     ]
    },
    {
     "data": {
      "image/png": "[encoded data removed]",
      "text/plain": [
       "<Figure size 1152x432 with 1 Axes>"
      ]
     },
     "metadata": {},
     "output_type": "display_data"
    }
   ],
   "source": [
    "sns.distplot(conv_log, kde=False, bins=50);"
   ]
  },
  {
   "cell_type": "code",
   "execution_count": 23,
   "metadata": {},
   "outputs": [],
   "source": [
    "# Еще один способ\n",
    "# sns.distplot(np.log(conv.groupby('fb_campaign_id').Impressions.sum()), kde=False, bins=50);"
   ]
  },
  {
   "cell_type": "markdown",
   "metadata": {},
   "source": [
    "Ответ:\n",
    "+ Полученное распределение не является нормальным\n",
    "+ Распределение бимодальное"
   ]
  },
  {
   "cell_type": "markdown",
   "metadata": {},
   "source": [
    "# Задание №4\n",
    "___\n",
    "Теперь посчитаем ещё несколько полезных метрик. Первая – `CTR` (click-through rate), которая показывает кликабельность, т.е. отношение числа кликов к количеству показов.\n",
    "\n",
    "$CTR=\\frac{clicks}{impressions}$\n",
    "\n",
    "Создайте новую колонку, затем посмотрите на описательные статистики. В качестве ответа укажите ad_id объявления с наибольшим CTR."
   ]
  },
  {
   "cell_type": "code",
   "execution_count": 28,
   "metadata": {},
   "outputs": [],
   "source": [
    "# Зададим новую колонку с показателем CTR\n",
    "conv['ctr'] = conv['Clicks'] /conv['Impressions']"
   ]
  },
  {
   "cell_type": "code",
   "execution_count": 31,
   "metadata": {},
   "outputs": [
    {
     "data": {
      "text/plain": [
       "count    1143.000000\n",
       "mean        0.000164\n",
       "std         0.000115\n",
       "min         0.000000\n",
       "25%         0.000100\n",
       "50%         0.000160\n",
       "75%         0.000234\n",
       "max         0.001059\n",
       "Name: ctr, dtype: float64"
      ]
     },
     "execution_count": 31,
     "metadata": {},
     "output_type": "execute_result"
    }
   ],
   "source": [
    "conv.ctr.describe()"
   ]
  },
  {
   "cell_type": "code",
   "execution_count": 29,
   "metadata": {},
   "outputs": [
    {
     "data": {
      "text/html": [
       "<div>\n",
       "<style scoped>\n",
       "    .dataframe tbody tr th:only-of-type {\n",
       "        vertical-align: middle;\n",
       "    }\n",
       "\n",
       "    .dataframe tbody tr th {\n",
       "        vertical-align: top;\n",
       "    }\n",
       "\n",
       "    .dataframe thead th {\n",
       "        text-align: right;\n",
       "    }\n",
       "</style>\n",
       "<table border=\"1\" class=\"dataframe\">\n",
       "  <thead>\n",
       "    <tr style=\"text-align: right;\">\n",
       "      <th></th>\n",
       "      <th>ad_id</th>\n",
       "      <th>xyz_campaign_id</th>\n",
       "      <th>fb_campaign_id</th>\n",
       "      <th>age</th>\n",
       "      <th>gender</th>\n",
       "      <th>interest</th>\n",
       "      <th>Impressions</th>\n",
       "      <th>Clicks</th>\n",
       "      <th>Spent</th>\n",
       "      <th>Total_Conversion</th>\n",
       "      <th>Approved_Conversion</th>\n",
       "      <th>ctr</th>\n",
       "    </tr>\n",
       "  </thead>\n",
       "  <tbody>\n",
       "    <tr>\n",
       "      <th>0</th>\n",
       "      <td>708746</td>\n",
       "      <td>916</td>\n",
       "      <td>103916</td>\n",
       "      <td>30-34</td>\n",
       "      <td>M</td>\n",
       "      <td>15</td>\n",
       "      <td>7350</td>\n",
       "      <td>1</td>\n",
       "      <td>1.43</td>\n",
       "      <td>2</td>\n",
       "      <td>1</td>\n",
       "      <td>0.000136</td>\n",
       "    </tr>\n",
       "    <tr>\n",
       "      <th>1</th>\n",
       "      <td>708749</td>\n",
       "      <td>916</td>\n",
       "      <td>103917</td>\n",
       "      <td>30-34</td>\n",
       "      <td>M</td>\n",
       "      <td>16</td>\n",
       "      <td>17861</td>\n",
       "      <td>2</td>\n",
       "      <td>1.82</td>\n",
       "      <td>2</td>\n",
       "      <td>0</td>\n",
       "      <td>0.000112</td>\n",
       "    </tr>\n",
       "    <tr>\n",
       "      <th>2</th>\n",
       "      <td>708771</td>\n",
       "      <td>916</td>\n",
       "      <td>103920</td>\n",
       "      <td>30-34</td>\n",
       "      <td>M</td>\n",
       "      <td>20</td>\n",
       "      <td>693</td>\n",
       "      <td>0</td>\n",
       "      <td>0.00</td>\n",
       "      <td>1</td>\n",
       "      <td>0</td>\n",
       "      <td>0.000000</td>\n",
       "    </tr>\n",
       "    <tr>\n",
       "      <th>3</th>\n",
       "      <td>708815</td>\n",
       "      <td>916</td>\n",
       "      <td>103928</td>\n",
       "      <td>30-34</td>\n",
       "      <td>M</td>\n",
       "      <td>28</td>\n",
       "      <td>4259</td>\n",
       "      <td>1</td>\n",
       "      <td>1.25</td>\n",
       "      <td>1</td>\n",
       "      <td>0</td>\n",
       "      <td>0.000235</td>\n",
       "    </tr>\n",
       "    <tr>\n",
       "      <th>4</th>\n",
       "      <td>708818</td>\n",
       "      <td>916</td>\n",
       "      <td>103928</td>\n",
       "      <td>30-34</td>\n",
       "      <td>M</td>\n",
       "      <td>28</td>\n",
       "      <td>4133</td>\n",
       "      <td>1</td>\n",
       "      <td>1.29</td>\n",
       "      <td>1</td>\n",
       "      <td>1</td>\n",
       "      <td>0.000242</td>\n",
       "    </tr>\n",
       "  </tbody>\n",
       "</table>\n",
       "</div>"
      ],
      "text/plain": [
       "    ad_id  xyz_campaign_id  fb_campaign_id    age gender  interest  \\\n",
       "0  708746              916          103916  30-34      M        15   \n",
       "1  708749              916          103917  30-34      M        16   \n",
       "2  708771              916          103920  30-34      M        20   \n",
       "3  708815              916          103928  30-34      M        28   \n",
       "4  708818              916          103928  30-34      M        28   \n",
       "\n",
       "   Impressions  Clicks  Spent  Total_Conversion  Approved_Conversion       ctr  \n",
       "0         7350       1   1.43                 2                    1  0.000136  \n",
       "1        17861       2   1.82                 2                    0  0.000112  \n",
       "2          693       0   0.00                 1                    0  0.000000  \n",
       "3         4259       1   1.25                 1                    0  0.000235  \n",
       "4         4133       1   1.29                 1                    1  0.000242  "
      ]
     },
     "execution_count": 29,
     "metadata": {},
     "output_type": "execute_result"
    }
   ],
   "source": [
    "conv.head()"
   ]
  },
  {
   "cell_type": "code",
   "execution_count": 33,
   "metadata": {},
   "outputs": [
    {
     "data": {
      "text/plain": [
       "738637"
      ]
     },
     "execution_count": 33,
     "metadata": {},
     "output_type": "execute_result"
    }
   ],
   "source": [
    "# Отберем нужные данные для ответа\n",
    "conv.loc[conv.ctr.idxmax(), 'ad_id']\n",
    "# conv.iloc[conv.ctr.idxmax()]['ad_id']"
   ]
  },
  {
   "cell_type": "markdown",
   "metadata": {},
   "source": [
    "# Задание №5\n",
    "___\n",
    "Визуализируйте CTR с разбивкой по номеру рекламной кампании (`xyz_campaign_id`). Какому графику соответствует распределение CTR кампании 916?\n",
    "![](https://storage.yandexcloud.net/klms-public/production/learning-content/11/79/614/1768/8104/dfdfd.png)\n",
    "Параметр bins=20"
   ]
  },
  {
   "cell_type": "code",
   "execution_count": 34,
   "metadata": {},
   "outputs": [],
   "source": [
    "conv_for_916 = conv \\\n",
    "                .query('xyz_campaign_id == \"916\"') \\\n",
    "                .ctr"
   ]
  },
  {
   "cell_type": "code",
   "execution_count": 35,
   "metadata": {},
   "outputs": [
    {
     "name": "stderr",
     "output_type": "stream",
     "text": [
      "/opt/tljh/user/lib/python3.7/site-packages/seaborn/distributions.py:2557: FutureWarning: `distplot` is a deprecated function and will be removed in a future version. Please adapt your code to use either `displot` (a figure-level function with similar flexibility) or `histplot` (an axes-level function for histograms).\n",
      "  warnings.warn(msg, FutureWarning)\n"
     ]
    },
    {
     "data": {
      "image/png": "[encoded data removed]",
      "text/plain": [
       "<Figure size 1152x432 with 1 Axes>"
      ]
     },
     "metadata": {},
     "output_type": "display_data"
    }
   ],
   "source": [
    "sns.distplot(conv_for_916, kde=False, bins=20);"
   ]
  },
  {
   "cell_type": "markdown",
   "metadata": {},
   "source": [
    "Ответ:\n",
    "```\n",
    "C\n",
    "```"
   ]
  },
  {
   "cell_type": "markdown",
   "metadata": {},
   "source": [
    "# Задание №6\n",
    "___\n",
    "CPC (cost-per-click) – стоимость за клик пользователя по объявлению. Рассчитывается путём деления суммы потраченных денег на общее число кликов:\n",
    "\n",
    "$CPC=\\frac{spent}{clicks}$ \n",
    "\n",
    "Выведите описательные статистики для новой переменной, посмотрите на форму распределения. В ответе укажите межквартильный размах, округленный до двух знаков после точки.\n",
    "\n",
    "Обратите внимание, что в столбце могут встретиться NaN. Если вы используете функцию `iqr` из `scipy`, то следует указать аргумент `nan_policy='omit'`, чтобы их проигнорировать. При построении графика необходимо использовать метод `.dropna()`."
   ]
  },
  {
   "cell_type": "code",
   "execution_count": 38,
   "metadata": {},
   "outputs": [],
   "source": [
    "# Зададим новую колонку с метрикой CPC\n",
    "conv['cpc'] = conv['Spent'] / conv['Clicks']"
   ]
  },
  {
   "cell_type": "code",
   "execution_count": 39,
   "metadata": {},
   "outputs": [
    {
     "data": {
      "text/html": [
       "<div>\n",
       "<style scoped>\n",
       "    .dataframe tbody tr th:only-of-type {\n",
       "        vertical-align: middle;\n",
       "    }\n",
       "\n",
       "    .dataframe tbody tr th {\n",
       "        vertical-align: top;\n",
       "    }\n",
       "\n",
       "    .dataframe thead th {\n",
       "        text-align: right;\n",
       "    }\n",
       "</style>\n",
       "<table border=\"1\" class=\"dataframe\">\n",
       "  <thead>\n",
       "    <tr style=\"text-align: right;\">\n",
       "      <th></th>\n",
       "      <th>ad_id</th>\n",
       "      <th>xyz_campaign_id</th>\n",
       "      <th>fb_campaign_id</th>\n",
       "      <th>age</th>\n",
       "      <th>gender</th>\n",
       "      <th>interest</th>\n",
       "      <th>Impressions</th>\n",
       "      <th>Clicks</th>\n",
       "      <th>Spent</th>\n",
       "      <th>Total_Conversion</th>\n",
       "      <th>Approved_Conversion</th>\n",
       "      <th>ctr</th>\n",
       "      <th>cpc</th>\n",
       "    </tr>\n",
       "  </thead>\n",
       "  <tbody>\n",
       "    <tr>\n",
       "      <th>0</th>\n",
       "      <td>708746</td>\n",
       "      <td>916</td>\n",
       "      <td>103916</td>\n",
       "      <td>30-34</td>\n",
       "      <td>M</td>\n",
       "      <td>15</td>\n",
       "      <td>7350</td>\n",
       "      <td>1</td>\n",
       "      <td>1.43</td>\n",
       "      <td>2</td>\n",
       "      <td>1</td>\n",
       "      <td>0.000136</td>\n",
       "      <td>1.43</td>\n",
       "    </tr>\n",
       "    <tr>\n",
       "      <th>1</th>\n",
       "      <td>708749</td>\n",
       "      <td>916</td>\n",
       "      <td>103917</td>\n",
       "      <td>30-34</td>\n",
       "      <td>M</td>\n",
       "      <td>16</td>\n",
       "      <td>17861</td>\n",
       "      <td>2</td>\n",
       "      <td>1.82</td>\n",
       "      <td>2</td>\n",
       "      <td>0</td>\n",
       "      <td>0.000112</td>\n",
       "      <td>0.91</td>\n",
       "    </tr>\n",
       "    <tr>\n",
       "      <th>2</th>\n",
       "      <td>708771</td>\n",
       "      <td>916</td>\n",
       "      <td>103920</td>\n",
       "      <td>30-34</td>\n",
       "      <td>M</td>\n",
       "      <td>20</td>\n",
       "      <td>693</td>\n",
       "      <td>0</td>\n",
       "      <td>0.00</td>\n",
       "      <td>1</td>\n",
       "      <td>0</td>\n",
       "      <td>0.000000</td>\n",
       "      <td>NaN</td>\n",
       "    </tr>\n",
       "    <tr>\n",
       "      <th>3</th>\n",
       "      <td>708815</td>\n",
       "      <td>916</td>\n",
       "      <td>103928</td>\n",
       "      <td>30-34</td>\n",
       "      <td>M</td>\n",
       "      <td>28</td>\n",
       "      <td>4259</td>\n",
       "      <td>1</td>\n",
       "      <td>1.25</td>\n",
       "      <td>1</td>\n",
       "      <td>0</td>\n",
       "      <td>0.000235</td>\n",
       "      <td>1.25</td>\n",
       "    </tr>\n",
       "    <tr>\n",
       "      <th>4</th>\n",
       "      <td>708818</td>\n",
       "      <td>916</td>\n",
       "      <td>103928</td>\n",
       "      <td>30-34</td>\n",
       "      <td>M</td>\n",
       "      <td>28</td>\n",
       "      <td>4133</td>\n",
       "      <td>1</td>\n",
       "      <td>1.29</td>\n",
       "      <td>1</td>\n",
       "      <td>1</td>\n",
       "      <td>0.000242</td>\n",
       "      <td>1.29</td>\n",
       "    </tr>\n",
       "  </tbody>\n",
       "</table>\n",
       "</div>"
      ],
      "text/plain": [
       "    ad_id  xyz_campaign_id  fb_campaign_id    age gender  interest  \\\n",
       "0  708746              916          103916  30-34      M        15   \n",
       "1  708749              916          103917  30-34      M        16   \n",
       "2  708771              916          103920  30-34      M        20   \n",
       "3  708815              916          103928  30-34      M        28   \n",
       "4  708818              916          103928  30-34      M        28   \n",
       "\n",
       "   Impressions  Clicks  Spent  Total_Conversion  Approved_Conversion  \\\n",
       "0         7350       1   1.43                 2                    1   \n",
       "1        17861       2   1.82                 2                    0   \n",
       "2          693       0   0.00                 1                    0   \n",
       "3         4259       1   1.25                 1                    0   \n",
       "4         4133       1   1.29                 1                    1   \n",
       "\n",
       "        ctr   cpc  \n",
       "0  0.000136  1.43  \n",
       "1  0.000112  0.91  \n",
       "2  0.000000   NaN  \n",
       "3  0.000235  1.25  \n",
       "4  0.000242  1.29  "
      ]
     },
     "execution_count": 39,
     "metadata": {},
     "output_type": "execute_result"
    }
   ],
   "source": [
    "conv.head()"
   ]
  },
  {
   "cell_type": "code",
   "execution_count": 43,
   "metadata": {},
   "outputs": [
    {
     "data": {
      "text/plain": [
       "count    936.000000\n",
       "mean       1.499347\n",
       "std        0.232879\n",
       "min        0.180000\n",
       "25%        1.390000\n",
       "50%        1.498273\n",
       "75%        1.644364\n",
       "max        2.212000\n",
       "Name: cpc, dtype: float64"
      ]
     },
     "execution_count": 43,
     "metadata": {},
     "output_type": "execute_result"
    }
   ],
   "source": [
    "# Посмотрим на описательную статистику\n",
    "conv.cpc.describe()"
   ]
  },
  {
   "cell_type": "code",
   "execution_count": 44,
   "metadata": {},
   "outputs": [
    {
     "data": {
      "text/plain": [
       "0.25"
      ]
     },
     "execution_count": 44,
     "metadata": {},
     "output_type": "execute_result"
    }
   ],
   "source": [
    "# Найдем межквартельный размах для CPC\n",
    "round(ss.iqr(conv.cpc, nan_policy='omit'), 2)"
   ]
  },
  {
   "cell_type": "code",
   "execution_count": 45,
   "metadata": {},
   "outputs": [],
   "source": [
    "# Дропнем пустые значения для построения графика\n",
    "conv_cpc = conv \\\n",
    "            .cpc \\\n",
    "            .dropna()"
   ]
  },
  {
   "cell_type": "code",
   "execution_count": 46,
   "metadata": {},
   "outputs": [
    {
     "name": "stderr",
     "output_type": "stream",
     "text": [
      "/opt/tljh/user/lib/python3.7/site-packages/seaborn/distributions.py:2557: FutureWarning: `distplot` is a deprecated function and will be removed in a future version. Please adapt your code to use either `displot` (a figure-level function with similar flexibility) or `histplot` (an axes-level function for histograms).\n",
      "  warnings.warn(msg, FutureWarning)\n"
     ]
    },
    {
     "data": {
      "image/png": "[encoded data removed]",
      "text/plain": [
       "<Figure size 1152x432 with 1 Axes>"
      ]
     },
     "metadata": {},
     "output_type": "display_data"
    }
   ],
   "source": [
    "sns.distplot(conv_cpc, kde=False);"
   ]
  },
  {
   "cell_type": "markdown",
   "metadata": {},
   "source": [
    "# Задание №7\n",
    "___\n",
    "Визуализируйте CPC с разбивкой по полу пользователей, которым были показаны объявления. Какой график получился?\n",
    "![](https://ucarecdn.com/16ebfd6c-ac78-49db-afe0-323794338796/)\n",
    "Чтобы избежать появление ошибки, можно указать .dropna() при построении графика. Обратите внимание, что удалять NaN из самого датасета не нужно, только для визуализации."
   ]
  },
  {
   "cell_type": "code",
   "execution_count": 50,
   "metadata": {},
   "outputs": [],
   "source": [
    "# Отберем данные cpc с разбивкой по полу для визуализации, дополнительно дропнем пустые значения \n",
    "conv_cpc_m = conv \\\n",
    "                .query('gender == \"M\"') \\\n",
    "                .cpc \\\n",
    "                .dropna()\n",
    "\n",
    "conv_cpc_f = conv \\\n",
    "                .query('gender == \"F\"') \\\n",
    "                .cpc \\\n",
    "                .dropna()"
   ]
  },
  {
   "cell_type": "code",
   "execution_count": 52,
   "metadata": {},
   "outputs": [
    {
     "name": "stderr",
     "output_type": "stream",
     "text": [
      "/opt/tljh/user/lib/python3.7/site-packages/seaborn/distributions.py:2557: FutureWarning: `distplot` is a deprecated function and will be removed in a future version. Please adapt your code to use either `displot` (a figure-level function with similar flexibility) or `histplot` (an axes-level function for histograms).\n",
      "  warnings.warn(msg, FutureWarning)\n"
     ]
    },
    {
     "data": {
      "image/png": "[encoded data removed]",
      "text/plain": [
       "<Figure size 1152x432 with 1 Axes>"
      ]
     },
     "metadata": {},
     "output_type": "display_data"
    }
   ],
   "source": [
    "sns.distplot(conv_cpc_m)\n",
    "sns.distplot(conv_cpc_f);"
   ]
  },
  {
   "cell_type": "markdown",
   "metadata": {},
   "source": [
    "Ответ:\n",
    "```\n",
    "B\n",
    "```"
   ]
  },
  {
   "cell_type": "markdown",
   "metadata": {},
   "source": [
    "# Задание №8"
   ]
  },
  {
   "cell_type": "markdown",
   "metadata": {},
   "source": [
    "Конверсия (conversion rate) – отношение числа пользователей, совершивших целевое действие на определенном этапе, к общему числу тех, кто дошел до данного этапа.\n",
    "\n",
    "Посчитайте конверсию из клика в покупку. В качестве ответа укажите конверсию для объявления 1121814 в процентах, округлив значение до 2 знаков после точки. Например, если значение кликов равно 10, а покупок – 2, то CR на данном этапе составляет 2/10=0.2=20.\n",
    "\n",
    "клики – Clicks, покупки – Approved_Conversion."
   ]
  },
  {
   "cell_type": "code",
   "execution_count": 61,
   "metadata": {},
   "outputs": [],
   "source": [
    "# Добавим новую колонку с конверсией\n",
    "conv['cr_app'] = round(conv['Approved_Conversion'] / conv['Clicks'] * 100, 2)"
   ]
  },
  {
   "cell_type": "code",
   "execution_count": 67,
   "metadata": {},
   "outputs": [
    {
     "data": {
      "text/html": [
       "<div>\n",
       "<style scoped>\n",
       "    .dataframe tbody tr th:only-of-type {\n",
       "        vertical-align: middle;\n",
       "    }\n",
       "\n",
       "    .dataframe tbody tr th {\n",
       "        vertical-align: top;\n",
       "    }\n",
       "\n",
       "    .dataframe thead th {\n",
       "        text-align: right;\n",
       "    }\n",
       "</style>\n",
       "<table border=\"1\" class=\"dataframe\">\n",
       "  <thead>\n",
       "    <tr style=\"text-align: right;\">\n",
       "      <th></th>\n",
       "      <th>ad_id</th>\n",
       "      <th>xyz_campaign_id</th>\n",
       "      <th>fb_campaign_id</th>\n",
       "      <th>age</th>\n",
       "      <th>gender</th>\n",
       "      <th>interest</th>\n",
       "      <th>Impressions</th>\n",
       "      <th>Clicks</th>\n",
       "      <th>Spent</th>\n",
       "      <th>Total_Conversion</th>\n",
       "      <th>Approved_Conversion</th>\n",
       "      <th>ctr</th>\n",
       "      <th>cpc</th>\n",
       "      <th>cr_app</th>\n",
       "    </tr>\n",
       "  </thead>\n",
       "  <tbody>\n",
       "    <tr>\n",
       "      <th>0</th>\n",
       "      <td>708746</td>\n",
       "      <td>916</td>\n",
       "      <td>103916</td>\n",
       "      <td>30-34</td>\n",
       "      <td>M</td>\n",
       "      <td>15</td>\n",
       "      <td>7350</td>\n",
       "      <td>1</td>\n",
       "      <td>1.43</td>\n",
       "      <td>2</td>\n",
       "      <td>1</td>\n",
       "      <td>0.000136</td>\n",
       "      <td>1.43</td>\n",
       "      <td>100.0</td>\n",
       "    </tr>\n",
       "    <tr>\n",
       "      <th>1</th>\n",
       "      <td>708749</td>\n",
       "      <td>916</td>\n",
       "      <td>103917</td>\n",
       "      <td>30-34</td>\n",
       "      <td>M</td>\n",
       "      <td>16</td>\n",
       "      <td>17861</td>\n",
       "      <td>2</td>\n",
       "      <td>1.82</td>\n",
       "      <td>2</td>\n",
       "      <td>0</td>\n",
       "      <td>0.000112</td>\n",
       "      <td>0.91</td>\n",
       "      <td>0.0</td>\n",
       "    </tr>\n",
       "    <tr>\n",
       "      <th>2</th>\n",
       "      <td>708771</td>\n",
       "      <td>916</td>\n",
       "      <td>103920</td>\n",
       "      <td>30-34</td>\n",
       "      <td>M</td>\n",
       "      <td>20</td>\n",
       "      <td>693</td>\n",
       "      <td>0</td>\n",
       "      <td>0.00</td>\n",
       "      <td>1</td>\n",
       "      <td>0</td>\n",
       "      <td>0.000000</td>\n",
       "      <td>NaN</td>\n",
       "      <td>NaN</td>\n",
       "    </tr>\n",
       "    <tr>\n",
       "      <th>3</th>\n",
       "      <td>708815</td>\n",
       "      <td>916</td>\n",
       "      <td>103928</td>\n",
       "      <td>30-34</td>\n",
       "      <td>M</td>\n",
       "      <td>28</td>\n",
       "      <td>4259</td>\n",
       "      <td>1</td>\n",
       "      <td>1.25</td>\n",
       "      <td>1</td>\n",
       "      <td>0</td>\n",
       "      <td>0.000235</td>\n",
       "      <td>1.25</td>\n",
       "      <td>0.0</td>\n",
       "    </tr>\n",
       "    <tr>\n",
       "      <th>4</th>\n",
       "      <td>708818</td>\n",
       "      <td>916</td>\n",
       "      <td>103928</td>\n",
       "      <td>30-34</td>\n",
       "      <td>M</td>\n",
       "      <td>28</td>\n",
       "      <td>4133</td>\n",
       "      <td>1</td>\n",
       "      <td>1.29</td>\n",
       "      <td>1</td>\n",
       "      <td>1</td>\n",
       "      <td>0.000242</td>\n",
       "      <td>1.29</td>\n",
       "      <td>100.0</td>\n",
       "    </tr>\n",
       "  </tbody>\n",
       "</table>\n",
       "</div>"
      ],
      "text/plain": [
       "    ad_id  xyz_campaign_id  fb_campaign_id    age gender  interest  \\\n",
       "0  708746              916          103916  30-34      M        15   \n",
       "1  708749              916          103917  30-34      M        16   \n",
       "2  708771              916          103920  30-34      M        20   \n",
       "3  708815              916          103928  30-34      M        28   \n",
       "4  708818              916          103928  30-34      M        28   \n",
       "\n",
       "   Impressions  Clicks  Spent  Total_Conversion  Approved_Conversion  \\\n",
       "0         7350       1   1.43                 2                    1   \n",
       "1        17861       2   1.82                 2                    0   \n",
       "2          693       0   0.00                 1                    0   \n",
       "3         4259       1   1.25                 1                    0   \n",
       "4         4133       1   1.29                 1                    1   \n",
       "\n",
       "        ctr   cpc  cr_app  \n",
       "0  0.000136  1.43   100.0  \n",
       "1  0.000112  0.91     0.0  \n",
       "2  0.000000   NaN     NaN  \n",
       "3  0.000235  1.25     0.0  \n",
       "4  0.000242  1.29   100.0  "
      ]
     },
     "execution_count": 67,
     "metadata": {},
     "output_type": "execute_result"
    }
   ],
   "source": [
    "conv.head()"
   ]
  },
  {
   "cell_type": "code",
   "execution_count": 63,
   "metadata": {},
   "outputs": [
    {
     "data": {
      "text/plain": [
       "860    3.09\n",
       "Name: cr_app, dtype: float64"
      ]
     },
     "execution_count": 63,
     "metadata": {},
     "output_type": "execute_result"
    }
   ],
   "source": [
    "# Отберем объявления для ответа\n",
    "# conv.query('ad_id == 1121814')\n",
    "conv.query('ad_id == 1121814').cr_app"
   ]
  },
  {
   "cell_type": "code",
   "execution_count": null,
   "metadata": {},
   "outputs": [],
   "source": []
  }
 ],
 "metadata": {
  "kernelspec": {
   "display_name": "Python 3",
   "language": "python",
   "name": "python3"
  },
  "language_info": {
   "codemirror_mode": {
    "name": "ipython",
    "version": 3
   },
   "file_extension": ".py",
   "mimetype": "text/x-python",
   "name": "python",
   "nbconvert_exporter": "python",
   "pygments_lexer": "ipython3",
   "version": "3.7.3"
  }
 },
 "nbformat": 4,
 "nbformat_minor": 4
}
