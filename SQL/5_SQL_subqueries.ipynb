{
 "cells": [
  {
   "cell_type": "markdown",
   "metadata": {},
   "source": [
    "# Блок 5_1"
   ]
  },
  {
   "cell_type": "markdown",
   "metadata": {},
   "source": [
    "# Задание 1\n",
    "___\n",
    "С помощью какого оператора в ClickHouse можно создать представление?\n",
    "\n",
    "Возможно несколько вариантов ответа.\n",
    "- CREATE MATERIALIZED VIEW\n",
    "- CREATE VIEW\n",
    "- CREATE TABLE\n",
    "- CREATE TABLE VIEW\n",
    "- ADD VIEW"
   ]
  },
  {
   "cell_type": "markdown",
   "metadata": {},
   "source": [
    "Ответ:\n",
    "+ CREATE MATERIALIZED VIEW\n",
    "+ CREATE VIEW"
   ]
  },
  {
   "cell_type": "markdown",
   "metadata": {},
   "source": [
    "# Задание 2\n",
    "___\n",
    "В чём заключается различие между материализованным и обычным представлением? \n",
    "\n",
    "+ Обычное сохраняет запрос, который выполняется при обращении\n",
    "+ Материализованное сохраняет запрос, который выполняется при обращении\n",
    "+ Материализованное хранит данные на диске\n",
    "+ Обычное хранит данные на диске"
   ]
  },
  {
   "cell_type": "markdown",
   "metadata": {},
   "source": [
    "Ответ:\n",
    "+ Обычное сохраняет запрос, который выполняется при обращении\n",
    "+ Материализованное хранит данные на диске"
   ]
  },
  {
   "cell_type": "markdown",
   "metadata": {},
   "source": [
    "# Задание 3\n",
    "___\n",
    "Данные для следующих задач: Airbnb в Берлине. Не забывайте о преобразовании столбцов к нужному типу данных!\n",
    "\n",
    "Имеются следующие таблицы:\n",
    "\n",
    "1) **listings** – информация о жилье, включая полные описания, характеристики и средние оценки в отзывах; поскольку столбцов очень много, нужные перечислены в текстах самих задач\n",
    "\n",
    "2) **calendar_summary** – информация о доступности и цене того или иного жилья по дням\n",
    "\n",
    "+ `listing_id` – идентификатор жилья (объявления)\n",
    "+ `date` – дата\n",
    "+ `available` – доступность жилья в данный день (t/f)\n",
    "+ `price` – цена за ночь\n",
    "\n",
    "3) **reviews** – отзывы\n",
    "\n",
    "+ `listing_id` –  идентификатор жилья  \n",
    "+ `id` – id отзыва\n",
    "+ `date` – дата отзыва\n",
    "+ `reviewer_id` – id ревьюера (автора отзыва)\n",
    "+ `reviewer_name` – имя автора\n",
    "+ `comments` – сам отзыв"
   ]
  },
  {
   "cell_type": "markdown",
   "metadata": {},
   "source": [
    "Подзапросы можно использовать в разных частях запроса, в том числе и в блоке WHERE. Потренируемся!\n",
    "```\n",
    "-- пример\n",
    "SELECT\n",
    "    column_1,\n",
    "    column_2\n",
    "FROM\n",
    "    table\n",
    "WHERE\n",
    "    column_2 = (SELECT MAX(column_2) \n",
    "                FROM table)\n",
    "```\n",
    "Сначала оставьте только те объявления, где оценка на основе отзывов выше среднего, а число отзывов в месяц составляет строго меньше трёх. Затем отсортируйте по убыванию две колонки: сначала по числу отзывов в месяц, потом по оценке. В качестве ответа укажите id объявления из первой строки.\n",
    "\n",
    "+ `review_scores_rating` – оценка на основе отзывов\n",
    "+ `reviews_per_month` – число отзывов в месяц\n",
    "+ `id` – идентификатор объявления\n",
    "\n",
    "Таблица – `listings`. Наивысшие показатели = сортировка по убыванию."
   ]
  },
  {
   "cell_type": "markdown",
   "metadata": {},
   "source": [
    "Правильный запрос:\n",
    "```\n",
    "SELECT \n",
    "    id, \n",
    "    reviews_per_month,\n",
    "    toFloat64OrNull(review_scores_rating) as review_scores_rating\n",
    "FROM listings\n",
    "WHERE review_scores_rating > (\n",
    "                            SELECT \n",
    "                                AVG(toFloat64OrNull(review_scores_rating))\n",
    "                            FROM listings\n",
    "                            )\n",
    "    AND reviews_per_month < 3\n",
    "ORDER BY\n",
    "    review_scores_rating DESC,\n",
    "    reviews_per_m\n",
    "```\n",
    "Ответ:\n",
    "```\n",
    "22476940\n",
    "```"
   ]
  },
  {
   "cell_type": "markdown",
   "metadata": {},
   "source": [
    "# Задание 4\n",
    "___\n",
    "Посчитайте среднее расстояние до центра города и выведите идентификаторы объявлений о сдаче отдельных комнат, для которых расстояние оказалось меньше среднего. Результат отсортируйте по убыванию, тем самым выбрав комнату, которая является наиболее удаленной от центра, но при этом расположена ближе, чем остальные комнаты в среднем. \n",
    "\n",
    "+ `id` – идентификатор объявления\n",
    "+ `host_id` – идентификатор хозяина\n",
    "+ `room_type` – тип жилья ('Private room')\n",
    "+ `latitude` – широта\n",
    "+ `longitude` – долгота\n",
    "+ 52.5200 с.ш., 13.4050 в.д – координаты центра Берлина\n",
    "\n",
    "В качестве ответа укажите идентификатор хозяина (`host_id`), сдающего данную комнату."
   ]
  },
  {
   "cell_type": "markdown",
   "metadata": {},
   "source": [
    "Правильный запрос:\n",
    "```\n",
    "SELECT\n",
    "    host_id,\n",
    "    room_type,\n",
    "    longitude,\n",
    "    latitude,\n",
    "    geoDistance(13.4050, 52.5200, toFloat64OrNull(longitude), toFloat64OrNull(latitude)) as dist\n",
    "FROM\n",
    "    listings\n",
    "WHERE \n",
    "    dist < (SELECT \n",
    "                AVG(geoDistance(13.4050, 52.5200, toFloat64OrNull(longitude), toFloat64OrNull(latitude))) as AvgDist\n",
    "            FROM\n",
    "                listings\n",
    "            WHERE \n",
    "                room_type = 'Private room'\n",
    "            )\n",
    "    AND room_type = 'Private room'\n",
    "ORDER BY\n",
    "    dist DESC\n",
    "LIMIT 10\n",
    "```\n",
    "Ответ:\n",
    "```\n",
    "163065208\n",
    "```"
   ]
  },
  {
   "cell_type": "markdown",
   "metadata": {},
   "source": [
    "# Задание 5\n",
    "___\n",
    "Представим, что вы планируете снять жилье в Берлине на 7 дней, используя более хитрые фильтры, чем предлагаются на сайте.\n",
    "\n",
    "В этой задаче можно потренироваться в написании подзапросов, но задание можно решить и без них.\n",
    "\n",
    "Отберите объявления из таблицы `listings`, которые:\n",
    "\n",
    "+ находятся на расстоянии от центра меньше среднего (здесь нам пригодится запрос из предыдущего задания)\n",
    "+ обойдутся дешевле `100$` в день (`price` с учетом `cleaning_fee`, который добавляется к общей сумме за неделю, т.е его нужно делить на кол-во дней)\n",
    "+ имеют последние отзывы (`last_review`), начиная с 1 сентября 2018 года\n",
    "+ имеют WiFi в списке удобств (`amenities`)\n",
    "\n",
    "Отсортируйте полученные значения по убыванию `review_scores_rating` (не забудьте перевести строку к численному виду) и в качестве ответа укажите `host_id` из первой строки. "
   ]
  },
  {
   "cell_type": "markdown",
   "metadata": {},
   "source": [
    "Правильный запрос:\n",
    "```\n",
    "SELECT\n",
    "    host_id,\n",
    "    review_scores_rating,\n",
    "    geoDistance(toFloat64OrNull(longitude), toFloat64OrNull(latitude), 13.4050, 52.5200) as geo_distance,\n",
    "    last_review,\n",
    "    amenities\n",
    "FROM \n",
    "    listings\n",
    "WHERE \n",
    "    geo_distance <\n",
    "    (SELECT AVG(geoDistance(toFloat64OrNull(longitude), toFloat64OrNull(latitude), 13.4050, 52.5200)) FROM listings)\n",
    "AND\n",
    "    (toFloat32OrNull(replaceRegexpAll(price, '[$,]', '')) + toFloat32OrNull(replaceRegexpAll(cleaning_fee, '[$,]', '')) / 7) < 100\n",
    "AND\n",
    "    last_review >='2018-09-01'\n",
    "AND\n",
    "    multiSearchAnyCaseInsensitive(amenities, ['wifi'])!=0\n",
    "ORDER BY \n",
    "    review_scores_rating DESC\n",
    "LIMIT 10\n",
    "```\n",
    "Ответ:\n",
    "```\n",
    "39740677\n",
    "```"
   ]
  },
  {
   "cell_type": "markdown",
   "metadata": {},
   "source": [
    "# Задание 6\n",
    "___\n",
    "Давайте найдем в таблице `calendar_summary` те доступные (`available='t'`) объявления, у которых число отзывов от уникальных пользователей в таблице `reviews` выше среднего.\n",
    "\n",
    "Для этого с помощью конструкции `WITH` посчитайте среднее число уникальных `reviewer_id` из таблицы `reviews` на каждое жильё, потом проведите джойн таблиц `calendar_summary` и `reviews` по полю `listing_id`(при этом из таблицы calendar_summary должны быть отобраны уникальные `listing_id`, отфильтрованные по правилу `available='t'`). Результат отфильтруйте так, чтобы остались только записи, у которых число отзывов от уникальных людей выше среднего.\n",
    "\n",
    "Отсортируйте результат по возрастанию `listing_id` и в качестве ответа впишите количество отзывов от уникальных пользователей из первой строки.\n",
    "\n",
    "Для решения проблем со вложенными агрегационными функциями (и агрегационными функциями там, где их не ждут) как раз очень помогут подзапросы."
   ]
  },
  {
   "cell_type": "markdown",
   "metadata": {},
   "source": [
    "Правильный запрос:\n",
    "```\n",
    "WITH\n",
    "(SELECT AVG(review_num) \n",
    "FROM \n",
    "    (SELECT \n",
    "        COUNT(DISTINCT(reviewer_id)) review_num, \n",
    "        listing_id  \n",
    "     FROM \n",
    "         reviews \n",
    "     GROUP BY \n",
    "         listing_id)) AS avg_review\n",
    "\n",
    "SELECT\n",
    "listing_id,\n",
    "review_num\n",
    "FROM (\n",
    "\tSELECT\n",
    "    \tCOUNT(DISTINCT(reviewer_id)) review_num,\n",
    "    \tlisting_id\n",
    "\tFROM reviews\n",
    "\tGROUP BY listing_id\n",
    "\t) AS r\n",
    "JOIN (\n",
    "\tSELECT\n",
    "    \tlisting_id\n",
    "\tFROM calendar_summary\n",
    "\tWHERE available='t' \n",
    "GROUP BY listing_id\n",
    "\t) AS c\n",
    "ON\n",
    "\tc.listing_id = r.listing_id\n",
    "WHERE review_num > avg_review  \n",
    "ORDER BY listing_id\n",
    "LIMIT 10\n",
    "```\n",
    "Ответ:\n",
    "```\n",
    "118\n",
    "```"
   ]
  },
  {
   "cell_type": "markdown",
   "metadata": {},
   "source": [
    "# Задание 7\n",
    "___\n",
    "Возвращаемся к данными мобильного приложения!\n",
    "\n",
    "**installs** — содержит данные об установках приложения по дням.\n",
    "\n",
    "+ `DeviceID` — идентификатор устройства, на которое было установлено приложение;\n",
    "+ `InstallationDate` — дата установки приложения;\n",
    "+ `InstallCost` — цена установки приложения в рублях;\n",
    "+ `Platform` — платформа, на которой было установлено приложение (iOS/ Android);\n",
    "+ `Source` — источник установки приложения (магазин приложения/ рекламная система/ переход с сайта).\n",
    "\n",
    "**events** — содержит данные о том, как активно пользователи просматривают товары в приложении по дням.\n",
    "\n",
    "+ `DeviceID` — идентификатор устройства, на котором используется приложение;\n",
    "+ `AppPlatform` — платформа, на которой используется приложение (iOS/ Android);\n",
    "+ `EventDate` — дата, за которую собрана статистика;\n",
    "+ `events` — количество просмотров всех товаров за этот день у этого DeviceID.\n",
    "\n",
    "**checks** — содержит данные о покупках пользователей в приложении по дням\n",
    "\n",
    "+ `UserID` — идентификатор пользователя;\n",
    "+ `Rub` — суммарный чек пользователя на дату;\n",
    "+ `BuyDate` — дата, за которую собрана статистика.\n",
    "\n",
    "**devices** – чтобы просмотры и установки можно было объединить с покупками\n",
    "\n",
    "+ `DeviceID` — идентификатор устройства;\n",
    "+ `UserID` — идентификатор пользователя."
   ]
  },
  {
   "cell_type": "markdown",
   "metadata": {},
   "source": [
    "С помощью оператора `CASE` в SQL можно составлять условные конструкции, выполнять проверку условий и возвращать результат в зависимости от их выполнения. Самих условий под оператором `WHEN` может быть сколько угодно, конструкцию необходимо завершить оператором `END`. Структура выглядит следующим образом:\n",
    "```\n",
    "SELECT \n",
    "    CASE\n",
    "        -- если значение в column_1 больше, чем в column_2, в новый столбец будет записана единичка\n",
    "        WHEN column_1 > column_2 THEN 1 \n",
    "        -- если значение в column_1 меньше, чем в column_2, в новый столбец будет записана двойка\n",
    "        WHEN column_1 < column_2 THEN 2\n",
    "        -- во всех остальных случаях – тройка\n",
    "        ELSE 3\n",
    "    END AS cond_1 -- END – завершаем конструкцию, а новый столбец называем cond_1\n",
    "FROM\n",
    "    table\n",
    "```\n",
    "Какие из перечисленных условных конструкций составлены некорректно?\n",
    "+ WHERE price > 1000 THEN 'ok' ELSE 'not ok' END\n",
    "+ CASE WHEN price > 1000 THEN 'ok' ELSE 'not ok'\n",
    "+ CASE WHEN price>1000 THEN 'ok' WHEN price<500 THEN 'not ok' ELSE 'normal' END"
   ]
  },
  {
   "cell_type": "markdown",
   "metadata": {},
   "source": [
    "Ответ:\n",
    "+ WHERE price > 1000 THEN 'ok' ELSE 'not ok' END\n",
    "+ CASE WHEN price > 1000 THEN 'ok' ELSE 'not ok'"
   ]
  },
  {
   "cell_type": "markdown",
   "metadata": {},
   "source": [
    "# Задание 8\n",
    "___\n",
    "Теперь задача! Используйте таблицу `checks` и разделите всех покупателей на сегменты:\n",
    "\n",
    "Правые границы берутся не включительно, например, чек в 10 рублей будет относиться к сегменту С\n",
    "\n",
    "+ А — средний чек покупателя менее 5 ₽\n",
    "+ B — средний чек покупателя от 5-10 ₽\n",
    "+ C — средний чек покупателя от 10-20 ₽\n",
    "+ D — средний чек покупателя от 20 ₽\n",
    "\n",
    "Отсортируйте результирующую таблицу по возрастанию `UserID `и укажите сегмент четвертого пользователя."
   ]
  },
  {
   "cell_type": "markdown",
   "metadata": {},
   "source": [
    "Правильный запрос:\n",
    "```\n",
    "SELECT\n",
    "    UserID,\n",
    "    CASE\n",
    "        WHEN avg(Rub) < 5 THEN 'A'\n",
    "        WHEN avg(Rub) >= 5 AND avg(Rub) < 10 THEN 'B'\n",
    "        WHEN avg(Rub) >= 10 AND avg(Rub) < 20 THEN 'C'\n",
    "        ELSE 'D'\n",
    "    END AS segment\n",
    "FROM checks\n",
    "GROUP BY UserID\n",
    "ORDER BY UserID ASC\n",
    "LIMIT 10\n",
    "```\n",
    "Ответ:\n",
    "```\n",
    "C\n",
    "```"
   ]
  },
  {
   "cell_type": "markdown",
   "metadata": {},
   "source": [
    "# Задание 9\n",
    "___\n",
    "Используйте предыдущий запрос как подзапрос и посчитайте, сколько клиентов приходится на каждый сегмент и сколько доходов он приносит. Отсортируйте результат по убыванию суммы доходов на сегмент и в качестве ответа укажите наибольшую сумму."
   ]
  },
  {
   "cell_type": "markdown",
   "metadata": {},
   "source": [
    "Правильный запрос:\n",
    "```\n",
    "SELECT\n",
    "    segment,\n",
    "    COUNT(DISTINCT UserID),\n",
    "    sum(Rub) as Revenue\n",
    "FROM\n",
    "    checks\n",
    "JOIN\n",
    "    (\n",
    "    SELECT\n",
    "    UserID,\n",
    "    CASE\n",
    "        WHEN avg(Rub) < 5 THEN 'A'\n",
    "        WHEN avg(Rub) >= 5 AND avg(Rub) < 10 THEN 'B'\n",
    "        WHEN avg(Rub) >= 10 AND avg(Rub) < 20 THEN 'C'\n",
    "        ELSE 'D'\n",
    "    END AS segment\n",
    "    FROM checks\n",
    "    GROUP BY UserID\n",
    "    ) as sub\n",
    "USING (UserID)\n",
    "GROUP BY segment\n",
    "ORDER BY Revenue DESC\n",
    "LIMIT 10\n",
    "```\n",
    "Ответ:\n",
    "```\n",
    "250551286\n",
    "```"
   ]
  },
  {
   "cell_type": "markdown",
   "metadata": {},
   "source": [
    "# Задание 10\n",
    "___\n",
    "Вернемся к таблице AirBnb. Предположим, что в выборе жилья нас интересует только два параметра: наличие кухни (`kitchen`) и гибкой системы отмены (`flexible`), причем первый в приоритете.\n",
    "\n",
    "Создайте с помощью оператора `CASE` колонку с обозначением группы, в которую попадает жилье из таблицы `listings`:\n",
    "\n",
    "1) 'good', если в удобствах (`amenities`) присутствует кухня и система отмены (`cancellation_policy`) гибкая\n",
    "2) 'ok', если в удобствах есть кухня, но система отмены не гибкая\n",
    "3) 'not ok' во всех остальных случаях\n",
    "\n",
    "Результат отсортируйте по новой колонке по возрастанию, установите ограничение в 5 строк, в качестве ответа укажите `host_id` первой строки.\n",
    "\n",
    "Обратите внимание, что `cancellation_policy` - это отдельная колонка, по ней необходимо смотреть систему отмены"
   ]
  },
  {
   "cell_type": "markdown",
   "metadata": {},
   "source": [
    "Правильный запрос:\n",
    "```\n",
    "SELECT \n",
    "    host_id,\n",
    "CASE\n",
    "    WHEN multiSearchAnyCaseInsensitive(amenities, ['kitchen'])!=0 AND cancellation_policy = 'flexible' THEN 'good'\n",
    "    WHEN multiSearchAnyCaseInsensitive(amenities, ['kitchen'])!=0 AND cancellation_policy != 'flexible' THEN 'ok'\n",
    "ELSE 'not ok'\n",
    "END my_group\n",
    "FROM \n",
    "    listings \n",
    "ORDER BY \n",
    "    my_group LIMIT 5\n",
    "```\n",
    "Ответ:\n",
    "```\n",
    "27607502\n",
    "```"
   ]
  },
  {
   "cell_type": "markdown",
   "metadata": {},
   "source": [
    "# Блок 5_2"
   ]
  },
  {
   "cell_type": "markdown",
   "metadata": {},
   "source": [
    "# Задание 1\n",
    "___\n",
    "Сопоставьте операторы с соответствующим описанием:"
   ]
  },
  {
   "cell_type": "markdown",
   "metadata": {},
   "source": [
    "Ответ:\n",
    "+ ADD COLUMN - добавить столбец\n",
    "+ DELETE WHERE - удалить строки, где выполняется условие\n",
    "+ DROP COLUMN - удалить столбец\n",
    "+ DROP TABLE - удалить таблицу\n",
    "+ INSERT INTO - записать данные в таблицу"
   ]
  },
  {
   "cell_type": "markdown",
   "metadata": {},
   "source": [
    "# Задание 2\n",
    "___\n",
    "Напишите запрос для создания таблицы со следующими параметрами, также подобрав подходящий тип данных.\n",
    "\n",
    "Название таблицы: `reviews`\n",
    "База данных: `test`\n",
    "Столбцы:\n",
    "\n",
    "- `listing_id` – идентификатор объявления, может быть только положительным и целым числом, 32-битный тип данных\n",
    "\n",
    "- `id` – идентификатор хозяина, может быть только положительным и целым числом, 32-битный тип данных\n",
    "\n",
    "- `date` – дата со временем (2020-01-01 00:00:00), часовой пояс – 'Europe/Moscow'\n",
    "\n",
    "- `reviewer_id` – идентификатор ревьюера, может быть только положительным и целым числом, 32-битный тип данных\n",
    "\n",
    "- `reviewer_name` – имя того, кто оставил отзыв\n",
    "\n",
    "- `comments` - текст отзыва\n",
    "\n",
    "\n",
    "+ Движок: `MergeTree`\n",
    "+ Сортировка: `listing_id`, `id`"
   ]
  },
  {
   "cell_type": "markdown",
   "metadata": {},
   "source": [
    "Правильные запрос:\n",
    "```\n",
    "CREATE TABLE test.reviews (\n",
    "    listing_id UInt32,\n",
    "    id UInt32,\n",
    "    date DateTime('Europe/Moscow'),\n",
    "    reviewer_id UInt32,\n",
    "    reviewer_name String,\n",
    "    comments String\n",
    "    ) \n",
    "\n",
    "ORDER BY (listing_id, id)\n",
    "ENGINE = MergeTree\n",
    "```"
   ]
  },
  {
   "cell_type": "markdown",
   "metadata": {},
   "source": [
    "# Задание 3\n",
    "___\n",
    "К вам пришел коллега с новостями: оказывается, в поле `date` будет записываться только дата, без времени, поэтому нужно изменить тип данных!\n",
    "\n",
    "Напишите запрос, который модифицирует тип данных, и введите его в поле ниже без кавычек и лишних пробелов. Не забудьте указать базу данных `test` перед названием таблицы! "
   ]
  },
  {
   "cell_type": "markdown",
   "metadata": {},
   "source": [
    "Правильные запрос:\n",
    "```\n",
    "ALTER TABLE test.reviews MODIFY COLUMN date Date\n",
    "```"
   ]
  },
  {
   "cell_type": "markdown",
   "metadata": {},
   "source": [
    "# Задание 4\n",
    "___\n",
    "Предположим, ваш коллега вставил данные, но что-то перепутал. Часть строк с комментариями осталась совершенно пустой! \n",
    "\n",
    "Напишите запрос, который удалит из таблицы `test.reviews` те строки, где в столбце `comments` встречаются пустые значения (`''`). Введите его в поле ниже без кавычек и лишних пробелов."
   ]
  },
  {
   "cell_type": "markdown",
   "metadata": {},
   "source": [
    "Правильные запрос:\n",
    "```\n",
    "ALTER TABLE test.reviews DELETE WHERE comments = ''\n",
    "```"
   ]
  },
  {
   "cell_type": "markdown",
   "metadata": {},
   "source": [
    "# Задание 5\n",
    "___\n",
    "С помощью какого запроса можно создать обычное представление над таблицей `test.reviews`, которое будет содержать все записи из `test.reviews`, сгруппированные по `reviewer_id` с подсчитанным количеством отзывов (`id`) на каждого пользователя?\n",
    "\n",
    "Варианты запросов:\n",
    "+ ALTER TABLE test.reviews_number UPDATE id = COUNT(id)\n",
    "+ CREATE VIEW test.reviews_number AS (SELECT reviewer_id, COUNT(id) reviews_count FROM test.reviews GROUP BY reviewer_id)\n",
    "+ CREATE VIEW test.reviews_number AS (SELECT reviewer_id, SUM(id) reviews_count GROUP BY reviewer_id)\n",
    "+ CREATE MATERIALIZED VIEW test.reviews_number AS (SELECT reviewer_id, COUNT(id) reviews_count GROUP BY reviewer_id)\n",
    "+ CREATE TABLE IF NOT EXISTS test.reviews_number AS (SELECT reviewer_id, COUNT(id) reviews_count GROUP BY reviewer_id)"
   ]
  },
  {
   "cell_type": "markdown",
   "metadata": {},
   "source": [
    "Правильные запрос:\n",
    "```\n",
    "CREATE VIEW test.reviews_number AS (SELECT reviewer_id, COUNT(id) reviews_count FROM test.reviews GROUP BY reviewer_id)\n",
    "\n",
    "```"
   ]
  },
  {
   "cell_type": "markdown",
   "metadata": {},
   "source": [
    "# Задание 6\n",
    "___\n",
    "С помощью какого запроса можно создать новый столбец `reviewer_score` в таблице `reviews` после столбца `reviewer_name`?\n",
    "\n",
    "Варинаты запросов:\n",
    "+ ALTER TABLE test.reviews AFTER reviewer_name ADD COLUMN reviewer_score UInt8\n",
    "+ ALTER TABLE test.reviews ADD COLUMN reviewer_score UInt8\n",
    "+ ALTER TABLE test.reviews INSERT COLUMN reviewer_score UInt8 AFTER reviewer_name\n",
    "+ ALTER TABLE test.reviews ADD COLUMN reviewer_score UInt8 AFTER reviewer_name\n",
    "+ ALTER TABLE test.reviews AFTER reviewer_name INSERT reviewer_score UInt8"
   ]
  },
  {
   "cell_type": "markdown",
   "metadata": {},
   "source": [
    "Правильные запрос:\n",
    "```\n",
    "ALTER TABLE test.reviews ADD COLUMN reviewer_score UInt8 AFTER reviewer_name \n",
    "```"
   ]
  },
  {
   "cell_type": "markdown",
   "metadata": {},
   "source": [
    "# Задание 7\n",
    "___\n",
    "Напишите запрос для добавления в таблицу `test.reviews` колонки `price` после колонки `comments`, которая может быть числом с плавающей точкой, 32-битный тип данных."
   ]
  },
  {
   "cell_type": "markdown",
   "metadata": {},
   "source": [
    "Правильные запрос:\n",
    "```\n",
    "ALTER TABLE test.reviews ADD COLUMN price Float32 AFTER comments\n",
    "```"
   ]
  },
  {
   "cell_type": "markdown",
   "metadata": {},
   "source": [
    "# Задание 8\n",
    "___\n",
    "Напишите запрос, который удвоит `price` для всех строк с датой (`date`) после 2019-01-01.\n",
    "\n",
    "Обратите внимание, что для сравнения с датой в формате '2019-01-01' можно не преобразовывать данные в колонке `date`."
   ]
  },
  {
   "cell_type": "markdown",
   "metadata": {},
   "source": [
    "Правильные запрос:\n",
    "```\n",
    "ALTER TABLE test.reviews UPDATE price=price*2 WHERE date>'2019-01-01'\n",
    "```"
   ]
  },
  {
   "cell_type": "code",
   "execution_count": null,
   "metadata": {},
   "outputs": [],
   "source": []
  }
 ],
 "metadata": {
  "kernelspec": {
   "display_name": "Python 3",
   "language": "python",
   "name": "python3"
  },
  "language_info": {
   "codemirror_mode": {
    "name": "ipython",
    "version": 3
   },
   "file_extension": ".py",
   "mimetype": "text/x-python",
   "name": "python",
   "nbconvert_exporter": "python",
   "pygments_lexer": "ipython3",
   "version": "3.7.3"
  }
 },
 "nbformat": 4,
 "nbformat_minor": 4
}
