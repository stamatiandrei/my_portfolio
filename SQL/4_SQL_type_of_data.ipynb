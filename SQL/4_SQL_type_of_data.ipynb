{
 "cells": [
  {
   "cell_type": "markdown",
   "metadata": {},
   "source": [
    "# Блок №4"
   ]
  },
  {
   "cell_type": "markdown",
   "metadata": {},
   "source": [
    "# Задание 1\n",
    "___\n",
    "Сопоставьте типы данных с подходящими значениями:"
   ]
  },
  {
   "cell_type": "markdown",
   "metadata": {},
   "source": [
    "Ответ:\n",
    "+ DateTime64 -- 2019-12-31 03:00:00.000\n",
    "+ date -- 2019-12-31\n",
    "+ Int8 -- -120\n",
    "+ UInt8 -- 220\n",
    "+ UInt64 -- 17441114072349551615"
   ]
  },
  {
   "cell_type": "markdown",
   "metadata": {},
   "source": [
    "# Задание 2\n",
    "___\n",
    "Какую из представленных функций часто используют для приведения типов?"
   ]
  },
  {
   "cell_type": "markdown",
   "metadata": {},
   "source": [
    "Ответ:\n",
    "+ CAST"
   ]
  },
  {
   "cell_type": "markdown",
   "metadata": {},
   "source": [
    "# Задание 3\n",
    "___\n",
    "Далее в заданиях используются данные с платформы [Airbnb](http://insideairbnb.com/index.html) в Берлине ✈️.\n",
    "\n",
    "Имеются следующие таблицы:\n",
    "\n",
    "1) `listings` – информация о жилье, включая полные описания, характеристики и средние оценки в отзывах; поскольку столбцов очень много, нужные перечислены в текстах самих задач\n",
    "\n",
    "2) `calendar_summary` – информация о доступности и цене того или иного жилья по дням\n",
    "\n",
    "+ `listing_id` – идентификатор жилья (объявления)\n",
    "+ `date` – дата\n",
    "+ `available` – доступность жилья в данный день (t/f)\n",
    "+ `price` – цена за ночь\n",
    "\n",
    "3)`reviews` – отзывы\n",
    "\n",
    "+ `listing_id` –  идентификатор жилья  \n",
    "+ `id` – id отзыва\n",
    "+ `date` – дата отзыва\n",
    "+ `reviewer_id` – id ревьюера (автора отзыва)\n",
    "+ `reviewer_name` – имя автора\n",
    "+ `comments` – сам отзыв"
   ]
  },
  {
   "cell_type": "markdown",
   "metadata": {},
   "source": [
    "На Airbnb есть две основные группы пользователей:\n",
    "\n",
    "+ Хозяева (хосты, hosts) – сдают жилье\n",
    "+ Путешественники (travelers) – снимают\n",
    "\n",
    "Начнем с анализа характеристик хозяев в таблице `listings`! \n",
    "\n",
    "Пользователи, сдающие квартиры на Airbnb, зарегистрировались в разное время. Кто-то – очень давно, а кто-то совсем недавно. Давайте проверим, в какой месяц и год зарегистрировалось наибольшее количество новых хостов. В качестве ответа введите дату следующего формата: `2010-12`\n",
    "\n",
    "+ `host_id` – идентификатор хозяина\n",
    "+ `host_since` – дата регистрации как хост\n",
    "\n",
    "Сам хост может встретиться в таблице несколько раз, если сдает несколько помещений, поэтому не забудьте оставить уникальные значения `host_id`. Также обратите внимание на тип данных в `host_since`, возможно вам пригодится `toStartOfMonth()` для извлечения части даты и `toDateOrNull()` для обработки пустых значений."
   ]
  },
  {
   "cell_type": "markdown",
   "metadata": {},
   "source": [
    "Правильный запрос:\n",
    "```\n",
    "SELECT \n",
    "    toStartOfMonth(toDateOrNull(host_since)) as StartMonth,\n",
    "    COUNT(DISTINCT host_id) AS NumHosts\n",
    "FROM\n",
    "    listings \n",
    "GROUP BY\n",
    "    StartMonth\n",
    "ORDER BY\n",
    "    NumHosts DESC\n",
    "LIMIT 10\n",
    "```\n",
    "Ответ:\n",
    "```\n",
    "2015-07\n",
    "```"
   ]
  },
  {
   "cell_type": "markdown",
   "metadata": {},
   "source": [
    "# Задание 4\n",
    "___\n",
    "Посмотрим на среднюю частоту ответа среди хозяев (f) и суперхозяев (t).\n",
    "\n",
    "Значения частоты ответа хранятся как строки и включают значок %, который необходимо заменить на пустоту (''). После этого приведите столбец к нужному типу данных с помощью `toInt32OrNull()` и посчитайте среднюю частоту отклика в разбивке по тому, является ли хост суперхозяином или нет. В качестве ответа укажите наибольшее среднее.\n",
    "\n",
    "+ `host_response_rate` – частота ответа\n",
    "+ `host_is_superhost` – является ли суперхозяином\n",
    "\n",
    "Важный момент: у каждого `host_id` есть только одно уникальное значение частоты ответа, а также одна единая отметка суперхозяина. Чтобы посчитать показатели честно, нужно использовать подзапрос и взять уникальные комбинации с помощью `DISTINCT`. Примерная структура финального запроса:\n",
    "```\n",
    "SELECT\n",
    "    ... -- перечисляем все нужные колонки и операции\n",
    "FROM (\n",
    "    SELECT \n",
    "        DISTINCT column_1,\n",
    "        column_2,\n",
    "        column_3\n",
    "    FROM \n",
    "        table_name) AS sub -- в подзапросе выбираем уникальные значения строк по интересующим колонкам\n",
    "... -- не забываем LIMIT, сортировку и вот это вот всё\n",
    "```\n",
    "Пригодятся:\n",
    "\n",
    "+ replaceAll(столбец, что_заменить, на_что_заменить) – замена значений в колонке\n",
    "+ toIntOrNull(столбец)\n",
    "\n",
    "Суперхозяева — опытные хозяева с отличными отзывами. В задаче используется таблица listings."
   ]
  },
  {
   "cell_type": "markdown",
   "metadata": {},
   "source": [
    "Правильный запрос:\n",
    "```\n",
    "SELECT\n",
    "    host_is_superhost,\n",
    "    AVG(toInt32OrNull(replaceAll(host_response_rate, '%', ''))) as AvgResp,\n",
    "    MIN(toInt32OrNull(replaceAll(host_response_rate, '%', ''))) as MinResp,\n",
    "    MAX(toInt32OrNull(replaceAll(host_response_rate, '%', ''))) as MaxResp\n",
    "FROM\n",
    "    (SELECT \n",
    "        DISTINCT \n",
    "            host_id,\n",
    "            host_response_rate,\n",
    "            host_is_superhost\n",
    "    FROM listings \n",
    "    ) as sub\n",
    "\n",
    "WHERE \n",
    "    host_is_superhost != ''\n",
    "GROUP BY\n",
    "    host_is_superhost\n",
    "LIMIT 10\n",
    "```\n",
    "Ответ:\n",
    "```\n",
    "98\n",
    "```"
   ]
  },
  {
   "cell_type": "markdown",
   "metadata": {},
   "source": [
    "# Задание 5\n",
    "___\n",
    "Сгруппируйте данные из listings по хозяевам (`host_id`) и посчитайте, какую цену за ночь в среднем каждый из них устанавливает (у одного хоста может быть несколько объявлений). Идентификаторы сдаваемого жилья объедините в отдельный массив. Таблицу отсортируйте по убыванию средней цены и убыванию `host_id` (в таком порядке). В качестве ответа укажите первый массив в результирующей таблице, состоящий более чем из двух id. Например:\n",
    "\n",
    "> 2343477,6340,32324\n",
    "\n",
    "+ `host_id` – идентификатор хозяина\n",
    "+ `id` – идентификатор жилья\n",
    "+ `price` – цена за ночь в конкретном месте\n",
    "\n",
    "Пригодятся:\n",
    "\n",
    "+ groupArray(столбец) – составление массива\n",
    "+ replaceRegexpAll(столбец, что_заменить, на_что_заменить) – паттерн `[$,]` с использованием функции `replaceRegexpAll()` чтобы избавиться от $ и запятых\n",
    "\n",
    "Пример того, как выглядят цены в колонке price:\n",
    "\n",
    "| Price    | \n",
    "|:--------:|\n",
    "| `$`16.00   | \n",
    "| `$`2,228.00|  \n",
    "\n",
    "\n",
    "+ toFloat32OrNull(столбец)\n",
    "\n",
    "id нужно вставить без пробелов, через запятую. "
   ]
  },
  {
   "cell_type": "markdown",
   "metadata": {},
   "source": [
    "Правильный запрос:\n",
    "```\n",
    "SELECT \n",
    "    host_id,\n",
    "    groupArray(id) as host_listings,\n",
    "    groupArray(price) as prices,\n",
    "    AVG(toFloat64OrNull(replaceRegexpAll(price, '[$,]', ''))) as AvgPricePerHost\n",
    "FROM\n",
    "    listings\n",
    "GROUP BY\n",
    "    host_id\n",
    "ORDER BY\n",
    "    AvgPricePerHost DESC\n",
    "LIMIT 10\n",
    "```\n",
    "Ответ:\n",
    "```\n",
    "25757977,25759146,25802565,25802651,25802838,25802909,25803050,25803117,25803218,25803260\n",
    "```"
   ]
  },
  {
   "cell_type": "markdown",
   "metadata": {},
   "source": [
    "# Задание 6\n",
    "___\n",
    "Немного усложним предыдущую задачу, и посчитаем разницу между максимальной и минимальной установленной ценой у каждого хозяина. В качестве ответа укажите идентификатор хоста, у которого разница оказалась наибольшей. \n",
    "\n",
    "+ `host_id` – идентификатор хозяина\n",
    "+ `id` – идентификатор жилья\n",
    "+ `price` – цена за ночь в конкретном месте\n",
    "\n",
    "Пригодятся:\n",
    "\n",
    "+ replaceRegexpAll(столбец, что_заменить, на_что_заменить) – паттерн `[$,]` чтобы избавиться от $ и запятых\n",
    "+ toFloat32OrNull(столбец)\n",
    "\n",
    "Note: не забудьте повторить операции с предыдущего шага, обратите внимание на сортировку."
   ]
  },
  {
   "cell_type": "markdown",
   "metadata": {},
   "source": [
    "Правильный запрос:\n",
    "```\n",
    "SELECT \n",
    "    host_id,\n",
    "    groupArray(id) as host_listings,\n",
    "    MIN(toFloat64OrNull(replaceRegexpAll(price, '[$,]', ''))) as MinPricePerHost,\n",
    "    MAX(toFloat64OrNull(replaceRegexpAll(price, '[$,]', ''))) as MaxPricePerHost,\n",
    "    MaxPricePerHost - MinPricePerHost AS price_diff\n",
    "FROM\n",
    "    listings\n",
    "GROUP BY\n",
    "    host_id\n",
    "ORDER BY\n",
    "    price_diff DESC\n",
    "LIMIT 10\n",
    "```\n",
    "Ответ:\n",
    "```\n",
    "155140624\n",
    "```"
   ]
  },
  {
   "cell_type": "markdown",
   "metadata": {},
   "source": [
    "# Задание 7\n",
    "___\n",
    "Теперь сгруппируйте данные по типу жилья и выведите средние значения цены за ночь, размера депозита и цены уборки. Обратите внимание на тип данных, наличие значка $ и запятых в больших суммах. Для какого типа жилья среднее значение залога наибольшее?\n",
    "\n",
    "+ `room_type` – тип сдаваемого жилья \n",
    "+ `price` – цена за ночь\n",
    "+ `security_deposit` – залог за сохранность имущества\n",
    "+ `cleaning_fee` – плата за уборку"
   ]
  },
  {
   "cell_type": "markdown",
   "metadata": {},
   "source": [
    "Правильный запрос:\n",
    "```\n",
    "SELECT\n",
    "    room_type,\n",
    "    AVG(toFloat32OrNull(replaceRegexpAll(price, '[$,]', ''))) as AvgPrice,\n",
    "    AVG(toFloat32OrNull(replaceRegexpAll(security_deposit, '[$,]', ''))) as AvgSecurityDeposit,\n",
    "    AVG(toFloat32OrNull(replaceRegexpAll(cleaning_fee, '[$,]', ''))) as AvgClean\n",
    "FROM\n",
    "    listings\n",
    "GROUP BY\n",
    "    room_type\n",
    "ORDER BY\n",
    "    AvgSecurityDeposit DESC\n",
    "```\n",
    "Ответ:\n",
    "```\n",
    "Entire home/apt\n",
    "```"
   ]
  },
  {
   "cell_type": "markdown",
   "metadata": {},
   "source": [
    "# Задание 8\n",
    "___\n",
    "В каких частях города средняя стоимость за ночь является наиболее низкой? \n",
    "\n",
    "Сгруппируйте данные по `neighbourhood_cleansed` и посчитайте среднюю цену за ночь в каждом районе. В качестве ответа введите название места, где средняя стоимость за ночь ниже всего.\n",
    "\n",
    "+ `price` – цена за ночь\n",
    "+ `neighbourhood_cleansed` – район/округ города"
   ]
  },
  {
   "cell_type": "markdown",
   "metadata": {},
   "source": [
    "Правильный запрос:\n",
    "```\n",
    "SELECT\n",
    "    neighbourhood_cleansed,\n",
    "    AVG(toFloat32OrNull(replaceRegexpAll(price, '[$,]', ''))) as AvgPrice,\n",
    "    MAX(toFloat32OrNull(replaceRegexpAll(price, '[$,]', ''))) as MaxPrice,\n",
    "    MIN(toFloat32OrNull(replaceRegexpAll(price, '[$,]', ''))) as MinPrice\n",
    "FROM\n",
    "    listings\n",
    "GROUP BY\n",
    "    neighbourhood_cleansed \n",
    "ORDER BY\n",
    "    AvgPrice\n",
    "LIMIT 10\n",
    "```\n",
    "Ответ:\n",
    "```\n",
    "Neu-Hohenschönhausen Süd\n",
    "```"
   ]
  },
  {
   "cell_type": "markdown",
   "metadata": {},
   "source": [
    "# Задание 9\n",
    "___\n",
    "В каких районах Берлина средняя площадь жилья, которое сдаётся целиком, является наибольшей? Отсортируйте по среднему и выберите топ-3. \n",
    "\n",
    "+ `neighbourhood_cleansed` – район\n",
    "+ `square_feet` – площадь\n",
    "+ `room_type` – тип (нужный – 'Entire home/apt')"
   ]
  },
  {
   "cell_type": "markdown",
   "metadata": {},
   "source": [
    "Правильный запрос:\n",
    "```\n",
    "SELECT\n",
    "    neighbourhood_cleansed,\n",
    "    AVG(toFloat32OrNull(square_feet)) as AvgSquare\n",
    "FROM\n",
    "    listings\n",
    "WHERE\n",
    "    room_type = 'Entire home/apt'\n",
    "GROUP BY\n",
    "    neighbourhood_cleansed \n",
    "ORDER BY\n",
    "    AvgSquare DESC\n",
    "LIMIT 10\n",
    "```\n",
    "Ответ:\n",
    "\n",
    "+ Kaulsdorf\n",
    "+ Schöneberg-Süd \n",
    "+ Lichtenrade\n"
   ]
  },
  {
   "cell_type": "markdown",
   "metadata": {},
   "source": [
    "# Задание 10\n",
    "___\n",
    "Напоследок давайте посмотрим, какая из представленных комнат расположена ближе всего к центру города! В качестве ответа укажите id объявления.\n",
    "\n",
    "+ `id` – идентификатор жилья (объявления)\n",
    "+ `room_type` – тип жилья ('Private room')\n",
    "+ `latitude` – широта\n",
    "+ `longitude` – долгота\n",
    "+ 52.5200 с.ш., 13.4050 в.д – координаты центра Берлина"
   ]
  },
  {
   "cell_type": "markdown",
   "metadata": {},
   "source": [
    "Правильный запрос:\n",
    "```\n",
    "SELECT \n",
    "    id,\n",
    "    host_id,\n",
    "    toFloat64OrNull(latitude) as latitude,\n",
    "    toFloat64OrNull(longitude) as longitude,\n",
    "    geoDistance(13.4050, 52.5200, longitude, latitude) as dist\n",
    "FROM\n",
    "    listings\n",
    "WHERE \n",
    "    room_type = 'Private room'\n",
    "ORDER BY\n",
    "    dist \n",
    "LIMIT 1\n",
    "```\n",
    "Ответ:\n",
    "```\n",
    "19765058\n",
    "```"
   ]
  },
  {
   "cell_type": "code",
   "execution_count": null,
   "metadata": {},
   "outputs": [],
   "source": []
  }
 ],
 "metadata": {
  "kernelspec": {
   "display_name": "Python 3",
   "language": "python",
   "name": "python3"
  },
  "language_info": {
   "codemirror_mode": {
    "name": "ipython",
    "version": 3
   },
   "file_extension": ".py",
   "mimetype": "text/x-python",
   "name": "python",
   "nbconvert_exporter": "python",
   "pygments_lexer": "ipython3",
   "version": "3.7.3"
  }
 },
 "nbformat": 4,
 "nbformat_minor": 4
}
