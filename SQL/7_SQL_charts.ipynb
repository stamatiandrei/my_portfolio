{
 "cells": [
  {
   "cell_type": "markdown",
   "metadata": {},
   "source": [
    "# Блок №7"
   ]
  },
  {
   "cell_type": "markdown",
   "metadata": {},
   "source": [
    "# Задание 1\n",
    "___\n",
    "Ваш менее опытный коллега не уверен, что его таблица `retail` действительно создалась и добавилась в базу данных. Напишите запрос, который создаст таблицу, если она еще не существует (`IF NOT EXISTS`), со следующими параметрами:\n",
    "\n",
    "+ **Название**: `retail`\n",
    "+ **База**: `test`\n",
    "+ **Столбцы**:\n",
    " \n",
    " - `InvoiceNo` – идентификатор заказа, строковое значение\n",
    " - `StockCode` – идентификатор товара, строковое значение\n",
    " - `Description` – описание товара, строковое значение\n",
    " - `Quantity` – количество единиц товара, добавленных в корзину (особенность данных – значения могут быть отрицательными, 32 бита)\n",
    " - `InvoiceDate` – дата и время создания заказа (транзакции), часовой пояс – 'Europe/London'\n",
    " - `UnitPrice` – цена за единицу товара (особенность данных – значения могут быть отрицательными, точность – три знака после точки, 64 бита)\n",
    " - `CustomerID` – идентификатор пользователя, целое положительное число, 32 бита.\n",
    " - `Country` – страна, строковое значение. \n",
    "\n",
    "+ **Движок**: `MergeTree`\n",
    "+ **Сортировка**: `InvoiceDate`, `CustomerID`"
   ]
  },
  {
   "cell_type": "markdown",
   "metadata": {},
   "source": [
    "Правильный запрос:\n",
    "```\n",
    "CREATE TABLE IF NOT EXISTS test.retail ( \n",
    "    InvoiceNo String, \n",
    "    StockCode String, \n",
    "    Description String,\n",
    "    Quantity Int32, \n",
    "    InvoiceDate DateTime('Europe/London'),\n",
    "    UnitPrice Decimal64(3),\n",
    "    CustomerID UInt32,\n",
    "    Country String\n",
    ") \n",
    "ENGINE = MergeTree \n",
    "ORDER BY (InvoiceDate, CustomerID)\n",
    "```"
   ]
  },
  {
   "cell_type": "markdown",
   "metadata": {},
   "source": [
    "# Задание 2\n",
    "___\n",
    "В следующих шагах используется `default.retail` – данные о транзакциях британского интернет-магазина в период с 1 декабря 2010 по 9 декабря 2011, где:\n",
    "\n",
    "+ `InvoiceNo` – номер транзакции\n",
    "+ `StockCode` – код товара\n",
    "+ `Description` – описание товара\n",
    "+ `Quantity` – количество единиц товара, добавленных в заказ\n",
    "+ `InvoiceDate` – дата транзакции \n",
    "+ `UnitPrice` – цена за единицу товара\n",
    "+ `CustomerID` – id клиента\n",
    "+ `Country` – страна, где проживает клиент"
   ]
  },
  {
   "cell_type": "markdown",
   "metadata": {},
   "source": [
    "Для начала посмотрите, в каких странах имеется наибольшее число уникальных пользователей. Постройте барчарт, где:\n",
    "\n",
    "+ по оси x – страна\n",
    "+ по оси y – число пользователей\n",
    "\n",
    "В качестве ответа укажите число уникальных пользователей из Великобритании. "
   ]
  },
  {
   "cell_type": "markdown",
   "metadata": {},
   "source": [
    "Правильный запрос:\n",
    "```\n",
    "SELECT\n",
    "    COUNT(DISTINCT CustomerID) as NumUsers,\n",
    "    Country\n",
    "FROM\n",
    "    default.retail\n",
    "GROUP BY \n",
    "    Country\n",
    "ORDER BY \n",
    "    NumUsers DESC\n",
    "LIMIT 10\n",
    "```\n",
    "Ответ:\n",
    "```\n",
    "3950\n",
    "```"
   ]
  },
  {
   "attachments": {},
   "cell_type": "markdown",
   "metadata": {},
   "source": [
    "Теперь добавим визуализацию в виде Chart, указав ось X как Country и NumUsers как ось Y:\n",
    "[ссылка на график](http://redash.lab.karpov.courses/embed/query/5138/visualization/15893?api_key=PvQE2XdAT4be8pAd5EshhqHfiFmCCLksh8J7VbKd&)\n",
    "![](https://ucarecdn.com/0364c873-6d76-403e-8743-eed83bdbfc73/)"
   ]
  },
  {
   "cell_type": "markdown",
   "metadata": {},
   "source": [
    "# Задание 3\n",
    "___\n",
    "Следующая задача – посмотреть на динамику изменения числа активных пользователей в месяц в Великобритании, Австралии и Нидерландах. Полученная вами результирующая таблица должна иметь вид: страна - число уникальных пользователей за февраль 2011.\n",
    "\n",
    "+ MAU (monthly active users) – число уникальных пользователей за месяц. Активные пользователи – те, кто сделал хотя бы один заказ за выбранный промежуток времени (месяц).\n",
    "\n",
    "В качестве ответа укажите наименьшее число пользователей за февраль 2011. "
   ]
  },
  {
   "cell_type": "markdown",
   "metadata": {},
   "source": [
    "Правильный запрос:\n",
    "```\n",
    "SELECT\n",
    "    COUNT(DISTINCT CustomerID) as act_users,\n",
    "    Country,\n",
    "    toStartOfMonth(InvoiceDate) as so_month\n",
    "FROM\n",
    "    retail\n",
    "WHERE \n",
    "    Country IN ('United Kingdom', 'Netherlands', 'Australia')\n",
    "GROUP BY \n",
    "    Country, so_month\n",
    "ORDER BY\n",
    "    Country, so_month\n",
    "```\n",
    "Ответ:\n",
    "```\n",
    "2\n",
    "```"
   ]
  },
  {
   "cell_type": "markdown",
   "metadata": {},
   "source": [
    "Добавим визуализацию: поменяем тип Chart на Line, по оси X - месяц, по оси Y - количество уникальных пользователей, Group By по стране. \\\n",
    "[ссылка на график](http://redash.lab.karpov.courses/embed/query/5141/visualization/10912?api_key=kPz7oA4cigJi7goIFUU6zQEncMNUinsuuKIAK1N5&)\n",
    "![](https://ucarecdn.com/84b2ec0c-d382-4006-bf55-d41d31e8c48b/)"
   ]
  },
  {
   "cell_type": "markdown",
   "metadata": {},
   "source": [
    "# Задание 4\n",
    "___\n",
    "Как вы могли заметить, график с предыдущего шага получается не очень информативным для 2 из 3 стран. Давайте посмотрим на динамику изменения числа активных пользователей в месяц уже для всех стран, кроме Великобритании. \n",
    "\n",
    "В каких месяцах число активных пользователей во Франции было больше, чем в Германии?"
   ]
  },
  {
   "cell_type": "markdown",
   "metadata": {},
   "source": [
    "Правильный запрос:\n",
    "```\n",
    "SELECT\n",
    "    COUNT(DISTINCT CustomerID) as act_users,\n",
    "    Country,\n",
    "    toStartOfMonth(InvoiceDate) as so_month\n",
    "FROM\n",
    "    retail\n",
    "WHERE \n",
    "    Country IN ('Germany', 'France')\n",
    "GROUP BY \n",
    "    Country, so_month\n",
    "ORDER BY\n",
    "    Country, so_month\n",
    "```\n",
    "Ответ:\n",
    "```\n",
    "Сентябрь 2011\n",
    "Май 2011\n",
    "Декабрь 2011\n",
    "```"
   ]
  },
  {
   "cell_type": "markdown",
   "metadata": {},
   "source": [
    "Можно построить такой же лайнчарт для нового запроса и посчитать месяца, где линия с пользователями Франции выше, чем с пользователями Германии: \\\n",
    "[ссылка на график](http://redash.lab.karpov.courses/embed/query/5142/visualization/10916?api_key=e0320SEsoGfan8P2evEzg3isDbI75KNhpcpBpbLF&)\n",
    "![](https://ucarecdn.com/3df7f7ba-d2f6-403f-994c-32b61af2084d/)"
   ]
  },
  {
   "cell_type": "markdown",
   "metadata": {},
   "source": [
    "# Задание 5\n",
    "___\n",
    "Теперь проанализируем сами заказы. Посчитайте среднюю сумму заказа (AOV – average order value) в каждой из стран.\n",
    "\n",
    "Обратите внимание, что пользователь может добавить несколько одинаковых товаров в один заказ, и для подсчета суммы каждого заказа можно создать столбец `TotalPrice`, в котором будет храниться цена, которую пользователь заплатил, например, за три упаковки чая.\n",
    "\n",
    "| InvoiceNo | Description | Quantity | UnitPrice | TotalPrice |\n",
    "|-----------|-------------|----------|-----------|------------|\n",
    "| 12345 | 12345 | 3 | 1.2 | 3.6 |\n",
    "|12345 | COOKIES | 1 | 2.5 | 2.5 |\n",
    "\n",
    "Далее для каждого заказа нужно просуммировать полученную колонку, а затем сгруппировать данные по странам и посчитать среднюю сумму заказа в каждой из них.\n",
    "\n",
    "Визуализируйте результат. Из представленных вариантов ответа выберите страны, входящие в топ-3 по величине средней суммы заказа.\n",
    "\n",
    "В таблице есть отрицательные значения `Quantity`, что соответствует отмененным заказам. Их в расчет AOV включать не нужно."
   ]
  },
  {
   "cell_type": "markdown",
   "metadata": {},
   "source": [
    "Правильный запрос:\n",
    "```\n",
    "SELECT\n",
    "    Country,\n",
    "    AVG(sum_order) AS avg_order\n",
    "FROM (\n",
    "    SELECT\n",
    "        Country,\n",
    "        InvoiceNo,\n",
    "        SUM(Quantity * UnitPrice) AS sum_order\n",
    "    FROM \n",
    "        retail\n",
    "    WHERE Quantity > 0\n",
    "    GROUP BY\n",
    "        Country, InvoiceNo\n",
    "    )\n",
    "GROUP BY\n",
    "    Country\n",
    "```\n",
    "Ответ:\n",
    "```\n",
    "Netherlands\n",
    "Singapore\n",
    "Australia\n",
    "```"
   ]
  },
  {
   "cell_type": "markdown",
   "metadata": {},
   "source": [
    "Также можно сразу ограничить запрос тремя записями и задать сортировку по убыванию средней стоимости, чтобы получить ответ. \\\n",
    "[ссылка на график](http://redash.lab.karpov.courses/embed/query/5144/visualization/10918?api_key=F6uUv3fy4q9tUaeLC5MnnMaT4KMAqWk4IGG5ONjm&)\n",
    "![](https://storage.yandexcloud.net/klms-public/production/learning-content/28/373/2894/8896/35196/image.png)"
   ]
  },
  {
   "cell_type": "markdown",
   "metadata": {},
   "source": [
    "# Задание 6\n",
    "___\n",
    "Как изменялась средняя сумма заказа в разных странах по месяцам?\n",
    "\n",
    "Предположим, нас интересует динамика в следующих странах: United Kingdom, Germany, France, Spain, Netherlands, Belgium, Switzerland, Portugal, Australia, USA. Визуализируйте результат и выберите верные утверждения."
   ]
  },
  {
   "cell_type": "markdown",
   "metadata": {},
   "source": [
    "Правильный запрос:\n",
    "```\n",
    "SELECT\n",
    "    Country,\n",
    "    order_month,\n",
    "    AVG(sum_order) AS avg_order\n",
    "FROM (\n",
    "    SELECT\n",
    "        Country,\n",
    "        InvoiceNo,\n",
    "        toStartOfMonth(InvoiceDate) as order_month,\n",
    "        SUM(Quantity * UnitPrice) AS sum_order\n",
    "    FROM \n",
    "        retail\n",
    "    GROUP BY\n",
    "        Country, InvoiceNo, order_month\n",
    "    )\n",
    "WHERE \n",
    "    Country IN ('United Kingdom', 'Germany', 'France', 'Spain', 'Netherlands', 'Belgium', \n",
    "    'Switzerland', 'Portugal', 'Australia', 'USA')\n",
    "GROUP BY\n",
    "    Country, order_month\n",
    "ORDER BY\n",
    "    Country\n",
    "```\n",
    "Ответ:\n",
    "```\n",
    "Самые большие значения среднего чека наблюдаются в Австралии и Нидерландах.\n",
    "Аномальный рост среднего чека произошел в августе 2011 среди пользователей из Австралии\n",
    "С июля/августа средний чек в Швейцарии снова начал расти\n",
    "```"
   ]
  },
  {
   "cell_type": "markdown",
   "metadata": {},
   "source": [
    "Полученный график позволит пройтись по всем предложенным утверждениям из списка и выбрать корректные. \\\n",
    "[ссылка на график](http://redash.lab.karpov.courses/embed/query/5145/visualization/10920?api_key=ahfv2X8I8LpMLkQ64bgqE5QmMngAMP2dZUtPWvJn&)\n",
    "![](https://ucarecdn.com/68f55680-c127-4808-8825-8ae63efc17c6/)"
   ]
  },
  {
   "cell_type": "markdown",
   "metadata": {},
   "source": [
    "# Задание 7\n",
    "___\n",
    "Сколько товаров пользователи обычно добавляют в корзину? Посчитайте среднее количество товаров, добавленных в корзину, с разбивкой по странам. \n",
    "\n",
    "В качестве ответа укажите среднее число товаров в заказе среди пользователей в Канаде (Canada)."
   ]
  },
  {
   "cell_type": "markdown",
   "metadata": {},
   "source": [
    "Правильный запрос:\n",
    "```\n",
    "SELECT\n",
    "    Country,\n",
    "    AVG(ItemsInOrder) as AvgPerOrder\n",
    "FROM (\n",
    "    SELECT \n",
    "        Country,\n",
    "        SUM(Quantity) as ItemsInOrder\n",
    "    FROM\n",
    "        retail\n",
    "    GROUP BY\n",
    "        InvoiceNo, \n",
    "        Country\n",
    "    )\n",
    "WHERE Country='Canada'\n",
    "GROUP BY Country\n",
    "```\n",
    "Ответ:\n",
    "```\n",
    "460.50\n",
    "```"
   ]
  },
  {
   "cell_type": "markdown",
   "metadata": {},
   "source": [
    "# Задание 8\n",
    "___\n",
    "Возможно, результат на предыдущем шаге показался вам странным, особенно если соотнести средний размер корзины с числом уникальных пользователей в некоторых странах. \n",
    "\n",
    "Посмотрим на Нидерланды (Netherlands) более подробно. Сгруппируйте данные по пользователям и посмотрите, кто купил наибольшее число товаров. В ответе укажите идентификатор данного пользователя. "
   ]
  },
  {
   "cell_type": "markdown",
   "metadata": {},
   "source": [
    "Правильный запрос:\n",
    "```\n",
    "SELECT\n",
    "    CustomerID,\n",
    "    SUM(Quantity) as NumItems\n",
    "FROM\n",
    "    retail\n",
    "WHERE \n",
    "    Country = 'Netherlands'\n",
    "GROUP BY \n",
    "    CustomerID\n",
    "ORDER BY\n",
    "    NumItems DESC\n",
    "LIMIT 1\n",
    "```\n",
    "Ответ:\n",
    "```\n",
    "14646\n",
    "```"
   ]
  },
  {
   "cell_type": "markdown",
   "metadata": {},
   "source": [
    "# Задание 9\n",
    "___\n",
    "Один из пользователей добавил к себе в корзину почти 200 тысяч товаров. Не кажется ли это подозрительным? Изучите, что именно он покупает, посмотрите на количество товаров в каждом заказе, итоговые суммы. Подумайте, кто или что это может быть 🤔\n",
    "\n",
    "Когда подумаете, просто введите идентификатор данного пользователя еще раз в поле ниже."
   ]
  },
  {
   "cell_type": "markdown",
   "metadata": {},
   "source": [
    "Ответ:\n",
    "```\n",
    "14646\n",
    "```"
   ]
  },
  {
   "cell_type": "markdown",
   "metadata": {},
   "source": [
    "1) В качестве первого шага можно просто забрать все имеющиеся записи в retail по CustomerID этого пользователя, отсортировать результат по количеству купленного и посмотреть на таблицу глазами - есть ли что-то необычное, видны ли какие-либо закономерности?\n",
    "\n",
    "2) Можно попробовать собрать самые массово купленные этим пользователем товары и разбить их на категории - посмотреть, что было куплено. Также можно попробовать поискать закономерности в датах покупок\n",
    "\n",
    "3) Можно было бы проверить этот результат на фрод - обычно для всех транзакций в интернет-магазинах есть таблица с верификацией этих транзакций, по которой можно убедиться, были ли платежи реальными. Вероятно, если платежи реальны, это могла быть оптовая закупка - например, другим магазином, а если нет - то это мог быть фрод или боты. Также не исключено, что проблема на самом деле в данных - например, покупки от множества пользователей записались в базу под одним идентификатором."
   ]
  },
  {
   "cell_type": "code",
   "execution_count": null,
   "metadata": {},
   "outputs": [],
   "source": []
  }
 ],
 "metadata": {
  "kernelspec": {
   "display_name": "Python 3",
   "language": "python",
   "name": "python3"
  },
  "language_info": {
   "codemirror_mode": {
    "name": "ipython",
    "version": 3
   },
   "file_extension": ".py",
   "mimetype": "text/x-python",
   "name": "python",
   "nbconvert_exporter": "python",
   "pygments_lexer": "ipython3",
   "version": "3.7.3"
  }
 },
 "nbformat": 4,
 "nbformat_minor": 4
}
