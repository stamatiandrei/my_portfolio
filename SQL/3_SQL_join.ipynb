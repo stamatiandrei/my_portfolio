{
 "cells": [
  {
   "cell_type": "markdown",
   "metadata": {},
   "source": [
    "# Блок №3"
   ]
  },
  {
   "cell_type": "markdown",
   "metadata": {},
   "source": [
    "Сначала пара задач на теорию, а далее продолжим тренироваться с данными мобильного приложения📱.\n",
    "\n",
    "`installs` — содержит данные об установках приложения по дням.\n",
    "\n",
    "+ DeviceID — идентификатор устройства, на которое было установлено приложение;\n",
    "+ InstallationDate — дата установки приложения;\n",
    "+ InstallCost — цена установки приложения в рублях;\n",
    "+ Platform — платформа, на которой было установлено приложение (iOS/ Android);\n",
    "+ Source — источник установки приложения (магазин приложения/ рекламная система/ переход с сайта).\n",
    "\n",
    "`events` — содержит данные о том, как активно пользователи просматривают товары в приложении по дням.\n",
    "\n",
    "+ DeviceID — идентификатор устройства, на котором используется приложение;\n",
    "+ AppPlatform — платформа, на которой используется приложение (iOS/ Android);\n",
    "+ EventDate — дата, за которую собрана статистика;\n",
    "+ events — количество просмотров всех товаров за этот день у этого DeviceID.\n",
    "\n",
    "`checks` — содержит данные о покупках пользователей в приложении по дням\n",
    "\n",
    "+ UserID — идентификатор пользователя;\n",
    "+ Rub — суммарный чек пользователя на дату;\n",
    "+ BuyDate — дата, за которую собрана статистика.\n",
    "\n",
    "Особенность приложения заключается в том, что для просмотра товаров не обязательно авторизовываться. До момента авторизации про пользователя известен только его `DeviceID` — идентификатор устройства. При этом для совершения покупки логин обязателен. На моменте авторизации пользователю присваивается `UserID`, и тогда мы уже знаем два его идентификатора: `DeviceID` (устройство) и `UserID` (логин). Так как на этапах установки приложения и просмотра каталога пользователь еще может быть не авторизован, там мы сохраняем только `DeviceID`. Но так как покупки нельзя совершить без авторизации, то покупки сохраняются только с `UserID`. Для того чтобы просмотры и установки можно было объединить с покупками, нам нужна таблица соответствия `DeviceID` к `UserID`, то есть таблица `devices`:\n",
    "\n",
    "+ DeviceID — идентификатор устройства;\n",
    "+ UserID — идентификатор пользователя."
   ]
  },
  {
   "cell_type": "markdown",
   "metadata": {},
   "source": [
    "# Задание 1\n",
    "___\n",
    "Сопоставьте основные виды JOIN с описанием:"
   ]
  },
  {
   "cell_type": "markdown",
   "metadata": {},
   "source": [
    "Ответы:\n",
    "```\n",
    "INNER JOIN - возвращает только совпадающие строки\n",
    "LEFT OUTER JOIN - возвращает всю левую таблицу A и соответствующие строки из правой таблицы B\n",
    "RIGHT OUTER JOIN - возвращает всю правую таблицу B и соответствующие строки из левой таблицы A\n",
    "FULL OUTER JOIN - возвращает не совпадающие и совпадающие строки из обеих таблиц\n",
    "CROSS JOIN - производит декартово произведение таблиц целиком\n",
    "```"
   ]
  },
  {
   "cell_type": "markdown",
   "metadata": {},
   "source": [
    "# Задание 2\n",
    "___\n",
    "Соотнесите номера таблиц table 3 (1-4) с видом JOIN, который был применен при ее формировании:\n",
    "\n",
    "1. ![](https://ucarecdn.com/cbabccc8-119b-4330-9d94-a98a3850ca62/)\n",
    "2. ![](https://ucarecdn.com/2cbc54f7-42e1-41a1-99d2-d346c247b751/)\n",
    "3. ![](https://ucarecdn.com/4cfd3075-7c75-4816-a866-befc4dcf24f8/)\n",
    "4. ![](https://ucarecdn.com/5ebb968c-1cb3-4b3d-93e7-fa2b8181aafa/)"
   ]
  },
  {
   "cell_type": "markdown",
   "metadata": {},
   "source": [
    "Ответ:\n",
    "```\n",
    "1 – RIGHT JOIN (в результате JOIN сохранился индекс правой таблицы)\n",
    "2 – CROSS JOIN (произошло декартово произведение таблиц - для каждого значения из левой таблицы подставилось каждое значение из правой)\n",
    "3 – INNER JOIN (в результате JOIN остались только совпадающие колонки из обеих таблиц)\n",
    "4 – LEFT JOIN (в результате JOIN сохранился индекс левой таблицы)\n",
    "```"
   ]
  },
  {
   "cell_type": "markdown",
   "metadata": {},
   "source": [
    "# Задание 3\n",
    "___\n",
    "У пользователя может быть два идентификатора – `UserID` и `DeviceID`. В таблице `checks` есть только `UserID`, в остальных – только `DeviceID`. Во вспомогательной таблице `devices` есть и `UserID`, и `DeviceID`. \n",
    "\n",
    "Давайте с помощью `JOIN` дополним таблицу `events` (left) данными о `UserID` пользователей из таблицы `devices` (right). Для некоторых `DeviceID` не будет пары `UserID` из таблицы `devices` – подумайте, какой вид `JOIN` подойдет, чтобы не потерять те строки, где `DeviceID` есть в `events`, но нет в `devices`.\n",
    "\n",
    "Укажите `UserID` из первой строки результирующей таблицы, используя сортировку по убыванию по полю `DeviceID`."
   ]
  },
  {
   "cell_type": "markdown",
   "metadata": {},
   "source": [
    "Правильный запрос:\n",
    "```\n",
    "SELECT\n",
    "    e.AppPlatform AS AppPlatform,\n",
    "    e.DeviceID AS DeviceID,\n",
    "    e.EventDate AS EventDate,\n",
    "    e.events AS events,\n",
    "    d.UserID AS UserID\n",
    "FROM \n",
    "    events as e\n",
    "LEFT JOIN devices AS d\n",
    "    ON e.DeviceID = d.DeviceID\n",
    "ORDER BY \n",
    "    DeviceID DESC\n",
    "LIMIT 1\n",
    "```\n",
    "Ответ:\n",
    "```\n",
    "8158889386484182099\n",
    "```"
   ]
  },
  {
   "cell_type": "markdown",
   "metadata": {},
   "source": [
    "# Задание 4\n",
    "___\n",
    "Давайте проверим, пользователи пришедшие из какого источника совершили наибольшее число покупок. В качестве ответа выберите название `Source`, юзеры которого совершили больше всего покупок.\n",
    "\n",
    "Для этого используйте `UserID`, `DeviceID` и `Source` из соответствующих таблиц. Считать уникальные значения здесь не нужно."
   ]
  },
  {
   "cell_type": "markdown",
   "metadata": {},
   "source": [
    "Правильный запрос:\n",
    "```\n",
    "SELECT\n",
    "    i.Source, \n",
    "    COUNT(c.UserID) as cnt\n",
    "FROM \n",
    "    checks as c\n",
    "JOIN devices as d\n",
    "    ON c.UserID = d.UserID\n",
    "JOIN installs as i\n",
    "    ON d.DeviceID = i.DeviceID\n",
    "GROUP BY \n",
    "    i.Source\n",
    "ORDER BY \n",
    "    cnt DESC\n",
    "LIMIT 1\n",
    "```\n",
    "Ответ:\n",
    "```\n",
    "Source_27\n",
    "```"
   ]
  },
  {
   "cell_type": "markdown",
   "metadata": {},
   "source": [
    "# Задание 5\n",
    "___\n",
    "Теперь выясним, сколько всего уникальных юзеров что-то купили в нашем приложении.\n",
    "\n",
    "Объедините нужные таблицы, посчитайте число уникальных `UserID` для каждого источника (`Source`), и в качестве ответа укажите число пользователей, пришедших из `Source_7`.\n",
    "\n",
    "checks – покупки, devices – соответствие, installs – информация об источнике."
   ]
  },
  {
   "cell_type": "markdown",
   "metadata": {},
   "source": [
    "Правильный запрос:\n",
    "```\n",
    "SELECT \n",
    "    COUNT(DISTINCT c.UserID) as Uniq_users_count,\n",
    "    i.Source as Source\n",
    "FROM \n",
    "    checks as c\n",
    "JOIN devices as d\n",
    "    ON c.UserID = d.UserID\n",
    "JOIN installs as i\n",
    "    ON d.DeviceID = i.DeviceID\n",
    "WHERE i.Source = 'Source_7'\n",
    "GROUP BY \n",
    "    i.Source\n",
    "LIMIT 1\n",
    "```\n",
    "Ответ:\n",
    "```\n",
    "11432\n",
    "```"
   ]
  },
  {
   "cell_type": "markdown",
   "metadata": {},
   "source": [
    "# Задание 6\n",
    "___\n",
    "Самое время посмотреть на общую выручку, а также минимальный, максимальный и средний чек. Рассчитайте нужные показатели и соотнесите полученные значения:"
   ]
  },
  {
   "cell_type": "markdown",
   "metadata": {},
   "source": [
    "Правильный запрос:\n",
    "```\n",
    "SELECT\n",
    "    i.Source, \n",
    "    SUM(Rub) as Revenue,\n",
    "    MIN(Rub) as MinRub,\n",
    "    MAX(Rub) as MaxRub,\n",
    "    AVG(Rub) as AvgRub\n",
    "FROM \n",
    "    checks as c\n",
    "JOIN devices as d\n",
    "    ON c.UserID = d.UserID\n",
    "JOIN installs as i\n",
    "    ON d.DeviceID = i.DeviceID\n",
    "GROUP BY \n",
    "    i.Source\n",
    "LIMIT 50\n",
    "```\n",
    "SELECT и агрегатные функции в нем будут применены уже к результату джоинов. Для того, чтобы получить результат сразу по интересующим источникам, можно отфильтровать их в блоке WHERE.\n",
    "\n",
    "Ответ:\n",
    "```\n",
    "Максимальный чек пользователей из Source_14 -> 38189\n",
    "Средний чек пользователей Source_21 -> 5.5555556\n",
    "Общая сумма денег, полученная от пользователей Source_1 -> 74\n",
    "Общая выручка для Source_13 -> 2752\n",
    "Максимальная сумма заказа среди пользователей из Source_10 -> 10\n",
    "```"
   ]
  },
  {
   "cell_type": "markdown",
   "metadata": {},
   "source": [
    "# Задание 7\n",
    "___\n",
    "Выведите идентификаторы устройств пользователей, которые совершили как минимум одну покупку за последний месяц (октябрь 2019). Используйте сортировку по возрастанию `DeviceID` и укажите минимальное значение.\n",
    "\n",
    "Для извлечения месяца из даты можно использовать `toMonth()` или  `toStartOfMonth()`, предварительно приведя `BuyDate` к типу date."
   ]
  },
  {
   "cell_type": "markdown",
   "metadata": {},
   "source": [
    "Правильный запрос:\n",
    "```\n",
    "SELECT *\n",
    "FROM \n",
    "    checks as c\n",
    "JOIN devices as d\n",
    "    ON c.UserID=d.UserID\n",
    "WHERE \n",
    "    toStartOfMonth(CAST(BuyDate as date)) = '2019-10-01' \n",
    "ORDER \n",
    "    BY DeviceID\n",
    "LIMIT 10\n",
    "```\n",
    "Ответ:\n",
    "```\n",
    "22374478679519\n",
    "```"
   ]
  },
  {
   "cell_type": "markdown",
   "metadata": {},
   "source": [
    "# Задание 8\n",
    "___\n",
    "Проверим, сколько товаров (`events`) в среднем просматривают пользователи с разных платформ (`Platform`), и пришедшие из разных источников  (`Source`). Для этого объедините таблицы `events` и `installs`, и посчитайте, сколько просмотров в среднем приходится на каждую пару платформа-канал привлечения.\n",
    "\n",
    "Отсортируйте полученную табличку по убыванию среднего числа просмотров. В качестве ответа укажите платформу и источник, пользователи которого в среднем просматривали товары бóльшее число раз."
   ]
  },
  {
   "cell_type": "markdown",
   "metadata": {},
   "source": [
    "Правильный запрос:\n",
    "```\n",
    "SELECT\n",
    "    e.AppPlatform,\n",
    "    i.Source,\n",
    "    AVG(e.events) as avg_events\n",
    "FROM\n",
    "    events as e\n",
    "JOIN \n",
    "    installs as i\n",
    "ON \n",
    "    e.DeviceID = i.DeviceID\n",
    "GROUP BY\n",
    "    e.AppPlatform, \n",
    "    i.Source\n",
    "ORDER BY \n",
    "    avg_events DESC\n",
    "LIMIT 10\n",
    "```\n",
    "Ответ:\n",
    "```\n",
    "Платформа IOS, номер источника: 20\n",
    "```"
   ]
  },
  {
   "cell_type": "markdown",
   "metadata": {},
   "source": [
    "# Задание 9\n",
    "___\n",
    "Давайте посчитаем число уникальных `DeviceID` в инсталлах, для которых присутствуют просмотры в таблице `events` с разбивкой по платформам (поле `Platform`). Для этого можно отобрать все строки только из таблицы `installs`, для которых нашлось соответствие в таблице `events`. \n",
    "\n",
    "В качестве ответа введите число инсталлов, для которых нашлись просмотры, на платформе android."
   ]
  },
  {
   "cell_type": "markdown",
   "metadata": {},
   "source": [
    "Правильный запрос:\n",
    "```\n",
    "SELECT \n",
    "    COUNT(DISTINCT(DeviceID)) AS devices_number,\n",
    "    Platform \n",
    "FROM \n",
    "    installs AS i \n",
    "LEFT SEMI JOIN \n",
    "    events AS ev \n",
    "ON \n",
    "    i.DeviceID=ev.DeviceID \n",
    "GROUP BY \n",
    "    Platform\n",
    "```\n",
    "Ответ:\n",
    "```\n",
    "9051220\n",
    "```"
   ]
  },
  {
   "cell_type": "markdown",
   "metadata": {},
   "source": [
    "# Задание 10\n",
    "___\n",
    "Давайте теперь посчитаем конверсию из инсталла в просмотр с разбивкой по платформе инсталла - в данном случае это доля `DeviceID`, для которых есть просмотры, от всех `DeviceID` в инсталлах. \n",
    "\n",
    "Для этого нужно объединить таблицы `installs` и `events` так, чтобы получить все `DeviceID` инсталлов и соответствующие им `DeviceID` из `events`, посчитать число уникальных `DeviceID` инсталлов (1) и соответствующих `DeviceID` из `events` (2) и вычислить долю (2) от (1). В качестве ответа укажите значение конверсии из инсталла в просмотр на платформе ios. \n",
    "\n",
    "Ответ указать не в процентах, а именно в виде доли (т.е. не нужно домножать полученный ответ на 100). "
   ]
  },
  {
   "cell_type": "markdown",
   "metadata": {},
   "source": [
    "Правильный запрос:\n",
    "```\n",
    "SELECT \n",
    "    Platform, \n",
    "    COUNT(DISTINCT(ev.DeviceID)) / COUNT(DISTINCT(i.DeviceID)) AS Conversion\n",
    "FROM \n",
    "    installs AS i \n",
    "LEFT JOIN\n",
    "    events AS ev\n",
    "ON \n",
    "    i.DeviceID=ev.DeviceID \n",
    "GROUP BY \n",
    "    Platform\n",
    "```\n",
    "Ответ:\n",
    "```\n",
    "0.986646\n",
    "```"
   ]
  },
  {
   "cell_type": "markdown",
   "metadata": {},
   "source": [
    "# Задание 11\n",
    "___\n",
    "Представим, что в логирование `DeviceID` в событиях закралась ошибка - часть ID была записана в базу некорректно. Это привело к тому, что в таблице с событиями появились `DeviceID`, для которых нет инсталлов. Нам надо отобрать примеры `DeviceID` из таблицы `event`, которых нет в таблице `installs`, чтобы отправить их команде разработчиков на исправление. \n",
    "\n",
    "Выведите 10 уникальных `DeviceID`, которые присутствуют в таблице `events`, но отсутствуют в `installs`, отсортировав их в порядке убывания. В качестве ответа введите первый `DeviceID` из списка.  "
   ]
  },
  {
   "cell_type": "markdown",
   "metadata": {},
   "source": [
    "Правильный запрос:\n",
    "```\n",
    "SELECT \n",
    "    DISTINCT(DeviceID)\n",
    "FROM \n",
    "    events AS ev \n",
    "LEFT ANTI JOIN\n",
    "    installs AS i\n",
    "ON \n",
    "    i.DeviceID=ev.DeviceID\n",
    "ORDER BY \n",
    "    DeviceID DESC\n",
    "LIMIT 10\n",
    "```\n",
    "Ответ:\n",
    "```\n",
    "18446741643567719656\n",
    "```"
   ]
  },
  {
   "cell_type": "code",
   "execution_count": null,
   "metadata": {},
   "outputs": [],
   "source": []
  }
 ],
 "metadata": {
  "kernelspec": {
   "display_name": "Python 3",
   "language": "python",
   "name": "python3"
  },
  "language_info": {
   "codemirror_mode": {
    "name": "ipython",
    "version": 3
   },
   "file_extension": ".py",
   "mimetype": "text/x-python",
   "name": "python",
   "nbconvert_exporter": "python",
   "pygments_lexer": "ipython3",
   "version": "3.7.3"
  }
 },
 "nbformat": 4,
 "nbformat_minor": 4
}
