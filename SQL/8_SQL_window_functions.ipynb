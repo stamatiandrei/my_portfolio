{
 "cells": [
  {
   "cell_type": "markdown",
   "metadata": {},
   "source": [
    "# Блок №8"
   ]
  },
  {
   "cell_type": "markdown",
   "metadata": {},
   "source": [
    "# Задание 1\n",
    "___\n",
    "Для чего используют оконные функции?\n",
    "\n",
    "+ когда необходимо использовать результирующую таблицу одного запроса, как входную таблицу для другого\n",
    "+ когда необходимо сохранить результирующую таблицу в новом окне\n",
    "+ когда необходимо объединить две или несколько таблиц по общему ключу\n",
    "+ когда необходимо получить значения соседних ячеек, не меняя при этом группировку строк"
   ]
  },
  {
   "cell_type": "markdown",
   "metadata": {},
   "source": [
    "Ответ:\n",
    "когда необходимо получить значения соседних ячеек, не меняя при этом группировку строк"
   ]
  },
  {
   "cell_type": "markdown",
   "metadata": {},
   "source": [
    "# Задача 2\n",
    "___\n",
    "Соотнесите параметр с его описанием:"
   ]
  },
  {
   "cell_type": "markdown",
   "metadata": {},
   "source": [
    "Ответ:\n",
    "+ PARTITION BY – группирует данные для окна\n",
    "+ ORDER BY – сортирует результаты внутри раздела\n",
    "+ ROWS/RANGE – задает параметры рамки окна"
   ]
  },
  {
   "cell_type": "markdown",
   "metadata": {},
   "source": [
    "# Задача 3\n",
    "___\n",
    "В чем заключается различие между ROWS и RANGE?"
   ]
  },
  {
   "cell_type": "markdown",
   "metadata": {},
   "source": [
    "Ответ:\n",
    "+ При использовании ROWS начало и конец рамки задаются в строках относительно текущей строки\n",
    "+ При использовании RANGE начало и конец рамки задаются в разнице значений столбца из ORDER BY."
   ]
  },
  {
   "cell_type": "markdown",
   "metadata": {},
   "source": [
    "# Задача 4\n",
    "___\n",
    "Немного освежим в памяти порядок указания операторов в запросе! Расположите их в правильном порядке:"
   ]
  },
  {
   "cell_type": "markdown",
   "metadata": {},
   "source": [
    "Ответ: \\\n",
    "SELECT [перечисление полей] \\\n",
    "FROM [имя таблицы] \\\n",
    "WHERE [имя поля] (=, >, <, IN,) [значение поля] \\\n",
    "GROUP BY [перечисление поле, по которым происходит группировка] \\\n",
    "HAVING [имя агрегированного поля] (=, >, <,) [значение поля] \\\n",
    "WINDOW [имя окна] AS [спецификация окна] \\\n",
    "ORDER BY [поле] (DESC/ASC) \\\n",
    "LIMIT [количество извлекаемых строк] \\"
   ]
  },
  {
   "cell_type": "markdown",
   "metadata": {},
   "source": [
    "# ЗАдача 5\n",
    "___\n",
    "Посмотрим на пример. Предположим, есть таблица с пользователями, состоящая из 4 колонок. Для пользователей из Германии нужно посчитать накопительную сумму покупок и записать в `TotalPerUser`.\n",
    "\n",
    "| Country | UserID | BuyDate | Rub | TotalPerUser |\n",
    "|---------|--------|---------|-----|--------------|\n",
    "| Germany | 1406814346437 | 27/07/19 | 4 | 4 |\n",
    "| Germany | 1406814346437 |29/07/19 | 3 | 7 |"
   ]
  },
  {
   "cell_type": "markdown",
   "metadata": {},
   "source": [
    "Правильный запрос:\n",
    "```\n",
    "SELECT Country, UserID, BuyDate, Rub, SUM(Rub) OVER w AS TotalPerUser\n",
    "FROM data\n",
    "WHERE Country = 'Germany'\n",
    "WINDOW w AS \n",
    "\t(PARTITION BY UserID \n",
    "\t ORDER BY BuyDate ASC\n",
    "         ROWS BETWEEN UNBOUNDED PRECEDING AND CURRENT ROW)\n",
    "ORDER BY\n",
    "\t UserID DESC, \n",
    "\t BuyDate ASC\n",
    "LIMIT 100\n",
    "```"
   ]
  },
  {
   "cell_type": "markdown",
   "metadata": {},
   "source": [
    "# Задание 6\n",
    "___\n",
    "Возможно вы о них забыли, но они вернулись! Данные по продажам авокадо 🥑: \n",
    "\n",
    "+ `date` — дата\n",
    "+ `average_price` — средняя цена одного авокадо\n",
    "+ `total_volume` — количество проданных авокадо\n",
    "+ `plu4046` — количество проданных авокадо PLU* 4046\n",
    "+ `plu4225` — количество проданных авокадо PLU 4225\n",
    "+ `lu4770` — количество проданных авокадо PLU 4770\n",
    "+ `total_bags` — всего упаковок\n",
    "+ `small_bags` — маленькие упаковки\n",
    "+ `large_bags` — большие\n",
    "+ `xlarge_bags` — очень большие\n",
    "+ `type` — обычный или органический\n",
    "+ `year` — год\n",
    "+ `region` — город или регион (TotalUS – сразу по США)\n",
    "\n",
    "В таблице находятся данные не за каждый день, а за конец каждой недели. Для каждой даты есть несколько наблюдений, отличающихся по типу авокадо и региону продажи. \n",
    "\n",
    "*PLU — код товара (Product Lookup code)"
   ]
  },
  {
   "cell_type": "markdown",
   "metadata": {},
   "source": [
    "Давайте посмотрим на продажи авокадо в двух городах (NewYork, LosAngeles) и узнаем, сколько авокадо типа organic было продано в целом к концу каждой недели (накопительная сумма продаж), начиная с начала периода наблюдений (04/01/15). Пример результирующей таблицы:\n",
    "\n",
    "| region\t| date | total_volume | volume |\n",
    "|-----------|------|--------------|--------|\n",
    "| NewYork | 04/01/15\t| 17328.24 | 17328.24 | \n",
    "| NewYork | 11/01/15 | 14817.97 | 32146.21 |\n",
    "| NewYork | 18/01/15 | 9204.78 | 41350.99 |\n",
    "\n",
    "Значения внутри окна сортируйте по дате, а саму таблицу отсортируйте по убыванию региона (сначала NY, потом LA) и по возрастанию даты.\n",
    "\n",
    "В качестве ответа укажите объем продаж в Нью Йорке на 01/03/15 (без запятых)."
   ]
  },
  {
   "cell_type": "markdown",
   "metadata": {},
   "source": [
    "Правильный запрос:\n",
    "```\n",
    "SELECT \n",
    "    region, \n",
    "    date, \n",
    "    total_volume, \n",
    "    SUM(total_volume) OVER w AS volume\n",
    "FROM \n",
    "    avocado \n",
    "WHERE \n",
    "    region IN ('NewYork', 'LosAngeles') AND type='organic'\n",
    "WINDOW w AS (\n",
    "    PARTITION BY region\n",
    "    ORDER BY date ASC\n",
    "    ROWS BETWEEN UNBOUNDED PRECEDING AND CURRENT ROW\n",
    ")\n",
    "ORDER BY \n",
    "    region DESC, \n",
    "    date\n",
    "```\n",
    "Ответ:\n",
    "```\n",
    "165402.96\n",
    "```"
   ]
  },
  {
   "cell_type": "markdown",
   "metadata": {},
   "source": [
    "# Задание 7\n",
    "___\n",
    "Теперь добавьте разбиение по каждому году (year). Таким образом, в конце февраля 2016 года объем составит уже не продажи за 2015 и январь-февраль 2016, а только январь-февраль 2016.\n",
    "\n",
    "Когда объемы продаж органических авокадо в Нью-Йорке превысили объемы продаж в Лос-Анджелесе?\n",
    "\n",
    "Для решения задачи постройте график объема продаж в двух городах, где по оси X будет лежать дата. "
   ]
  },
  {
   "cell_type": "markdown",
   "metadata": {},
   "source": [
    "Правильный запрос:\n",
    "```\n",
    "SELECT \n",
    "    region, \n",
    "    date, \n",
    "    total_volume, \n",
    "    SUM(total_volume) OVER w AS volume\n",
    "FROM \n",
    "    avocado \n",
    "WHERE \n",
    "    region IN ('NewYork', 'LosAngeles') AND type='organic'\n",
    "WINDOW w AS (\n",
    "    PARTITION BY region, year\n",
    "    ORDER BY date ASC\n",
    "    ROWS BETWEEN UNBOUNDED PRECEDING AND CURRENT ROW\n",
    ")\n",
    "ORDER BY \n",
    "    region DESC, \n",
    "    date\n",
    "```\n",
    "Ответ:\n",
    "```\n",
    "В феврале 2018\n",
    "```"
   ]
  },
  {
   "cell_type": "markdown",
   "metadata": {},
   "source": [
    "[ссылка н аграфик](http://redash.lab.karpov.courses/embed/query/7556/visualization/15947?api_key=0fotT4mminx1whC4h1CactKTucbJ9D6lpidJejRY&)\n",
    "![](https://ucarecdn.com/f45cc8bc-1b56-45c1-a07e-55dfa24fd226/)"
   ]
  },
  {
   "cell_type": "markdown",
   "metadata": {},
   "source": [
    "# Задание 8\n",
    "___\n",
    "Посмотрим, когда объемы продаж обычных (`conventional`) авокадо резко падали по сравнению с предыдущей неделей. Возьмите данные по США в целом, посчитайте разницу между объемом продаж в неделю x (`total_volume`) и количеством проданных авокадо в течение предыдущей недели. Значения запишите в новый столбец `week_diff`.\n",
    "\n",
    "+ `type` – тип авокадо (conventional)\n",
    "+ `region` – регион (TotalUS)\n",
    "+ `total_volume` – объем продаж за неделю\n",
    "\n",
    "Пример:\n",
    "\n",
    "| date | total_volume | region | type | week_diff | \n",
    "|------|--------------|--------|------|-----------|\n",
    "| 04/01/15 | 31,324,277.73 | TotalUS | conventional |  |\n",
    "|11/01/15 | 29,063,542.75 | TotalUS | conventional | -2,260,734.98 |\n",
    "\n",
    "Визуализируйте результат, где по оси x будет расположена дата, а по оси y –разница между продажами в x \n",
    "t\n",
    "​\n",
    "  и x \n",
    "t−1\n",
    "​\n",
    " . Выберите верные утверждения."
   ]
  },
  {
   "cell_type": "markdown",
   "metadata": {},
   "source": [
    "Правильный запрос:\n",
    "```\n",
    "SELECT \n",
    "    date, \n",
    "    total_volume, \n",
    "    region, \n",
    "    total_volume - LAG(total_volume, 1) over w as week_diff\n",
    "FROM \n",
    "    avocado \n",
    "WHERE \n",
    "    region = 'TotalUS' AND type='conventional'\n",
    "WINDOW w AS (\n",
    "    ORDER BY date ASC\n",
    "    ROWS BETWEEN UNBOUNDED PRECEDING AND CURRENT ROW\n",
    ")\n",
    "ORDER BY  date\n",
    "```\n",
    "Ответ:\n",
    "```\n",
    "Самое крупное падение объемов продаж по сравнению с предыдущей неделей произошло 12 февраля 2017 года\n",
    "Самые большие падения объемов продаж авокадо происходили в феврале\n",
    "```"
   ]
  },
  {
   "cell_type": "markdown",
   "metadata": {},
   "source": [
    "[ссылка на график](http://redash.lab.karpov.courses/embed/query/7558/visualization/15951?api_key=ThUtTUv8yQBqc6p68NyDwZVG4Pyimcie1ms8spyV&)\n",
    "![](https://ucarecdn.com/8ca774db-2a38-478b-a05b-309d2a148ec9/)"
   ]
  },
  {
   "cell_type": "markdown",
   "metadata": {},
   "source": [
    "# Задание 9\n",
    "___\n",
    "Посмотрим более подробно на объемы продаж авокадо в Нью-Йорке (NewYork) в 2018 году. Создайте колонку с разницей объемов продаж за неделю и за неделю до этого для каждого типа авокадо. Найдите день, когда продажи авокадо типа organic увеличились по сравнению с предыдущей неделей, а conventional – наоборот упали. Если таких дней несколько, то укажите их через запятую с пробелом, формат – 31/12/2020."
   ]
  },
  {
   "cell_type": "markdown",
   "metadata": {},
   "source": [
    "Правильный запрос:\n",
    "```\n",
    "SELECT \n",
    "    type,\n",
    "    date, \n",
    "    total_volume - LAG(total_volume, 1) over w as week_diff\n",
    "FROM \n",
    "    avocado \n",
    "WHERE \n",
    "    region = 'NewYork' and year = 2018\n",
    "WINDOW w AS (\n",
    "    PARTITION BY type\n",
    "    ORDER BY date ASC\n",
    "    ROWS BETWEEN UNBOUNDED PRECEDING AND CURRENT ROW\n",
    ")\n",
    "ORDER BY  \n",
    "    type,\n",
    "    date\n",
    "```\n",
    "Ответ:\n",
    "```\n",
    "18/02/2018, 18/03/2018\n",
    "```"
   ]
  },
  {
   "cell_type": "markdown",
   "metadata": {},
   "source": [
    "[](http://redash.lab.karpov.courses/embed/query/7560/visualization/15955?api_key=CXDGl9ejELnvkuD6f3KnLDV7mVYDsHCp4gepnptB&)\n",
    "![](https://ucarecdn.com/dc48a9f0-f0b2-4afb-be1f-db63947a31dc/)"
   ]
  },
  {
   "cell_type": "markdown",
   "metadata": {},
   "source": [
    "# Задание 10\n",
    "___\n",
    "Теперь посчитайте скользящее среднее цены авокадо (`average_price`) в Нью-Йорке с разбивкой по типу авокадо. В качестве окна используйте текущую неделю и предыдущие две (обратите внимание, что в данной таблице в строках содержатся данные за неделю, а не за один день). Например 04/01/15, 11/01/15 и 18/01/15 для подсчета значения для 18/01/15.\n",
    "\n",
    "| date | verage_price | region | type | rolling_price |\n",
    "|------|--------------|--------|------|---------------|\n",
    "| 04/01/15 | 1.09 | NewYork | conventional | 1.09 |\n",
    "| 11/01/15 | 1.34 | NewYork | conventional | 1.22 |\n",
    "| 18/01/15 | 1.37 | NewYork | conventional | 1.27 |\n",
    "| 25/01/15 | 1.36 | NewYork | conventional | 1.36 |\n",
    "\n",
    "В качестве ответа укажите полученное значение для обычных (conventional) авокадо за 17/04/16."
   ]
  },
  {
   "cell_type": "markdown",
   "metadata": {},
   "source": [
    "Правильный запрос:\n",
    "```\n",
    "SELECT \n",
    "    type,\n",
    "    date, \n",
    "    average_price,\n",
    "    avg(average_price) over w as rolling_price\n",
    "FROM \n",
    "    avocado \n",
    "WHERE \n",
    "    region = 'NewYork'\n",
    "WINDOW w AS (\n",
    "    PARTITION BY type\n",
    "    ORDER BY date ASC\n",
    "    ROWS BETWEEN 2 PRECEDING AND CURRENT ROW\n",
    ")\n",
    "ORDER BY  \n",
    "    type,\n",
    "    date\n",
    "```\n",
    "Ответ:\n",
    "```\n",
    "1.16\n",
    "```"
   ]
  },
  {
   "cell_type": "markdown",
   "metadata": {},
   "source": [
    "[ссылка на график](http://redash.lab.karpov.courses/embed/query/7562/visualization/15958?api_key=8HO8XAfKdqF0k6y1dOthixpBCSrErkLPV9cup2HH&)\n",
    "![](https://ucarecdn.com/586a2dc7-331f-4022-99fb-91e4bdf5a7a5/)"
   ]
  },
  {
   "cell_type": "code",
   "execution_count": null,
   "metadata": {},
   "outputs": [],
   "source": []
  }
 ],
 "metadata": {
  "kernelspec": {
   "display_name": "Python 3",
   "language": "python",
   "name": "python3"
  },
  "language_info": {
   "codemirror_mode": {
    "name": "ipython",
    "version": 3
   },
   "file_extension": ".py",
   "mimetype": "text/x-python",
   "name": "python",
   "nbconvert_exporter": "python",
   "pygments_lexer": "ipython3",
   "version": "3.7.3"
  }
 },
 "nbformat": 4,
 "nbformat_minor": 4
}
