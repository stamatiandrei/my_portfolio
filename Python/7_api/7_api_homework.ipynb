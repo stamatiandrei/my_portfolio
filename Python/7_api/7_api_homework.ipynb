{
 "cells": [
  {
   "cell_type": "markdown",
   "metadata": {},
   "source": [
    "# Блок №1"
   ]
  },
  {
   "cell_type": "markdown",
   "metadata": {},
   "source": [
    "# Задание 1\n",
    "___\n",
    "Загрузите данные из Google Sheets, которые находятся по этой [ссылке](https://docs.google.com/spreadsheets/d/1e3PRXmMNXo9AZZnaol1aHgYxtH6KYaCDymEQlK6jaO8/export?format=csv) при помощи библиотеки requests. Посчитайте процент мужчин среди всех посетителей сайта, округлите ответ до целых.\n",
    "\n",
    "Воспользуйтесь этим кодом, чтобы перевести данные из реквеста в пандас\n",
    "```\n",
    "from io import BytesIO\n",
    "import requests\n",
    "\n",
    "\n",
    "req = requests.get(your_link)\n",
    "data = req.content\n",
    "\n",
    "df = pd.read_csv(BytesIO(data))\n",
    "```"
   ]
  },
  {
   "cell_type": "code",
   "execution_count": 4,
   "metadata": {},
   "outputs": [],
   "source": [
    "# Импорт библиотек\n",
    "import pandas as pd\n",
    "import numpy as np\n",
    "\n",
    "from io import BytesIO #позволяет читать данные в байтовом формате\n",
    "import requests"
   ]
  },
  {
   "cell_type": "code",
   "execution_count": 7,
   "metadata": {},
   "outputs": [],
   "source": [
    "# Ссылка на данные в Google Sheets\n",
    "url_1 = 'https://docs.google.com/spreadsheets/d/e/2PACX-1vRN2uepfq_EOKF7LH53x3wL8McStkF0NvFDIARP-GbteTt0CV7DEaXLvFr1_88OCX0kjsYhTYicxOHh/pub?output=csv'"
   ]
  },
  {
   "cell_type": "code",
   "execution_count": 8,
   "metadata": {},
   "outputs": [],
   "source": [
    "# Получение данных по ссылку\n",
    "req = requests.get(url_1)\n",
    "data = req.content"
   ]
  },
  {
   "cell_type": "code",
   "execution_count": 9,
   "metadata": {},
   "outputs": [],
   "source": [
    "# Загрузка данных в pandas\n",
    "df = pd.read_csv(BytesIO(data))"
   ]
  },
  {
   "cell_type": "code",
   "execution_count": 10,
   "metadata": {},
   "outputs": [
    {
     "data": {
      "text/html": [
       "<div>\n",
       "<style scoped>\n",
       "    .dataframe tbody tr th:only-of-type {\n",
       "        vertical-align: middle;\n",
       "    }\n",
       "\n",
       "    .dataframe tbody tr th {\n",
       "        vertical-align: top;\n",
       "    }\n",
       "\n",
       "    .dataframe thead th {\n",
       "        text-align: right;\n",
       "    }\n",
       "</style>\n",
       "<table border=\"1\" class=\"dataframe\">\n",
       "  <thead>\n",
       "    <tr style=\"text-align: right;\">\n",
       "      <th></th>\n",
       "      <th>date</th>\n",
       "      <th>gender</th>\n",
       "      <th>users</th>\n",
       "    </tr>\n",
       "  </thead>\n",
       "  <tbody>\n",
       "    <tr>\n",
       "      <th>0</th>\n",
       "      <td>2020-06-14</td>\n",
       "      <td>Not specified</td>\n",
       "      <td>150</td>\n",
       "    </tr>\n",
       "    <tr>\n",
       "      <th>1</th>\n",
       "      <td>2020-06-14</td>\n",
       "      <td>male</td>\n",
       "      <td>117</td>\n",
       "    </tr>\n",
       "    <tr>\n",
       "      <th>2</th>\n",
       "      <td>2020-06-14</td>\n",
       "      <td>female</td>\n",
       "      <td>21</td>\n",
       "    </tr>\n",
       "  </tbody>\n",
       "</table>\n",
       "</div>"
      ],
      "text/plain": [
       "         date         gender  users\n",
       "0  2020-06-14  Not specified    150\n",
       "1  2020-06-14           male    117\n",
       "2  2020-06-14         female     21"
      ]
     },
     "execution_count": 10,
     "metadata": {},
     "output_type": "execute_result"
    }
   ],
   "source": [
    "# Просмотр результатов\n",
    "df"
   ]
  },
  {
   "cell_type": "code",
   "execution_count": 11,
   "metadata": {},
   "outputs": [
    {
     "data": {
      "text/plain": [
       "41.0"
      ]
     },
     "execution_count": 11,
     "metadata": {},
     "output_type": "execute_result"
    }
   ],
   "source": [
    "# Посчитаем процент мужчин среди всех посетителей сайта\n",
    "df.users.div(df.users.sum()).mul(100).round().loc[1]"
   ]
  },
  {
   "cell_type": "code",
   "execution_count": 24,
   "metadata": {},
   "outputs": [],
   "source": [
    "# text = req.text.splitlines()\n",
    "# text\n",
    "\n",
    "# header = text[0]\n",
    "# content = text[1:]\n",
    "\n",
    "# header = header.split(',')\n",
    "# content = [row.split(',') for row in content]\n",
    "\n",
    "# pd.DataFrame(content, columns=header)"
   ]
  },
  {
   "cell_type": "code",
   "execution_count": 23,
   "metadata": {},
   "outputs": [],
   "source": [
    "# pd.read_csv(url)"
   ]
  },
  {
   "cell_type": "markdown",
   "metadata": {},
   "source": [
    "# Задание 2\n",
    "___\n",
    "Скачайте файл с данными посещаемости сайта Яндекс.Метрика [отсюда](https://disk.yandex.ru/d/qH-LlUdvr9ZIKg) (сохранен в переменную `df`). При помощи функции `np.wher`e создайте серию, в которую будет записываться 1, если посещения были сделаны роботами с браузера, содержащего Chrome в названии, и 0 в других случаях. Поместите получившуюся серию в переменную `chrome_robots`."
   ]
  },
  {
   "cell_type": "code",
   "execution_count": 12,
   "metadata": {},
   "outputs": [],
   "source": [
    "url_2 = 'https://stepik.org/media/attachments/lesson/361619/karpov_courses_test.csv'"
   ]
  },
  {
   "cell_type": "code",
   "execution_count": 13,
   "metadata": {},
   "outputs": [],
   "source": [
    "df_2 = pd.read_csv(url_2)"
   ]
  },
  {
   "cell_type": "code",
   "execution_count": 14,
   "metadata": {},
   "outputs": [
    {
     "data": {
      "text/html": [
       "<div>\n",
       "<style scoped>\n",
       "    .dataframe tbody tr th:only-of-type {\n",
       "        vertical-align: middle;\n",
       "    }\n",
       "\n",
       "    .dataframe tbody tr th {\n",
       "        vertical-align: top;\n",
       "    }\n",
       "\n",
       "    .dataframe thead th {\n",
       "        text-align: right;\n",
       "    }\n",
       "</style>\n",
       "<table border=\"1\" class=\"dataframe\">\n",
       "  <thead>\n",
       "    <tr style=\"text-align: right;\">\n",
       "      <th></th>\n",
       "      <th>date</th>\n",
       "      <th>browser</th>\n",
       "      <th>user_type</th>\n",
       "      <th>users</th>\n",
       "    </tr>\n",
       "  </thead>\n",
       "  <tbody>\n",
       "    <tr>\n",
       "      <th>0</th>\n",
       "      <td>2020-06-14</td>\n",
       "      <td>Google Chrome</td>\n",
       "      <td>People</td>\n",
       "      <td>139</td>\n",
       "    </tr>\n",
       "    <tr>\n",
       "      <th>1</th>\n",
       "      <td>2020-06-14</td>\n",
       "      <td>Chrome Mobile</td>\n",
       "      <td>People</td>\n",
       "      <td>35</td>\n",
       "    </tr>\n",
       "    <tr>\n",
       "      <th>2</th>\n",
       "      <td>2020-06-14</td>\n",
       "      <td>Google Chrome</td>\n",
       "      <td>Robots</td>\n",
       "      <td>28</td>\n",
       "    </tr>\n",
       "    <tr>\n",
       "      <th>3</th>\n",
       "      <td>2020-06-14</td>\n",
       "      <td>Yandex Browser</td>\n",
       "      <td>People</td>\n",
       "      <td>22</td>\n",
       "    </tr>\n",
       "    <tr>\n",
       "      <th>4</th>\n",
       "      <td>2020-06-14</td>\n",
       "      <td>Firefox</td>\n",
       "      <td>People</td>\n",
       "      <td>15</td>\n",
       "    </tr>\n",
       "  </tbody>\n",
       "</table>\n",
       "</div>"
      ],
      "text/plain": [
       "         date         browser user_type  users\n",
       "0  2020-06-14   Google Chrome    People    139\n",
       "1  2020-06-14   Chrome Mobile    People     35\n",
       "2  2020-06-14   Google Chrome    Robots     28\n",
       "3  2020-06-14  Yandex Browser    People     22\n",
       "4  2020-06-14         Firefox    People     15"
      ]
     },
     "execution_count": 14,
     "metadata": {},
     "output_type": "execute_result"
    }
   ],
   "source": [
    "df_2.head()"
   ]
  },
  {
   "cell_type": "code",
   "execution_count": 15,
   "metadata": {},
   "outputs": [],
   "source": [
    "chrome_robots = np.where((df_2.user_type == 'Robots') & (df_2.browser.str.contains('Chrome')), 1, 0)\n",
    "chrome_robots = pd.Series(chrome_robots)"
   ]
  },
  {
   "cell_type": "code",
   "execution_count": 16,
   "metadata": {},
   "outputs": [
    {
     "data": {
      "text/plain": [
       "0     0\n",
       "1     0\n",
       "2     1\n",
       "3     0\n",
       "4     0\n",
       "5     0\n",
       "6     0\n",
       "7     0\n",
       "8     0\n",
       "9     0\n",
       "10    0\n",
       "11    0\n",
       "12    0\n",
       "13    0\n",
       "14    0\n",
       "15    0\n",
       "16    0\n",
       "17    0\n",
       "18    0\n",
       "19    1\n",
       "20    0\n",
       "21    0\n",
       "22    0\n",
       "23    0\n",
       "dtype: int64"
      ]
     },
     "execution_count": 16,
     "metadata": {},
     "output_type": "execute_result"
    }
   ],
   "source": [
    "chrome_robots"
   ]
  },
  {
   "cell_type": "code",
   "execution_count": 56,
   "metadata": {},
   "outputs": [],
   "source": [
    "# Способ замены значений в колонке по ключу в словаре\n",
    "# correspondance = {'People': 'Humans',\n",
    "#                  'Robots' : 'Bots'}\n",
    "\n",
    "# df_2.user_type.map(correspondance)"
   ]
  },
  {
   "cell_type": "markdown",
   "metadata": {},
   "source": [
    "# Задание 3\n",
    "___\n",
    "У вас есть [датасет](https://stepik.org/media/attachments/lesson/361619/sample_ads.csv) по ссылке с данными о кликах и показах по объявлению, в этом датасете есть пропуски. Вычислите количество строк без пропусков в колонке `click_type`. Запишите ответ в переменную `not_nan_count`\n",
    "\n",
    "+ `ad_id` - id объявления\n",
    "+ `user_id` - id пользователя\n",
    "+ `click_type` - тип клика (клик по заголовку объявления, клик по центру)"
   ]
  },
  {
   "cell_type": "code",
   "execution_count": 18,
   "metadata": {},
   "outputs": [],
   "source": [
    "url_3 = 'https://stepik.org/media/attachments/lesson/361619/sample_ads.csv'"
   ]
  },
  {
   "cell_type": "code",
   "execution_count": 19,
   "metadata": {},
   "outputs": [],
   "source": [
    "df_3 = pd.read_csv(url_3)"
   ]
  },
  {
   "cell_type": "code",
   "execution_count": 20,
   "metadata": {},
   "outputs": [
    {
     "data": {
      "text/html": [
       "<div>\n",
       "<style scoped>\n",
       "    .dataframe tbody tr th:only-of-type {\n",
       "        vertical-align: middle;\n",
       "    }\n",
       "\n",
       "    .dataframe tbody tr th {\n",
       "        vertical-align: top;\n",
       "    }\n",
       "\n",
       "    .dataframe thead th {\n",
       "        text-align: right;\n",
       "    }\n",
       "</style>\n",
       "<table border=\"1\" class=\"dataframe\">\n",
       "  <thead>\n",
       "    <tr style=\"text-align: right;\">\n",
       "      <th></th>\n",
       "      <th>ad_id</th>\n",
       "      <th>user_id</th>\n",
       "      <th>click_type</th>\n",
       "    </tr>\n",
       "  </thead>\n",
       "  <tbody>\n",
       "    <tr>\n",
       "      <th>0</th>\n",
       "      <td>12345</td>\n",
       "      <td>qwert</td>\n",
       "      <td>top</td>\n",
       "    </tr>\n",
       "    <tr>\n",
       "      <th>1</th>\n",
       "      <td>12345</td>\n",
       "      <td>fsssc</td>\n",
       "      <td>center</td>\n",
       "    </tr>\n",
       "    <tr>\n",
       "      <th>2</th>\n",
       "      <td>12345</td>\n",
       "      <td>vfvgg</td>\n",
       "      <td>NaN</td>\n",
       "    </tr>\n",
       "    <tr>\n",
       "      <th>3</th>\n",
       "      <td>12345</td>\n",
       "      <td>asrvv</td>\n",
       "      <td>NaN</td>\n",
       "    </tr>\n",
       "    <tr>\n",
       "      <th>4</th>\n",
       "      <td>12345</td>\n",
       "      <td>tynuy</td>\n",
       "      <td>top</td>\n",
       "    </tr>\n",
       "  </tbody>\n",
       "</table>\n",
       "</div>"
      ],
      "text/plain": [
       "   ad_id user_id click_type\n",
       "0  12345   qwert        top\n",
       "1  12345   fsssc     center\n",
       "2  12345   vfvgg        NaN\n",
       "3  12345   asrvv        NaN\n",
       "4  12345   tynuy        top"
      ]
     },
     "execution_count": 20,
     "metadata": {},
     "output_type": "execute_result"
    }
   ],
   "source": [
    "df_3.head()"
   ]
  },
  {
   "cell_type": "code",
   "execution_count": 21,
   "metadata": {},
   "outputs": [
    {
     "data": {
      "text/plain": [
       "11"
      ]
     },
     "execution_count": 21,
     "metadata": {},
     "output_type": "execute_result"
    }
   ],
   "source": [
    "# Посчитаем количество строк без пропусков \n",
    "not_nan_count = (~df_3.click_type.isna()).sum() # ~ это логическое отрицание\n",
    "not_nan_count"
   ]
  },
  {
   "cell_type": "code",
   "execution_count": 22,
   "metadata": {},
   "outputs": [
    {
     "data": {
      "text/plain": [
       "11"
      ]
     },
     "execution_count": 22,
     "metadata": {},
     "output_type": "execute_result"
    }
   ],
   "source": [
    "# Еще один способ посчитать количество строк без проспусков\n",
    "not_nan_count = df_3.click_type.notna().sum()\n",
    "not_nan_count"
   ]
  },
  {
   "cell_type": "markdown",
   "metadata": {},
   "source": [
    "# Задание 4\n",
    "___\n",
    "В списке `lst` находятся различные элементы. Создайте списк `new_list` и сделайте следующее:\n",
    "\n",
    "+ при помощи конструкции try except и цикла попробуйте преобразовать каждое значение в листе в int\n",
    "+ если это получилось - добавьте преобразованное значение  в список `new_list`"
   ]
  },
  {
   "cell_type": "code",
   "execution_count": 23,
   "metadata": {},
   "outputs": [],
   "source": [
    "lst = ['0', '2', '5', 'hello world', '11' ]\n",
    "new_list = []"
   ]
  },
  {
   "cell_type": "code",
   "execution_count": 24,
   "metadata": {},
   "outputs": [
    {
     "name": "stdout",
     "output_type": "stream",
     "text": [
      "[0, 2, 5, 11]\n"
     ]
    }
   ],
   "source": [
    "for element in lst:\n",
    "    try:\n",
    "        new_list.append(int(element))\n",
    "    except:\n",
    "        pass\n",
    "    \n",
    "print(new_list)"
   ]
  },
  {
   "cell_type": "markdown",
   "metadata": {},
   "source": [
    "# Задание 5\n",
    "___\n",
    "А теперь попробуем воспользоваться знаниями использования Telegram API. Отправьте себе в личку любое послание, а в ответ к этому шагу напишите ник бота, от имени которого будете отправлять сообщения."
   ]
  },
  {
   "cell_type": "code",
   "execution_count": 28,
   "metadata": {},
   "outputs": [],
   "source": [
    "import requests\n",
    "import json\n",
    "from urllib.parse import urlencode"
   ]
  },
  {
   "cell_type": "code",
   "execution_count": 42,
   "metadata": {},
   "outputs": [],
   "source": [
    "# Откроем файл с токеном Telegram bota и идентификатором чата\n",
    "with open('/home/jupyter-a.stamati-16/Lectures_7/my_bot.json') as src:\n",
    "    data = json.load(src)"
   ]
  },
  {
   "cell_type": "code",
   "execution_count": 43,
   "metadata": {},
   "outputs": [],
   "source": [
    "token = data['token']\n",
    "chat_id = data['chat_id']"
   ]
  },
  {
   "cell_type": "code",
   "execution_count": 44,
   "metadata": {},
   "outputs": [],
   "source": [
    "message = 'Привет'\n",
    "\n",
    "params = {'chat_id': chat_id,\n",
    "          'text': message}\n",
    "\n",
    "base_url = f'https://api.telegram.org/bot{token}/'\n",
    "url = base_url + 'sendMessage?' + urlencode(params)\n",
    "\n",
    "resp = requests.get(url)"
   ]
  },
  {
   "cell_type": "code",
   "execution_count": null,
   "metadata": {},
   "outputs": [],
   "source": []
  }
 ],
 "metadata": {
  "kernelspec": {
   "display_name": "Python 3",
   "language": "python",
   "name": "python3"
  },
  "language_info": {
   "codemirror_mode": {
    "name": "ipython",
    "version": 3
   },
   "file_extension": ".py",
   "mimetype": "text/x-python",
   "name": "python",
   "nbconvert_exporter": "python",
   "pygments_lexer": "ipython3",
   "version": "3.7.3"
  }
 },
 "nbformat": 4,
 "nbformat_minor": 4
}
