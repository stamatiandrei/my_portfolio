{
 "cells": [
  {
   "cell_type": "markdown",
   "metadata": {},
   "source": [
    "# Задание 1\n",
    "___\n",
    "**resample**\n",
    "\n",
    "Теперь посмотрим, какие возможности pandas предоставляет для работы с временными рядами! Один из наиболее часто используемых и удобных методов — .resample(), позволяющий преобразовать данные и применить к ним другой метод (sum(), size() и пр.). Таким образом, можно рассчитать показатели, например, за весь день, неделю, месяц и т.п. С полным списком возможных значений можно ознакомиться здесь.\n",
    "\n",
    "|Date Offset | Обозначение | Описание|\n",
    "|:--------:|:-------------:|:---------:|\n",
    "|DateOffset | None |\t|\n",
    "|Week | 'W' | одна неделя|\n",
    "|MonthEnd | 'M' | конец календарного месяца|\n",
    "|MonthBegin | 'MS' | начало календарного месяца|\n",
    "|QuarterEnd | 'Q' | конец календарного квартала|\n",
    "|YearEnd | 'A' | конец календарного года|\n",
    "|YearBegin | 'AS' или 'BYS' | начало календарного года|\n",
    "|Day | 'D' | день|\n",
    "|Hour | 'H' | один час|\n",
    "|Minute | 'T' или 'min' | одна минута|\n",
    "|Second | 'S' | одна секунда|\n",
    "|Milli | 'L' или 'ms' | одна миллисекунда| \n",
    "|Micro | 'U' или 'us' | одна микросекунда|\n",
    "\n",
    "Например, посчитать сумму показателя по дням, имея данные по часам, можно следующим образом:\n",
    "```\n",
    "data.resample(rule='D').sum()\n",
    "```\n",
    "где rule — параметр, отвечающий за то, по какому периоду нужно агрегировать данные. В данном случае параметр он равен 'D' (Day). \n",
    "\n",
    "Для получения данных за каждые 6 часов используем число и обозначение H:\n",
    "```\n",
    "data.resample(rule='6H').sum()\n",
    "```\n",
    "В качестве индексов датафрейма обязательно нужно использовать колонку формата DateTime, отсортированную в правильном порядке. Поэтому предварительно всегда следует проверить правильность типа данных и, если требуется, привести его к правильному с помощью pd.to_datetime()."
   ]
  },
  {
   "cell_type": "markdown",
   "metadata": {},
   "source": [
    "# Задание 2\n",
    "___\n",
    "В следующих задачах мы будем работать сэмплом данных об аренде велосипедов в Чикаго:\n",
    "\n",
    "+ `trip_id` — id поездки;\n",
    "+ `start_time` — Дата и время начала поездки\n",
    "+ `end_time` — Дата и время конца поездки\n",
    "+ `bikeid` — id велосипеда\n",
    "+ `tripduration` — продолжительность поездки в минутах\n",
    "+ `from_station_id` — id станции начала поездки\n",
    "+ `from_station_name` — название пункта отправления\n",
    "+ `to_station_id` — id пункта прибытия\n",
    "+ `to_station_name` — название пункта прибытия\n",
    "+ `usertype` — тип пользователя\n",
    "+ `gender` — пол (если subscriber)\n",
    "+ `birthyear` — год рождения (если subscriber)\n",
    "\n",
    "Для начала, возьмем [данные](https://stepik.org/media/attachments/lesson/367415/bikes_q1_sample.csv) только за Q1, они уже сохранены в переменную bikes_Q1. Перед тем как сделать .resample(), нужно немного подготовить данные. Поместите колонку start_time в качестве индексов и сохраните изменения в исходный датасет. Предварительно проверьте тип переменной, и приведите её к правильному, если необходимо.\n",
    "\n",
    "+ как привести к DateTime? документация \n",
    "\n",
    "Данные за Q1 находятся в `bikes_Q1`."
   ]
  },
  {
   "cell_type": "code",
   "execution_count": 110,
   "metadata": {},
   "outputs": [],
   "source": [
    "import pandas as pd\n",
    "import numpy as np"
   ]
  },
  {
   "cell_type": "code",
   "execution_count": 3,
   "metadata": {},
   "outputs": [],
   "source": [
    "url = 'https://stepik.org/media/attachments/lesson/367415/bikes_q1_sample.csv'"
   ]
  },
  {
   "cell_type": "code",
   "execution_count": 4,
   "metadata": {},
   "outputs": [],
   "source": [
    "bikes_Q1 = pd.read_csv(url)"
   ]
  },
  {
   "cell_type": "code",
   "execution_count": 5,
   "metadata": {},
   "outputs": [
    {
     "data": {
      "text/html": [
       "<div>\n",
       "<style scoped>\n",
       "    .dataframe tbody tr th:only-of-type {\n",
       "        vertical-align: middle;\n",
       "    }\n",
       "\n",
       "    .dataframe tbody tr th {\n",
       "        vertical-align: top;\n",
       "    }\n",
       "\n",
       "    .dataframe thead th {\n",
       "        text-align: right;\n",
       "    }\n",
       "</style>\n",
       "<table border=\"1\" class=\"dataframe\">\n",
       "  <thead>\n",
       "    <tr style=\"text-align: right;\">\n",
       "      <th></th>\n",
       "      <th>trip_id</th>\n",
       "      <th>start_time</th>\n",
       "      <th>end_time</th>\n",
       "      <th>bikeid</th>\n",
       "      <th>tripduration</th>\n",
       "      <th>from_station_id</th>\n",
       "      <th>from_station_name</th>\n",
       "      <th>to_station_id</th>\n",
       "      <th>to_station_name</th>\n",
       "      <th>usertype</th>\n",
       "      <th>gender</th>\n",
       "      <th>birthyear</th>\n",
       "    </tr>\n",
       "  </thead>\n",
       "  <tbody>\n",
       "    <tr>\n",
       "      <th>0</th>\n",
       "      <td>17617135</td>\n",
       "      <td>2018-01-22 20:04:31</td>\n",
       "      <td>2018-01-22 20:11:53</td>\n",
       "      <td>1131</td>\n",
       "      <td>442.0</td>\n",
       "      <td>471</td>\n",
       "      <td>Francisco Ave &amp; Foster Ave</td>\n",
       "      <td>468</td>\n",
       "      <td>Budlong Woods Library</td>\n",
       "      <td>Subscriber</td>\n",
       "      <td>Female</td>\n",
       "      <td>1949.0</td>\n",
       "    </tr>\n",
       "    <tr>\n",
       "      <th>1</th>\n",
       "      <td>17897619</td>\n",
       "      <td>2018-03-16 19:47:59</td>\n",
       "      <td>2018-03-16 20:04:00</td>\n",
       "      <td>6146</td>\n",
       "      <td>961.0</td>\n",
       "      <td>296</td>\n",
       "      <td>Broadway &amp; Belmont Ave</td>\n",
       "      <td>253</td>\n",
       "      <td>Winthrop Ave &amp; Lawrence Ave</td>\n",
       "      <td>Subscriber</td>\n",
       "      <td>Male</td>\n",
       "      <td>1988.0</td>\n",
       "    </tr>\n",
       "    <tr>\n",
       "      <th>2</th>\n",
       "      <td>17881307</td>\n",
       "      <td>2018-03-14 18:49:20</td>\n",
       "      <td>2018-03-14 18:54:38</td>\n",
       "      <td>3847</td>\n",
       "      <td>318.0</td>\n",
       "      <td>260</td>\n",
       "      <td>Kedzie Ave &amp; Milwaukee Ave</td>\n",
       "      <td>503</td>\n",
       "      <td>Drake Ave &amp; Fullerton Ave</td>\n",
       "      <td>Subscriber</td>\n",
       "      <td>Male</td>\n",
       "      <td>1987.0</td>\n",
       "    </tr>\n",
       "    <tr>\n",
       "      <th>3</th>\n",
       "      <td>17881130</td>\n",
       "      <td>2018-03-14 18:33:48</td>\n",
       "      <td>2018-03-14 19:07:40</td>\n",
       "      <td>1483</td>\n",
       "      <td>2,032.0</td>\n",
       "      <td>199</td>\n",
       "      <td>Wabash Ave &amp; Grand Ave</td>\n",
       "      <td>199</td>\n",
       "      <td>Wabash Ave &amp; Grand Ave</td>\n",
       "      <td>Subscriber</td>\n",
       "      <td>Male</td>\n",
       "      <td>1990.0</td>\n",
       "    </tr>\n",
       "    <tr>\n",
       "      <th>4</th>\n",
       "      <td>17686289</td>\n",
       "      <td>2018-02-05 17:39:14</td>\n",
       "      <td>2018-02-05 17:46:13</td>\n",
       "      <td>6391</td>\n",
       "      <td>419.0</td>\n",
       "      <td>596</td>\n",
       "      <td>Benson Ave &amp; Church St</td>\n",
       "      <td>605</td>\n",
       "      <td>University Library (NU)</td>\n",
       "      <td>Subscriber</td>\n",
       "      <td>Male</td>\n",
       "      <td>1992.0</td>\n",
       "    </tr>\n",
       "    <tr>\n",
       "      <th>...</th>\n",
       "      <td>...</td>\n",
       "      <td>...</td>\n",
       "      <td>...</td>\n",
       "      <td>...</td>\n",
       "      <td>...</td>\n",
       "      <td>...</td>\n",
       "      <td>...</td>\n",
       "      <td>...</td>\n",
       "      <td>...</td>\n",
       "      <td>...</td>\n",
       "      <td>...</td>\n",
       "      <td>...</td>\n",
       "    </tr>\n",
       "    <tr>\n",
       "      <th>174210</th>\n",
       "      <td>17792363</td>\n",
       "      <td>2018-02-28 17:16:53</td>\n",
       "      <td>2018-02-28 17:18:49</td>\n",
       "      <td>2401</td>\n",
       "      <td>116.0</td>\n",
       "      <td>50</td>\n",
       "      <td>Clark St &amp; Congress Pkwy</td>\n",
       "      <td>41</td>\n",
       "      <td>Federal St &amp; Polk St</td>\n",
       "      <td>Subscriber</td>\n",
       "      <td>Male</td>\n",
       "      <td>1991.0</td>\n",
       "    </tr>\n",
       "    <tr>\n",
       "      <th>174211</th>\n",
       "      <td>17695807</td>\n",
       "      <td>2018-02-08 11:52:44</td>\n",
       "      <td>2018-02-08 11:58:13</td>\n",
       "      <td>4687</td>\n",
       "      <td>329.0</td>\n",
       "      <td>18</td>\n",
       "      <td>Wacker Dr &amp; Washington St</td>\n",
       "      <td>39</td>\n",
       "      <td>Wabash Ave &amp; Adams St</td>\n",
       "      <td>Subscriber</td>\n",
       "      <td>Male</td>\n",
       "      <td>1979.0</td>\n",
       "    </tr>\n",
       "    <tr>\n",
       "      <th>174212</th>\n",
       "      <td>17938644</td>\n",
       "      <td>2018-03-22 17:18:21</td>\n",
       "      <td>2018-03-22 17:24:13</td>\n",
       "      <td>6200</td>\n",
       "      <td>352.0</td>\n",
       "      <td>59</td>\n",
       "      <td>Wabash Ave &amp; Roosevelt Rd</td>\n",
       "      <td>50</td>\n",
       "      <td>Clark St &amp; Congress Pkwy</td>\n",
       "      <td>Subscriber</td>\n",
       "      <td>Male</td>\n",
       "      <td>1968.0</td>\n",
       "    </tr>\n",
       "    <tr>\n",
       "      <th>174213</th>\n",
       "      <td>17738202</td>\n",
       "      <td>2018-02-20 16:45:07</td>\n",
       "      <td>2018-02-20 16:57:42</td>\n",
       "      <td>757</td>\n",
       "      <td>755.0</td>\n",
       "      <td>99</td>\n",
       "      <td>Lake Shore Dr &amp; Ohio St</td>\n",
       "      <td>38</td>\n",
       "      <td>Clark St &amp; Lake St</td>\n",
       "      <td>Subscriber</td>\n",
       "      <td>Male</td>\n",
       "      <td>1990.0</td>\n",
       "    </tr>\n",
       "    <tr>\n",
       "      <th>174214</th>\n",
       "      <td>17566765</td>\n",
       "      <td>2018-01-10 12:08:16</td>\n",
       "      <td>2018-01-10 12:20:31</td>\n",
       "      <td>4668</td>\n",
       "      <td>735.0</td>\n",
       "      <td>489</td>\n",
       "      <td>Drake Ave &amp; Addison St</td>\n",
       "      <td>500</td>\n",
       "      <td>Central Park Ave &amp; Elbridge Ave</td>\n",
       "      <td>Subscriber</td>\n",
       "      <td>Male</td>\n",
       "      <td>1980.0</td>\n",
       "    </tr>\n",
       "  </tbody>\n",
       "</table>\n",
       "<p>174215 rows × 12 columns</p>\n",
       "</div>"
      ],
      "text/plain": [
       "         trip_id           start_time             end_time  bikeid  \\\n",
       "0       17617135  2018-01-22 20:04:31  2018-01-22 20:11:53    1131   \n",
       "1       17897619  2018-03-16 19:47:59  2018-03-16 20:04:00    6146   \n",
       "2       17881307  2018-03-14 18:49:20  2018-03-14 18:54:38    3847   \n",
       "3       17881130  2018-03-14 18:33:48  2018-03-14 19:07:40    1483   \n",
       "4       17686289  2018-02-05 17:39:14  2018-02-05 17:46:13    6391   \n",
       "...          ...                  ...                  ...     ...   \n",
       "174210  17792363  2018-02-28 17:16:53  2018-02-28 17:18:49    2401   \n",
       "174211  17695807  2018-02-08 11:52:44  2018-02-08 11:58:13    4687   \n",
       "174212  17938644  2018-03-22 17:18:21  2018-03-22 17:24:13    6200   \n",
       "174213  17738202  2018-02-20 16:45:07  2018-02-20 16:57:42     757   \n",
       "174214  17566765  2018-01-10 12:08:16  2018-01-10 12:20:31    4668   \n",
       "\n",
       "       tripduration  from_station_id           from_station_name  \\\n",
       "0             442.0              471  Francisco Ave & Foster Ave   \n",
       "1             961.0              296      Broadway & Belmont Ave   \n",
       "2             318.0              260  Kedzie Ave & Milwaukee Ave   \n",
       "3           2,032.0              199      Wabash Ave & Grand Ave   \n",
       "4             419.0              596      Benson Ave & Church St   \n",
       "...             ...              ...                         ...   \n",
       "174210        116.0               50    Clark St & Congress Pkwy   \n",
       "174211        329.0               18   Wacker Dr & Washington St   \n",
       "174212        352.0               59   Wabash Ave & Roosevelt Rd   \n",
       "174213        755.0               99     Lake Shore Dr & Ohio St   \n",
       "174214        735.0              489      Drake Ave & Addison St   \n",
       "\n",
       "        to_station_id                  to_station_name    usertype  gender  \\\n",
       "0                 468            Budlong Woods Library  Subscriber  Female   \n",
       "1                 253      Winthrop Ave & Lawrence Ave  Subscriber    Male   \n",
       "2                 503        Drake Ave & Fullerton Ave  Subscriber    Male   \n",
       "3                 199           Wabash Ave & Grand Ave  Subscriber    Male   \n",
       "4                 605          University Library (NU)  Subscriber    Male   \n",
       "...               ...                              ...         ...     ...   \n",
       "174210             41             Federal St & Polk St  Subscriber    Male   \n",
       "174211             39            Wabash Ave & Adams St  Subscriber    Male   \n",
       "174212             50         Clark St & Congress Pkwy  Subscriber    Male   \n",
       "174213             38               Clark St & Lake St  Subscriber    Male   \n",
       "174214            500  Central Park Ave & Elbridge Ave  Subscriber    Male   \n",
       "\n",
       "        birthyear  \n",
       "0          1949.0  \n",
       "1          1988.0  \n",
       "2          1987.0  \n",
       "3          1990.0  \n",
       "4          1992.0  \n",
       "...           ...  \n",
       "174210     1991.0  \n",
       "174211     1979.0  \n",
       "174212     1968.0  \n",
       "174213     1990.0  \n",
       "174214     1980.0  \n",
       "\n",
       "[174215 rows x 12 columns]"
      ]
     },
     "execution_count": 5,
     "metadata": {},
     "output_type": "execute_result"
    }
   ],
   "source": [
    "bikes_Q1"
   ]
  },
  {
   "cell_type": "code",
   "execution_count": 6,
   "metadata": {},
   "outputs": [
    {
     "data": {
      "text/plain": [
       "trip_id                int64\n",
       "start_time            object\n",
       "end_time              object\n",
       "bikeid                 int64\n",
       "tripduration          object\n",
       "from_station_id        int64\n",
       "from_station_name     object\n",
       "to_station_id          int64\n",
       "to_station_name       object\n",
       "usertype              object\n",
       "gender                object\n",
       "birthyear            float64\n",
       "dtype: object"
      ]
     },
     "execution_count": 6,
     "metadata": {},
     "output_type": "execute_result"
    }
   ],
   "source": [
    "bikes_Q1.dtypes"
   ]
  },
  {
   "cell_type": "code",
   "execution_count": 8,
   "metadata": {},
   "outputs": [],
   "source": [
    "bikes_Q1[['start_time', 'end_time']] = bikes_Q1[['start_time', 'end_time']].apply(pd.to_datetime)"
   ]
  },
  {
   "cell_type": "code",
   "execution_count": 10,
   "metadata": {},
   "outputs": [],
   "source": [
    "bikes_Q1.set_index('start_time', inplace=True)"
   ]
  },
  {
   "cell_type": "code",
   "execution_count": 20,
   "metadata": {},
   "outputs": [
    {
     "data": {
      "text/plain": [
       "start_time\n",
       "2018-01-07     5121\n",
       "2018-01-21    21710\n",
       "2018-02-04    27139\n",
       "2018-02-18    17466\n",
       "2018-03-04    32921\n",
       "2018-03-18    35406\n",
       "2018-04-01    34452\n",
       "Freq: 2W-SUN, Name: trip_id, dtype: int64"
      ]
     },
     "execution_count": 20,
     "metadata": {},
     "output_type": "execute_result"
    }
   ],
   "source": [
    "bikes_Q1.resample('2W').trip_id.count()"
   ]
  },
  {
   "cell_type": "markdown",
   "metadata": {},
   "source": [
    "# Задание 3\n",
    "___\n",
    "В данных имеется как дата аренды, так и её точное время начала и окончания с точностью до секунд. Примените метод `pd.resample()` и агрегируйте данные по дням. В качестве ответа укажите максимальное число аренд за день."
   ]
  },
  {
   "cell_type": "code",
   "execution_count": 21,
   "metadata": {},
   "outputs": [
    {
     "data": {
      "text/html": [
       "<div>\n",
       "<style scoped>\n",
       "    .dataframe tbody tr th:only-of-type {\n",
       "        vertical-align: middle;\n",
       "    }\n",
       "\n",
       "    .dataframe tbody tr th {\n",
       "        vertical-align: top;\n",
       "    }\n",
       "\n",
       "    .dataframe thead th {\n",
       "        text-align: right;\n",
       "    }\n",
       "</style>\n",
       "<table border=\"1\" class=\"dataframe\">\n",
       "  <thead>\n",
       "    <tr style=\"text-align: right;\">\n",
       "      <th></th>\n",
       "      <th>trip_id</th>\n",
       "      <th>end_time</th>\n",
       "      <th>bikeid</th>\n",
       "      <th>tripduration</th>\n",
       "      <th>from_station_id</th>\n",
       "      <th>from_station_name</th>\n",
       "      <th>to_station_id</th>\n",
       "      <th>to_station_name</th>\n",
       "      <th>usertype</th>\n",
       "      <th>gender</th>\n",
       "      <th>birthyear</th>\n",
       "    </tr>\n",
       "    <tr>\n",
       "      <th>start_time</th>\n",
       "      <th></th>\n",
       "      <th></th>\n",
       "      <th></th>\n",
       "      <th></th>\n",
       "      <th></th>\n",
       "      <th></th>\n",
       "      <th></th>\n",
       "      <th></th>\n",
       "      <th></th>\n",
       "      <th></th>\n",
       "      <th></th>\n",
       "    </tr>\n",
       "  </thead>\n",
       "  <tbody>\n",
       "    <tr>\n",
       "      <th>2018-01-22 20:04:31</th>\n",
       "      <td>17617135</td>\n",
       "      <td>2018-01-22 20:11:53</td>\n",
       "      <td>1131</td>\n",
       "      <td>442.0</td>\n",
       "      <td>471</td>\n",
       "      <td>Francisco Ave &amp; Foster Ave</td>\n",
       "      <td>468</td>\n",
       "      <td>Budlong Woods Library</td>\n",
       "      <td>Subscriber</td>\n",
       "      <td>Female</td>\n",
       "      <td>1949.0</td>\n",
       "    </tr>\n",
       "    <tr>\n",
       "      <th>2018-03-16 19:47:59</th>\n",
       "      <td>17897619</td>\n",
       "      <td>2018-03-16 20:04:00</td>\n",
       "      <td>6146</td>\n",
       "      <td>961.0</td>\n",
       "      <td>296</td>\n",
       "      <td>Broadway &amp; Belmont Ave</td>\n",
       "      <td>253</td>\n",
       "      <td>Winthrop Ave &amp; Lawrence Ave</td>\n",
       "      <td>Subscriber</td>\n",
       "      <td>Male</td>\n",
       "      <td>1988.0</td>\n",
       "    </tr>\n",
       "    <tr>\n",
       "      <th>2018-03-14 18:49:20</th>\n",
       "      <td>17881307</td>\n",
       "      <td>2018-03-14 18:54:38</td>\n",
       "      <td>3847</td>\n",
       "      <td>318.0</td>\n",
       "      <td>260</td>\n",
       "      <td>Kedzie Ave &amp; Milwaukee Ave</td>\n",
       "      <td>503</td>\n",
       "      <td>Drake Ave &amp; Fullerton Ave</td>\n",
       "      <td>Subscriber</td>\n",
       "      <td>Male</td>\n",
       "      <td>1987.0</td>\n",
       "    </tr>\n",
       "    <tr>\n",
       "      <th>2018-03-14 18:33:48</th>\n",
       "      <td>17881130</td>\n",
       "      <td>2018-03-14 19:07:40</td>\n",
       "      <td>1483</td>\n",
       "      <td>2,032.0</td>\n",
       "      <td>199</td>\n",
       "      <td>Wabash Ave &amp; Grand Ave</td>\n",
       "      <td>199</td>\n",
       "      <td>Wabash Ave &amp; Grand Ave</td>\n",
       "      <td>Subscriber</td>\n",
       "      <td>Male</td>\n",
       "      <td>1990.0</td>\n",
       "    </tr>\n",
       "    <tr>\n",
       "      <th>2018-02-05 17:39:14</th>\n",
       "      <td>17686289</td>\n",
       "      <td>2018-02-05 17:46:13</td>\n",
       "      <td>6391</td>\n",
       "      <td>419.0</td>\n",
       "      <td>596</td>\n",
       "      <td>Benson Ave &amp; Church St</td>\n",
       "      <td>605</td>\n",
       "      <td>University Library (NU)</td>\n",
       "      <td>Subscriber</td>\n",
       "      <td>Male</td>\n",
       "      <td>1992.0</td>\n",
       "    </tr>\n",
       "  </tbody>\n",
       "</table>\n",
       "</div>"
      ],
      "text/plain": [
       "                      trip_id            end_time  bikeid tripduration  \\\n",
       "start_time                                                               \n",
       "2018-01-22 20:04:31  17617135 2018-01-22 20:11:53    1131        442.0   \n",
       "2018-03-16 19:47:59  17897619 2018-03-16 20:04:00    6146        961.0   \n",
       "2018-03-14 18:49:20  17881307 2018-03-14 18:54:38    3847        318.0   \n",
       "2018-03-14 18:33:48  17881130 2018-03-14 19:07:40    1483      2,032.0   \n",
       "2018-02-05 17:39:14  17686289 2018-02-05 17:46:13    6391        419.0   \n",
       "\n",
       "                     from_station_id           from_station_name  \\\n",
       "start_time                                                         \n",
       "2018-01-22 20:04:31              471  Francisco Ave & Foster Ave   \n",
       "2018-03-16 19:47:59              296      Broadway & Belmont Ave   \n",
       "2018-03-14 18:49:20              260  Kedzie Ave & Milwaukee Ave   \n",
       "2018-03-14 18:33:48              199      Wabash Ave & Grand Ave   \n",
       "2018-02-05 17:39:14              596      Benson Ave & Church St   \n",
       "\n",
       "                     to_station_id              to_station_name    usertype  \\\n",
       "start_time                                                                    \n",
       "2018-01-22 20:04:31            468        Budlong Woods Library  Subscriber   \n",
       "2018-03-16 19:47:59            253  Winthrop Ave & Lawrence Ave  Subscriber   \n",
       "2018-03-14 18:49:20            503    Drake Ave & Fullerton Ave  Subscriber   \n",
       "2018-03-14 18:33:48            199       Wabash Ave & Grand Ave  Subscriber   \n",
       "2018-02-05 17:39:14            605      University Library (NU)  Subscriber   \n",
       "\n",
       "                     gender  birthyear  \n",
       "start_time                              \n",
       "2018-01-22 20:04:31  Female     1949.0  \n",
       "2018-03-16 19:47:59    Male     1988.0  \n",
       "2018-03-14 18:49:20    Male     1987.0  \n",
       "2018-03-14 18:33:48    Male     1990.0  \n",
       "2018-02-05 17:39:14    Male     1992.0  "
      ]
     },
     "execution_count": 21,
     "metadata": {},
     "output_type": "execute_result"
    }
   ],
   "source": [
    "bikes_Q1.head()"
   ]
  },
  {
   "cell_type": "code",
   "execution_count": 24,
   "metadata": {},
   "outputs": [
    {
     "data": {
      "text/plain": [
       "4196"
      ]
     },
     "execution_count": 24,
     "metadata": {},
     "output_type": "execute_result"
    }
   ],
   "source": [
    "bikes_Q1.resample('1d').trip_id.count().max()"
   ]
  },
  {
   "cell_type": "code",
   "execution_count": 25,
   "metadata": {},
   "outputs": [
    {
     "data": {
      "text/plain": [
       "Timestamp('2018-02-27 00:00:00', freq='D')"
      ]
     },
     "execution_count": 25,
     "metadata": {},
     "output_type": "execute_result"
    }
   ],
   "source": [
    "bikes_Q1.resample('1d').trip_id.count().idxmax()"
   ]
  },
  {
   "cell_type": "markdown",
   "metadata": {},
   "source": [
    "# Задание 4\n",
    "___\n",
    "Посмотрим на распределение количества аренд для разных групп пользователей (`usertype`) — `customers` и `subscribers` в данных за апрель. Данные за нужный период можно подгрузить [отсюда](https://stepik.org/media/attachments/lesson/367415/bikes_april.csv).\n",
    "\n",
    "Сделайте ресемпл по дням для каждой группы и в качестве ответа укажите число аренд за 18 апреля, сделанных пользователями типа Subscriber.\n",
    "\n",
    "Может пригодиться:\n",
    "\n",
    "функция для транспонирования .T"
   ]
  },
  {
   "cell_type": "code",
   "execution_count": 26,
   "metadata": {},
   "outputs": [],
   "source": [
    "url_1 = 'https://stepik.org/media/attachments/lesson/367415/bikes_april.csv'"
   ]
  },
  {
   "cell_type": "code",
   "execution_count": 36,
   "metadata": {},
   "outputs": [],
   "source": [
    "bikes = pd.read_csv(url_1, parse_dates=[0, 2])"
   ]
  },
  {
   "cell_type": "code",
   "execution_count": 37,
   "metadata": {},
   "outputs": [
    {
     "data": {
      "text/html": [
       "<div>\n",
       "<style scoped>\n",
       "    .dataframe tbody tr th:only-of-type {\n",
       "        vertical-align: middle;\n",
       "    }\n",
       "\n",
       "    .dataframe tbody tr th {\n",
       "        vertical-align: top;\n",
       "    }\n",
       "\n",
       "    .dataframe thead th {\n",
       "        text-align: right;\n",
       "    }\n",
       "</style>\n",
       "<table border=\"1\" class=\"dataframe\">\n",
       "  <thead>\n",
       "    <tr style=\"text-align: right;\">\n",
       "      <th></th>\n",
       "      <th>start_time</th>\n",
       "      <th>trip_id</th>\n",
       "      <th>end_time</th>\n",
       "      <th>bikeid</th>\n",
       "      <th>tripduration</th>\n",
       "      <th>from_station_id</th>\n",
       "      <th>from_station_name</th>\n",
       "      <th>to_station_id</th>\n",
       "      <th>to_station_name</th>\n",
       "      <th>usertype</th>\n",
       "      <th>gender</th>\n",
       "      <th>birthyear</th>\n",
       "    </tr>\n",
       "  </thead>\n",
       "  <tbody>\n",
       "    <tr>\n",
       "      <th>0</th>\n",
       "      <td>2018-04-01 00:10:23</td>\n",
       "      <td>18000531</td>\n",
       "      <td>2018-04-01 00:22:12</td>\n",
       "      <td>5065</td>\n",
       "      <td>709.0</td>\n",
       "      <td>228</td>\n",
       "      <td>Damen Ave &amp; Melrose Ave</td>\n",
       "      <td>219</td>\n",
       "      <td>Damen Ave &amp; Cortland St</td>\n",
       "      <td>Subscriber</td>\n",
       "      <td>Male</td>\n",
       "      <td>1983.0</td>\n",
       "    </tr>\n",
       "    <tr>\n",
       "      <th>1</th>\n",
       "      <td>2018-04-01 00:15:49</td>\n",
       "      <td>18000533</td>\n",
       "      <td>2018-04-01 00:19:47</td>\n",
       "      <td>4570</td>\n",
       "      <td>238.0</td>\n",
       "      <td>128</td>\n",
       "      <td>Damen Ave &amp; Chicago Ave</td>\n",
       "      <td>130</td>\n",
       "      <td>Damen Ave &amp; Division St</td>\n",
       "      <td>Subscriber</td>\n",
       "      <td>Male</td>\n",
       "      <td>1978.0</td>\n",
       "    </tr>\n",
       "    <tr>\n",
       "      <th>2</th>\n",
       "      <td>2018-04-01 00:17:00</td>\n",
       "      <td>18000534</td>\n",
       "      <td>2018-04-01 00:22:53</td>\n",
       "      <td>1323</td>\n",
       "      <td>353.0</td>\n",
       "      <td>130</td>\n",
       "      <td>Damen Ave &amp; Division St</td>\n",
       "      <td>69</td>\n",
       "      <td>Damen Ave &amp; Pierce Ave</td>\n",
       "      <td>Subscriber</td>\n",
       "      <td>Male</td>\n",
       "      <td>1991.0</td>\n",
       "    </tr>\n",
       "    <tr>\n",
       "      <th>3</th>\n",
       "      <td>2018-04-01 00:20:00</td>\n",
       "      <td>18000536</td>\n",
       "      <td>2018-04-01 00:26:22</td>\n",
       "      <td>2602</td>\n",
       "      <td>382.0</td>\n",
       "      <td>121</td>\n",
       "      <td>Blackstone Ave &amp; Hyde Park Blvd</td>\n",
       "      <td>351</td>\n",
       "      <td>Cottage Grove Ave &amp; 51st St</td>\n",
       "      <td>Subscriber</td>\n",
       "      <td>Female</td>\n",
       "      <td>1992.0</td>\n",
       "    </tr>\n",
       "    <tr>\n",
       "      <th>4</th>\n",
       "      <td>2018-04-01 00:23:19</td>\n",
       "      <td>18000538</td>\n",
       "      <td>2018-04-01 00:35:01</td>\n",
       "      <td>4213</td>\n",
       "      <td>702.0</td>\n",
       "      <td>31</td>\n",
       "      <td>Franklin St &amp; Chicago Ave</td>\n",
       "      <td>180</td>\n",
       "      <td>Ritchie Ct &amp; Banks St</td>\n",
       "      <td>Subscriber</td>\n",
       "      <td>Male</td>\n",
       "      <td>1985.0</td>\n",
       "    </tr>\n",
       "  </tbody>\n",
       "</table>\n",
       "</div>"
      ],
      "text/plain": [
       "           start_time   trip_id            end_time  bikeid tripduration  \\\n",
       "0 2018-04-01 00:10:23  18000531 2018-04-01 00:22:12    5065        709.0   \n",
       "1 2018-04-01 00:15:49  18000533 2018-04-01 00:19:47    4570        238.0   \n",
       "2 2018-04-01 00:17:00  18000534 2018-04-01 00:22:53    1323        353.0   \n",
       "3 2018-04-01 00:20:00  18000536 2018-04-01 00:26:22    2602        382.0   \n",
       "4 2018-04-01 00:23:19  18000538 2018-04-01 00:35:01    4213        702.0   \n",
       "\n",
       "   from_station_id                from_station_name  to_station_id  \\\n",
       "0              228          Damen Ave & Melrose Ave            219   \n",
       "1              128          Damen Ave & Chicago Ave            130   \n",
       "2              130          Damen Ave & Division St             69   \n",
       "3              121  Blackstone Ave & Hyde Park Blvd            351   \n",
       "4               31        Franklin St & Chicago Ave            180   \n",
       "\n",
       "               to_station_name    usertype  gender  birthyear  \n",
       "0      Damen Ave & Cortland St  Subscriber    Male     1983.0  \n",
       "1      Damen Ave & Division St  Subscriber    Male     1978.0  \n",
       "2       Damen Ave & Pierce Ave  Subscriber    Male     1991.0  \n",
       "3  Cottage Grove Ave & 51st St  Subscriber  Female     1992.0  \n",
       "4        Ritchie Ct & Banks St  Subscriber    Male     1985.0  "
      ]
     },
     "execution_count": 37,
     "metadata": {},
     "output_type": "execute_result"
    }
   ],
   "source": [
    "bikes.head()"
   ]
  },
  {
   "cell_type": "code",
   "execution_count": 38,
   "metadata": {},
   "outputs": [
    {
     "data": {
      "text/plain": [
       "start_time           datetime64[ns]\n",
       "trip_id                       int64\n",
       "end_time             datetime64[ns]\n",
       "bikeid                        int64\n",
       "tripduration                 object\n",
       "from_station_id               int64\n",
       "from_station_name            object\n",
       "to_station_id                 int64\n",
       "to_station_name              object\n",
       "usertype                     object\n",
       "gender                       object\n",
       "birthyear                   float64\n",
       "dtype: object"
      ]
     },
     "execution_count": 38,
     "metadata": {},
     "output_type": "execute_result"
    }
   ],
   "source": [
    "bikes.dtypes"
   ]
  },
  {
   "cell_type": "code",
   "execution_count": 34,
   "metadata": {},
   "outputs": [
    {
     "data": {
      "text/plain": [
       "Subscriber    80166\n",
       "Customer       9978\n",
       "Name: usertype, dtype: int64"
      ]
     },
     "execution_count": 34,
     "metadata": {},
     "output_type": "execute_result"
    }
   ],
   "source": [
    "bikes.usertype.value_counts()"
   ]
  },
  {
   "cell_type": "code",
   "execution_count": 39,
   "metadata": {},
   "outputs": [],
   "source": [
    "bikes.set_index('start_time', inplace=True)"
   ]
  },
  {
   "cell_type": "code",
   "execution_count": 42,
   "metadata": {},
   "outputs": [],
   "source": [
    "day_bikes_count = bikes.groupby(['usertype']) \\\n",
    "                        .trip_id \\\n",
    "                        .resample('1d') \\\n",
    "                        .count()"
   ]
  },
  {
   "cell_type": "code",
   "execution_count": 45,
   "metadata": {},
   "outputs": [
    {
     "data": {
      "text/plain": [
       "2196"
      ]
     },
     "execution_count": 45,
     "metadata": {},
     "output_type": "execute_result"
    }
   ],
   "source": [
    "day_bikes_count.loc[('Subscriber', '2018-04-18')]"
   ]
  },
  {
   "cell_type": "markdown",
   "metadata": {},
   "source": [
    "# Задание 5\n",
    "___\n",
    "⭐️ Посмотрим на данные за период с апреля по декабрь.\n",
    "\n",
    "Объедините сэмплы данных за нужные месяцы в один общий датасет bikes. Сделайте преобразование по дням для каждой группы пользователей (usertype), затем выберите дни, в которые число аренд, сделанных customers, было больше, чем у subscribers.\n",
    "\n",
    "Данные за \n",
    "\n",
    "Q2: (1) [апрель](https://stepik.org/media/attachments/lesson/367415/bikes_q2_sample_apr.csv), (2) [май](https://stepik.org/media/attachments/lesson/367415/bikes_q2_sample_may.csv), (3) [июнь](https://stepik.org/media/attachments/lesson/367415/bikes_q2_sample_jun.csv) \\\n",
    "Q3: (4) [июль](https://stepik.org/media/attachments/lesson/367415/bikes_q3_sample_july.csv), (5) [август](https://stepik.org/media/attachments/lesson/367415/bikes_q3_sample_aug.csv), (6) [сентябрь](https://stepik.org/media/attachments/lesson/367415/bikes_q3_sample_sep.csv) \\\n",
    "Q4: (7) [октябрь](https://stepik.org/media/attachments/lesson/367415/bikes_q4_sample_oct.csv), (8) [ноябрь](https://stepik.org/media/attachments/lesson/367415/bikes_q4_sample_nov.csv), (9) [декабрь](https://stepik.org/media/attachments/lesson/367415/bikes_q4_sample_dec.csv) \\\n",
    "Note: объединение данных может занять немного времени, don't worry"
   ]
  },
  {
   "cell_type": "code",
   "execution_count": 50,
   "metadata": {},
   "outputs": [],
   "source": [
    "lines = [\n",
    "    'https://stepik.org/media/attachments/lesson/367415/bikes_q2_sample_apr.csv',\n",
    "    'https://stepik.org/media/attachments/lesson/367415/bikes_q2_sample_may.csv',\n",
    "    'https://stepik.org/media/attachments/lesson/367415/bikes_q2_sample_jun.csv',\n",
    "    'https://stepik.org/media/attachments/lesson/367415/bikes_q3_sample_july.csv',\n",
    "    'https://stepik.org/media/attachments/lesson/367415/bikes_q3_sample_aug.csv',\n",
    "    'https://stepik.org/media/attachments/lesson/367415/bikes_q3_sample_sep.csv',\n",
    "    'https://stepik.org/media/attachments/lesson/367415/bikes_q4_sample_oct.csv',\n",
    "    'https://stepik.org/media/attachments/lesson/367415/bikes_q4_sample_nov.csv',\n",
    "    'https://stepik.org/media/attachments/lesson/367415/bikes_q4_sample_dec.csv'\n",
    "]"
   ]
  },
  {
   "cell_type": "code",
   "execution_count": 56,
   "metadata": {},
   "outputs": [],
   "source": [
    "bikes = []"
   ]
  },
  {
   "cell_type": "code",
   "execution_count": 62,
   "metadata": {},
   "outputs": [],
   "source": [
    "for link in lines:\n",
    "#     print(link)\n",
    "    df = pd.read_csv(link)\n",
    "    bikes.append(df)"
   ]
  },
  {
   "cell_type": "code",
   "execution_count": 60,
   "metadata": {},
   "outputs": [],
   "source": [
    "bikes = pd.concat(bikes)"
   ]
  },
  {
   "cell_type": "code",
   "execution_count": 63,
   "metadata": {},
   "outputs": [
    {
     "data": {
      "text/html": [
       "<div>\n",
       "<style scoped>\n",
       "    .dataframe tbody tr th:only-of-type {\n",
       "        vertical-align: middle;\n",
       "    }\n",
       "\n",
       "    .dataframe tbody tr th {\n",
       "        vertical-align: top;\n",
       "    }\n",
       "\n",
       "    .dataframe thead th {\n",
       "        text-align: right;\n",
       "    }\n",
       "</style>\n",
       "<table border=\"1\" class=\"dataframe\">\n",
       "  <thead>\n",
       "    <tr style=\"text-align: right;\">\n",
       "      <th></th>\n",
       "      <th>trip_id</th>\n",
       "      <th>start_time</th>\n",
       "      <th>end_time</th>\n",
       "      <th>bikeid</th>\n",
       "      <th>tripduration</th>\n",
       "      <th>from_station_id</th>\n",
       "      <th>from_station_name</th>\n",
       "      <th>to_station_id</th>\n",
       "      <th>to_station_name</th>\n",
       "      <th>usertype</th>\n",
       "      <th>gender</th>\n",
       "      <th>birthyear</th>\n",
       "    </tr>\n",
       "  </thead>\n",
       "  <tbody>\n",
       "    <tr>\n",
       "      <th>0</th>\n",
       "      <td>18000534</td>\n",
       "      <td>2018-04-01 00:17:00</td>\n",
       "      <td>2018-04-01 00:22:53</td>\n",
       "      <td>1323</td>\n",
       "      <td>353.0</td>\n",
       "      <td>130</td>\n",
       "      <td>Damen Ave &amp; Division St</td>\n",
       "      <td>69</td>\n",
       "      <td>Damen Ave &amp; Pierce Ave</td>\n",
       "      <td>Subscriber</td>\n",
       "      <td>Male</td>\n",
       "      <td>1991.0</td>\n",
       "    </tr>\n",
       "    <tr>\n",
       "      <th>1</th>\n",
       "      <td>18000536</td>\n",
       "      <td>2018-04-01 00:20:00</td>\n",
       "      <td>2018-04-01 00:26:22</td>\n",
       "      <td>2602</td>\n",
       "      <td>382.0</td>\n",
       "      <td>121</td>\n",
       "      <td>Blackstone Ave &amp; Hyde Park Blvd</td>\n",
       "      <td>351</td>\n",
       "      <td>Cottage Grove Ave &amp; 51st St</td>\n",
       "      <td>Subscriber</td>\n",
       "      <td>Female</td>\n",
       "      <td>1992.0</td>\n",
       "    </tr>\n",
       "    <tr>\n",
       "      <th>2</th>\n",
       "      <td>18000538</td>\n",
       "      <td>2018-04-01 00:23:19</td>\n",
       "      <td>2018-04-01 00:35:01</td>\n",
       "      <td>4213</td>\n",
       "      <td>702.0</td>\n",
       "      <td>31</td>\n",
       "      <td>Franklin St &amp; Chicago Ave</td>\n",
       "      <td>180</td>\n",
       "      <td>Ritchie Ct &amp; Banks St</td>\n",
       "      <td>Subscriber</td>\n",
       "      <td>Male</td>\n",
       "      <td>1985.0</td>\n",
       "    </tr>\n",
       "    <tr>\n",
       "      <th>3</th>\n",
       "      <td>18000540</td>\n",
       "      <td>2018-04-01 00:24:46</td>\n",
       "      <td>2018-04-01 00:44:23</td>\n",
       "      <td>6401</td>\n",
       "      <td>1,177.0</td>\n",
       "      <td>596</td>\n",
       "      <td>Benson Ave &amp; Church St</td>\n",
       "      <td>517</td>\n",
       "      <td>Clark St &amp; Jarvis Ave</td>\n",
       "      <td>Subscriber</td>\n",
       "      <td>Male</td>\n",
       "      <td>1974.0</td>\n",
       "    </tr>\n",
       "    <tr>\n",
       "      <th>4</th>\n",
       "      <td>18000541</td>\n",
       "      <td>2018-04-01 00:26:04</td>\n",
       "      <td>2018-04-01 00:31:05</td>\n",
       "      <td>6333</td>\n",
       "      <td>301.0</td>\n",
       "      <td>145</td>\n",
       "      <td>Mies van der Rohe Way &amp; Chestnut St</td>\n",
       "      <td>24</td>\n",
       "      <td>Fairbanks Ct &amp; Grand Ave</td>\n",
       "      <td>Subscriber</td>\n",
       "      <td>Male</td>\n",
       "      <td>1984.0</td>\n",
       "    </tr>\n",
       "  </tbody>\n",
       "</table>\n",
       "</div>"
      ],
      "text/plain": [
       "    trip_id           start_time             end_time  bikeid tripduration  \\\n",
       "0  18000534  2018-04-01 00:17:00  2018-04-01 00:22:53    1323        353.0   \n",
       "1  18000536  2018-04-01 00:20:00  2018-04-01 00:26:22    2602        382.0   \n",
       "2  18000538  2018-04-01 00:23:19  2018-04-01 00:35:01    4213        702.0   \n",
       "3  18000540  2018-04-01 00:24:46  2018-04-01 00:44:23    6401      1,177.0   \n",
       "4  18000541  2018-04-01 00:26:04  2018-04-01 00:31:05    6333        301.0   \n",
       "\n",
       "   from_station_id                    from_station_name  to_station_id  \\\n",
       "0              130              Damen Ave & Division St             69   \n",
       "1              121      Blackstone Ave & Hyde Park Blvd            351   \n",
       "2               31            Franklin St & Chicago Ave            180   \n",
       "3              596               Benson Ave & Church St            517   \n",
       "4              145  Mies van der Rohe Way & Chestnut St             24   \n",
       "\n",
       "               to_station_name    usertype  gender  birthyear  \n",
       "0       Damen Ave & Pierce Ave  Subscriber    Male     1991.0  \n",
       "1  Cottage Grove Ave & 51st St  Subscriber  Female     1992.0  \n",
       "2        Ritchie Ct & Banks St  Subscriber    Male     1985.0  \n",
       "3        Clark St & Jarvis Ave  Subscriber    Male     1974.0  \n",
       "4     Fairbanks Ct & Grand Ave  Subscriber    Male     1984.0  "
      ]
     },
     "execution_count": 63,
     "metadata": {},
     "output_type": "execute_result"
    }
   ],
   "source": [
    "bikes.head()"
   ]
  },
  {
   "cell_type": "code",
   "execution_count": 64,
   "metadata": {},
   "outputs": [],
   "source": [
    "bikes[['start_time', 'end_time']] = bikes[['start_time', 'end_time']].apply(pd.to_datetime)"
   ]
  },
  {
   "cell_type": "code",
   "execution_count": 66,
   "metadata": {},
   "outputs": [
    {
     "data": {
      "text/plain": [
       "trip_id                       int64\n",
       "start_time           datetime64[ns]\n",
       "end_time             datetime64[ns]\n",
       "bikeid                        int64\n",
       "tripduration                 object\n",
       "from_station_id               int64\n",
       "from_station_name            object\n",
       "to_station_id                 int64\n",
       "to_station_name              object\n",
       "usertype                     object\n",
       "gender                       object\n",
       "birthyear                   float64\n",
       "dtype: object"
      ]
     },
     "execution_count": 66,
     "metadata": {},
     "output_type": "execute_result"
    }
   ],
   "source": [
    "bikes.dtypes"
   ]
  },
  {
   "cell_type": "code",
   "execution_count": 67,
   "metadata": {},
   "outputs": [],
   "source": [
    "bikes.set_index('start_time', inplace=True)"
   ]
  },
  {
   "cell_type": "code",
   "execution_count": 69,
   "metadata": {},
   "outputs": [],
   "source": [
    "day_bikes_count = bikes.groupby(['usertype']) \\\n",
    "                        .trip_id \\\n",
    "                        .resample('1d') \\\n",
    "                        .count()"
   ]
  },
  {
   "cell_type": "code",
   "execution_count": 71,
   "metadata": {},
   "outputs": [],
   "source": [
    "day_bikes_vs_user_groups = day_bikes_count.unstack(level='usertype')"
   ]
  },
  {
   "cell_type": "code",
   "execution_count": 76,
   "metadata": {},
   "outputs": [
    {
     "data": {
      "text/html": [
       "<div>\n",
       "<style scoped>\n",
       "    .dataframe tbody tr th:only-of-type {\n",
       "        vertical-align: middle;\n",
       "    }\n",
       "\n",
       "    .dataframe tbody tr th {\n",
       "        vertical-align: top;\n",
       "    }\n",
       "\n",
       "    .dataframe thead th {\n",
       "        text-align: right;\n",
       "    }\n",
       "</style>\n",
       "<table border=\"1\" class=\"dataframe\">\n",
       "  <thead>\n",
       "    <tr style=\"text-align: right;\">\n",
       "      <th></th>\n",
       "      <th>more_customer_than_subscriber</th>\n",
       "    </tr>\n",
       "    <tr>\n",
       "      <th>start_time</th>\n",
       "      <th></th>\n",
       "    </tr>\n",
       "  </thead>\n",
       "  <tbody>\n",
       "    <tr>\n",
       "      <th>2018-05-27</th>\n",
       "      <td>True</td>\n",
       "    </tr>\n",
       "    <tr>\n",
       "      <th>2018-09-02</th>\n",
       "      <td>True</td>\n",
       "    </tr>\n",
       "  </tbody>\n",
       "</table>\n",
       "</div>"
      ],
      "text/plain": [
       "            more_customer_than_subscriber\n",
       "start_time                               \n",
       "2018-05-27                           True\n",
       "2018-09-02                           True"
      ]
     },
     "execution_count": 76,
     "metadata": {},
     "output_type": "execute_result"
    }
   ],
   "source": [
    "(day_bikes_vs_user_groups.Customer > day_bikes_vs_user_groups.Subscriber) \\\n",
    "    .to_frame(name='more_customer_than_subscriber') \\\n",
    "    .query('more_customer_than_subscriber == True')"
   ]
  },
  {
   "cell_type": "markdown",
   "metadata": {},
   "source": [
    "___"
   ]
  },
  {
   "cell_type": "code",
   "execution_count": 78,
   "metadata": {},
   "outputs": [
    {
     "data": {
      "text/plain": [
       "(array([ 56, 154]),)"
      ]
     },
     "execution_count": 78,
     "metadata": {},
     "output_type": "execute_result"
    }
   ],
   "source": [
    "(day_bikes_vs_user_groups.Customer > day_bikes_vs_user_groups.Subscriber) \\\n",
    "    .values \\\n",
    "    .nonzero()"
   ]
  },
  {
   "cell_type": "code",
   "execution_count": 81,
   "metadata": {},
   "outputs": [
    {
     "data": {
      "text/html": [
       "<div>\n",
       "<style scoped>\n",
       "    .dataframe tbody tr th:only-of-type {\n",
       "        vertical-align: middle;\n",
       "    }\n",
       "\n",
       "    .dataframe tbody tr th {\n",
       "        vertical-align: top;\n",
       "    }\n",
       "\n",
       "    .dataframe thead th {\n",
       "        text-align: right;\n",
       "    }\n",
       "</style>\n",
       "<table border=\"1\" class=\"dataframe\">\n",
       "  <thead>\n",
       "    <tr style=\"text-align: right;\">\n",
       "      <th>usertype</th>\n",
       "      <th>Customer</th>\n",
       "      <th>Subscriber</th>\n",
       "    </tr>\n",
       "    <tr>\n",
       "      <th>start_time</th>\n",
       "      <th></th>\n",
       "      <th></th>\n",
       "    </tr>\n",
       "  </thead>\n",
       "  <tbody>\n",
       "    <tr>\n",
       "      <th>2018-05-27</th>\n",
       "      <td>6526</td>\n",
       "      <td>4898</td>\n",
       "    </tr>\n",
       "    <tr>\n",
       "      <th>2018-09-02</th>\n",
       "      <td>5504</td>\n",
       "      <td>4366</td>\n",
       "    </tr>\n",
       "  </tbody>\n",
       "</table>\n",
       "</div>"
      ],
      "text/plain": [
       "usertype    Customer  Subscriber\n",
       "start_time                      \n",
       "2018-05-27      6526        4898\n",
       "2018-09-02      5504        4366"
      ]
     },
     "execution_count": 81,
     "metadata": {},
     "output_type": "execute_result"
    }
   ],
   "source": [
    "day_bikes_vs_user_groups.iloc[[56, 154]]"
   ]
  },
  {
   "cell_type": "markdown",
   "metadata": {},
   "source": [
    "# Задание 6\n",
    "___\n",
    "Отлично! Следующий шаг – более подробно посмотреть на летний период.\n",
    "\n",
    "Еще один плюс использования дат в качестве индексов – возможность выбрать данные за интересующий нас промежуток времени. В переменную bikes_summer сохраните наблюдения с 1 июня по 31 августа. Затем запишите в top_destination наиболее популярный пункт назначения (его название). Агрегируйте данные по дням и определите, в какой день в полученный пункт (top_destination) было совершено меньше всего поездок. Дату сохраните в bad_day, отформатировав timestamp с помощью .strftime('%Y-%m-%d').\n",
    "\n",
    "Могут пригодиться:\n",
    "\n",
    "+ loc\n",
    "+ strftime\n",
    "+ idxmin, idxmax\n",
    "+ size\n",
    "+ query\n",
    "\n",
    "Полный датафрейм уже сохранен как bikes, еще раз объединять данные в этом степе не нужно :) В качестве индексов используется start_time в нужном формате."
   ]
  },
  {
   "cell_type": "code",
   "execution_count": 82,
   "metadata": {},
   "outputs": [
    {
     "data": {
      "text/html": [
       "<div>\n",
       "<style scoped>\n",
       "    .dataframe tbody tr th:only-of-type {\n",
       "        vertical-align: middle;\n",
       "    }\n",
       "\n",
       "    .dataframe tbody tr th {\n",
       "        vertical-align: top;\n",
       "    }\n",
       "\n",
       "    .dataframe thead th {\n",
       "        text-align: right;\n",
       "    }\n",
       "</style>\n",
       "<table border=\"1\" class=\"dataframe\">\n",
       "  <thead>\n",
       "    <tr style=\"text-align: right;\">\n",
       "      <th></th>\n",
       "      <th>trip_id</th>\n",
       "      <th>end_time</th>\n",
       "      <th>bikeid</th>\n",
       "      <th>tripduration</th>\n",
       "      <th>from_station_id</th>\n",
       "      <th>from_station_name</th>\n",
       "      <th>to_station_id</th>\n",
       "      <th>to_station_name</th>\n",
       "      <th>usertype</th>\n",
       "      <th>gender</th>\n",
       "      <th>birthyear</th>\n",
       "    </tr>\n",
       "    <tr>\n",
       "      <th>start_time</th>\n",
       "      <th></th>\n",
       "      <th></th>\n",
       "      <th></th>\n",
       "      <th></th>\n",
       "      <th></th>\n",
       "      <th></th>\n",
       "      <th></th>\n",
       "      <th></th>\n",
       "      <th></th>\n",
       "      <th></th>\n",
       "      <th></th>\n",
       "    </tr>\n",
       "  </thead>\n",
       "  <tbody>\n",
       "    <tr>\n",
       "      <th>2018-04-01 00:17:00</th>\n",
       "      <td>18000534</td>\n",
       "      <td>2018-04-01 00:22:53</td>\n",
       "      <td>1323</td>\n",
       "      <td>353.0</td>\n",
       "      <td>130</td>\n",
       "      <td>Damen Ave &amp; Division St</td>\n",
       "      <td>69</td>\n",
       "      <td>Damen Ave &amp; Pierce Ave</td>\n",
       "      <td>Subscriber</td>\n",
       "      <td>Male</td>\n",
       "      <td>1991.0</td>\n",
       "    </tr>\n",
       "    <tr>\n",
       "      <th>2018-04-01 00:20:00</th>\n",
       "      <td>18000536</td>\n",
       "      <td>2018-04-01 00:26:22</td>\n",
       "      <td>2602</td>\n",
       "      <td>382.0</td>\n",
       "      <td>121</td>\n",
       "      <td>Blackstone Ave &amp; Hyde Park Blvd</td>\n",
       "      <td>351</td>\n",
       "      <td>Cottage Grove Ave &amp; 51st St</td>\n",
       "      <td>Subscriber</td>\n",
       "      <td>Female</td>\n",
       "      <td>1992.0</td>\n",
       "    </tr>\n",
       "    <tr>\n",
       "      <th>2018-04-01 00:23:19</th>\n",
       "      <td>18000538</td>\n",
       "      <td>2018-04-01 00:35:01</td>\n",
       "      <td>4213</td>\n",
       "      <td>702.0</td>\n",
       "      <td>31</td>\n",
       "      <td>Franklin St &amp; Chicago Ave</td>\n",
       "      <td>180</td>\n",
       "      <td>Ritchie Ct &amp; Banks St</td>\n",
       "      <td>Subscriber</td>\n",
       "      <td>Male</td>\n",
       "      <td>1985.0</td>\n",
       "    </tr>\n",
       "    <tr>\n",
       "      <th>2018-04-01 00:24:46</th>\n",
       "      <td>18000540</td>\n",
       "      <td>2018-04-01 00:44:23</td>\n",
       "      <td>6401</td>\n",
       "      <td>1,177.0</td>\n",
       "      <td>596</td>\n",
       "      <td>Benson Ave &amp; Church St</td>\n",
       "      <td>517</td>\n",
       "      <td>Clark St &amp; Jarvis Ave</td>\n",
       "      <td>Subscriber</td>\n",
       "      <td>Male</td>\n",
       "      <td>1974.0</td>\n",
       "    </tr>\n",
       "    <tr>\n",
       "      <th>2018-04-01 00:26:04</th>\n",
       "      <td>18000541</td>\n",
       "      <td>2018-04-01 00:31:05</td>\n",
       "      <td>6333</td>\n",
       "      <td>301.0</td>\n",
       "      <td>145</td>\n",
       "      <td>Mies van der Rohe Way &amp; Chestnut St</td>\n",
       "      <td>24</td>\n",
       "      <td>Fairbanks Ct &amp; Grand Ave</td>\n",
       "      <td>Subscriber</td>\n",
       "      <td>Male</td>\n",
       "      <td>1984.0</td>\n",
       "    </tr>\n",
       "  </tbody>\n",
       "</table>\n",
       "</div>"
      ],
      "text/plain": [
       "                      trip_id            end_time  bikeid tripduration  \\\n",
       "start_time                                                               \n",
       "2018-04-01 00:17:00  18000534 2018-04-01 00:22:53    1323        353.0   \n",
       "2018-04-01 00:20:00  18000536 2018-04-01 00:26:22    2602        382.0   \n",
       "2018-04-01 00:23:19  18000538 2018-04-01 00:35:01    4213        702.0   \n",
       "2018-04-01 00:24:46  18000540 2018-04-01 00:44:23    6401      1,177.0   \n",
       "2018-04-01 00:26:04  18000541 2018-04-01 00:31:05    6333        301.0   \n",
       "\n",
       "                     from_station_id                    from_station_name  \\\n",
       "start_time                                                                  \n",
       "2018-04-01 00:17:00              130              Damen Ave & Division St   \n",
       "2018-04-01 00:20:00              121      Blackstone Ave & Hyde Park Blvd   \n",
       "2018-04-01 00:23:19               31            Franklin St & Chicago Ave   \n",
       "2018-04-01 00:24:46              596               Benson Ave & Church St   \n",
       "2018-04-01 00:26:04              145  Mies van der Rohe Way & Chestnut St   \n",
       "\n",
       "                     to_station_id              to_station_name    usertype  \\\n",
       "start_time                                                                    \n",
       "2018-04-01 00:17:00             69       Damen Ave & Pierce Ave  Subscriber   \n",
       "2018-04-01 00:20:00            351  Cottage Grove Ave & 51st St  Subscriber   \n",
       "2018-04-01 00:23:19            180        Ritchie Ct & Banks St  Subscriber   \n",
       "2018-04-01 00:24:46            517        Clark St & Jarvis Ave  Subscriber   \n",
       "2018-04-01 00:26:04             24     Fairbanks Ct & Grand Ave  Subscriber   \n",
       "\n",
       "                     gender  birthyear  \n",
       "start_time                              \n",
       "2018-04-01 00:17:00    Male     1991.0  \n",
       "2018-04-01 00:20:00  Female     1992.0  \n",
       "2018-04-01 00:23:19    Male     1985.0  \n",
       "2018-04-01 00:24:46    Male     1974.0  \n",
       "2018-04-01 00:26:04    Male     1984.0  "
      ]
     },
     "execution_count": 82,
     "metadata": {},
     "output_type": "execute_result"
    }
   ],
   "source": [
    "bikes.head()"
   ]
  },
  {
   "cell_type": "code",
   "execution_count": 84,
   "metadata": {},
   "outputs": [],
   "source": [
    "# отбираем данные за летний период\n",
    "bikes_summer = bikes.loc['2018-06-01':'2018-08-31']"
   ]
  },
  {
   "cell_type": "code",
   "execution_count": 89,
   "metadata": {},
   "outputs": [],
   "source": [
    "# наиболее популярный пункт\n",
    "top_destination = bikes_summer.to_station_name.value_counts().idxmax()"
   ]
  },
  {
   "cell_type": "code",
   "execution_count": 91,
   "metadata": {},
   "outputs": [],
   "source": [
    "top_destination_bikes = bikes_summer.query('to_station_name == @top_destination')"
   ]
  },
  {
   "cell_type": "code",
   "execution_count": 94,
   "metadata": {},
   "outputs": [],
   "source": [
    "bad_day = top_destination_bikes \\\n",
    "                            .resample('1d') \\\n",
    "                            .to_station_name \\\n",
    "                            .count() \\\n",
    "                            .idxmin()"
   ]
  },
  {
   "cell_type": "code",
   "execution_count": 98,
   "metadata": {},
   "outputs": [],
   "source": [
    "bad_day = bad_day.strftime('%Y-%m-%d')"
   ]
  },
  {
   "cell_type": "code",
   "execution_count": 99,
   "metadata": {},
   "outputs": [
    {
     "data": {
      "text/plain": [
       "'2018-06-21'"
      ]
     },
     "execution_count": 99,
     "metadata": {},
     "output_type": "execute_result"
    }
   ],
   "source": [
    "bad_day"
   ]
  },
  {
   "cell_type": "markdown",
   "metadata": {},
   "source": [
    "# Задание 7\n",
    "___\n",
    "Куда больше всего ездят на выходных? Туда же, куда и в будние дни, или в другие пункты назначения?\n",
    "\n",
    "Используя данные за период с 1 июня по 31 августа, выберите верные утверждения."
   ]
  },
  {
   "cell_type": "code",
   "execution_count": 102,
   "metadata": {},
   "outputs": [],
   "source": [
    "bikes_summer['day'] = bikes_summer.index.day_name()"
   ]
  },
  {
   "cell_type": "code",
   "execution_count": 108,
   "metadata": {},
   "outputs": [],
   "source": [
    "weekdays = ['Friday', 'Monday', 'Tuesday', 'Wednesday', 'Thursday']\n",
    "holidays = ['Saturday', 'Sunday']"
   ]
  },
  {
   "cell_type": "code",
   "execution_count": 112,
   "metadata": {},
   "outputs": [],
   "source": [
    "bikes_summer['is_weekdays'] = np.where(bikes_summer.day.isin(weekdays), 1, 0)"
   ]
  },
  {
   "cell_type": "code",
   "execution_count": 116,
   "metadata": {},
   "outputs": [
    {
     "data": {
      "text/plain": [
       "is_weekdays  to_station_name           \n",
       "0            Streeter Dr & Grand Ave       12052\n",
       "             Lake Shore Dr & North Blvd     6184\n",
       "             Theater on the Lake            5716\n",
       "             Lake Shore Dr & Monroe St      4542\n",
       "             Millennium Park                3968\n",
       "                                           ...  \n",
       "1            Marshfield Ave & 59th St          4\n",
       "             Racine Ave & 61st St              4\n",
       "             Central Ave & Madison St          2\n",
       "             Marion St & South Blvd            2\n",
       "             Throop St & 52nd St               2\n",
       "Name: to_station_name, Length: 1147, dtype: int64"
      ]
     },
     "execution_count": 116,
     "metadata": {},
     "output_type": "execute_result"
    }
   ],
   "source": [
    "bikes_summer.groupby(['is_weekdays']) \\\n",
    "            .to_station_name \\\n",
    "            .value_counts() \\"
   ]
  },
  {
   "cell_type": "code",
   "execution_count": 117,
   "metadata": {},
   "outputs": [
    {
     "data": {
      "text/plain": [
       "Streeter Dr & Grand Ave       6922\n",
       "Lake Shore Dr & North Blvd    3380\n",
       "Theater on the Lake           2940\n",
       "Lake Shore Dr & Monroe St     2464\n",
       "Millennium Park               2160\n",
       "                              ... \n",
       "State St & 76th St               2\n",
       "Cicero Ave & Flournoy St         2\n",
       "Halsted St & 47th Pl             2\n",
       "Racine Ave & 65th St             2\n",
       "Perry Ave & 69th St              2\n",
       "Name: to_station_name, Length: 557, dtype: int64"
      ]
     },
     "execution_count": 117,
     "metadata": {},
     "output_type": "execute_result"
    }
   ],
   "source": [
    "bikes_summer.query('day == \"Saturday\"') \\\n",
    "            .to_station_name \\\n",
    "            .value_counts()"
   ]
  },
  {
   "cell_type": "code",
   "execution_count": 118,
   "metadata": {},
   "outputs": [
    {
     "data": {
      "text/plain": [
       "Streeter Dr & Grand Ave         15228\n",
       "Canal St & Adams St             12284\n",
       "Clinton St & Washington Blvd     9714\n",
       "Clinton St & Madison St          9388\n",
       "Lake Shore Dr & North Blvd       8426\n",
       "                                ...  \n",
       "Cicero Ave & Flournoy St            4\n",
       "Marshfield Ave & 59th St            4\n",
       "Marion St & South Blvd              2\n",
       "Throop St & 52nd St                 2\n",
       "Central Ave & Madison St            2\n",
       "Name: to_station_name, Length: 578, dtype: int64"
      ]
     },
     "execution_count": 118,
     "metadata": {},
     "output_type": "execute_result"
    }
   ],
   "source": [
    "bikes_summer.query('is_weekdays == 1') \\\n",
    "            .to_station_name \\\n",
    "            .value_counts()"
   ]
  },
  {
   "cell_type": "code",
   "execution_count": null,
   "metadata": {},
   "outputs": [],
   "source": []
  }
 ],
 "metadata": {
  "kernelspec": {
   "display_name": "Python 3",
   "language": "python",
   "name": "python3"
  },
  "language_info": {
   "codemirror_mode": {
    "name": "ipython",
    "version": 3
   },
   "file_extension": ".py",
   "mimetype": "text/x-python",
   "name": "python",
   "nbconvert_exporter": "python",
   "pygments_lexer": "ipython3",
   "version": "3.7.3"
  }
 },
 "nbformat": 4,
 "nbformat_minor": 4
}
