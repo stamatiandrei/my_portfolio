{
 "cells": [
  {
   "cell_type": "markdown",
   "metadata": {},
   "source": [
    "# Блок №1"
   ]
  },
  {
   "cell_type": "markdown",
   "metadata": {},
   "source": [
    "# Задание 1\n",
    "___\n",
    "Начнём с простого: сохраните в переменную `age` произвольный возраст, выраженный целым числом, а в переменную `name` – какое-нибудь имя в виде строки."
   ]
  },
  {
   "cell_type": "markdown",
   "metadata": {},
   "source": [
    "Ответ:"
   ]
  },
  {
   "cell_type": "code",
   "execution_count": 2,
   "metadata": {},
   "outputs": [],
   "source": [
    "age, name = 12, 'Andrey'"
   ]
  },
  {
   "cell_type": "markdown",
   "metadata": {},
   "source": [
    "# Задание 2\n",
    "___\n",
    "Создайте список `user_info`, содержащий 4 элемента в следующем порядке:\n",
    "\n",
    "+ 2 строки (имя и фамилия пользователя)\n",
    "+ 1 дробное число (зарплата)\n",
    "+ 1 целое число (стаж)"
   ]
  },
  {
   "cell_type": "markdown",
   "metadata": {},
   "source": [
    "Ответ:"
   ]
  },
  {
   "cell_type": "code",
   "execution_count": 3,
   "metadata": {},
   "outputs": [],
   "source": [
    "user_info = ['Andey', 'Stam', 120.0, 150]"
   ]
  },
  {
   "cell_type": "markdown",
   "metadata": {},
   "source": [
    "# Задание 3\n",
    "___\n",
    "Поместите в переменную `first` первый (т.е. нулевой) элемент из списка `salaries`.\n",
    "\n",
    "Сам список создавать не нужно, он уже находится в переменной `salaries`."
   ]
  },
  {
   "cell_type": "markdown",
   "metadata": {},
   "source": [
    "Ответ:\n",
    "```\n",
    "first = salaries[0]\n",
    "```"
   ]
  },
  {
   "cell_type": "markdown",
   "metadata": {},
   "source": [
    "# Задание 4\n",
    "___\n",
    "Добавьте в уже созданный список `users` элементы 'Voronov' и 42.\n",
    "\n",
    "Сам список создавать не нужно, он уже находится в переменной `users`."
   ]
  },
  {
   "cell_type": "markdown",
   "metadata": {},
   "source": [
    "Ответ:\n",
    "```\n",
    "users.extend(['Voronov', 42])\n",
    "```"
   ]
  },
  {
   "cell_type": "markdown",
   "metadata": {},
   "source": [
    "# Задание 5\n",
    "___\n",
    "В переменной `user_ages` содержится список возрастов клиентов. Напишите цикл, выводящий на печать элементы больше 18.\n",
    "\n",
    "Сам список создавать не нужно, он уже находится в переменной `user_ages`.\n",
    "\n",
    "Пример данных, которые могут быть в `user_age`:\n",
    "```\n",
    "user_ages = [10, 18, 21, 35, 42, 27, 12, 16]\n",
    "```"
   ]
  },
  {
   "cell_type": "code",
   "execution_count": 4,
   "metadata": {},
   "outputs": [],
   "source": [
    "user_ages = [10, 18, 21, 35, 42, 27, 12, 16]"
   ]
  },
  {
   "cell_type": "code",
   "execution_count": 5,
   "metadata": {},
   "outputs": [
    {
     "name": "stdout",
     "output_type": "stream",
     "text": [
      "21\n",
      "35\n",
      "42\n",
      "27\n"
     ]
    }
   ],
   "source": [
    "print(*[i for i in user_ages if i > 18], sep='\\n')"
   ]
  },
  {
   "cell_type": "markdown",
   "metadata": {},
   "source": [
    "# Задание 6\n",
    "___\n",
    "Напишите программу, проверяющую стаж работы сотрудника. В переменной `worker` уже содержится список, содержащий значения как во 2-м задании (имя, фамилия, зарплата, стаж). Поместите в переменную `status` следующую строку:\n",
    "```\n",
    "user_name user_family is position\n",
    "```\n",
    "где `user_name` и `user_family` — имя и фамилия сотрудника, а `position` — одно из следующих значений:\n",
    "\n",
    "+ 'junior' — стаж меньше 2 лет\n",
    "+ 'middle' — стаж больше либо равен 2 лет\n",
    "+ 'senior' — стаж больше 5 лет \n",
    "\n",
    "Пример данных, которые могут быть в `worker`:\n",
    "```\n",
    "worker = ['Olya', 'Silyutina', 350000, 3]\n",
    "```"
   ]
  },
  {
   "cell_type": "code",
   "execution_count": 6,
   "metadata": {},
   "outputs": [],
   "source": [
    "worker = ['Olya', 'Silyutina', 350000, 3]"
   ]
  },
  {
   "cell_type": "code",
   "execution_count": 7,
   "metadata": {},
   "outputs": [],
   "source": [
    "if worker[3] < 2:\n",
    "    position = 'junior'\n",
    "elif 2 <= worker[3] <= 5:\n",
    "    position = 'middle'\n",
    "else:\n",
    "    position = 'senior'"
   ]
  },
  {
   "cell_type": "code",
   "execution_count": 8,
   "metadata": {},
   "outputs": [],
   "source": [
    "status = f'{worker[0]} {worker[1]} is {position}'"
   ]
  },
  {
   "cell_type": "code",
   "execution_count": 9,
   "metadata": {},
   "outputs": [
    {
     "data": {
      "text/plain": [
       "'Olya Silyutina is middle'"
      ]
     },
     "execution_count": 9,
     "metadata": {},
     "output_type": "execute_result"
    }
   ],
   "source": [
    "status"
   ]
  },
  {
   "cell_type": "markdown",
   "metadata": {},
   "source": [
    "# Задание 7\n",
    "___\n",
    "В списке `values` содержатся числовые значения. Создайте список `tens` и добавьте в него все числа из `values`, которые делятся на 10 нацело.\n",
    "\n",
    "Пример данных, которые могут быть в `values`:\n",
    "```\n",
    "values = [12, 134, 10, 47, 100, 20, 50, 160, 210]\n",
    "```"
   ]
  },
  {
   "cell_type": "code",
   "execution_count": 10,
   "metadata": {},
   "outputs": [],
   "source": [
    "values = [12, 134, 10, 47, 100, 20, 50, 160, 210]"
   ]
  },
  {
   "cell_type": "code",
   "execution_count": 11,
   "metadata": {},
   "outputs": [],
   "source": [
    "tens = [num for num in values if not (num % 10)]"
   ]
  },
  {
   "cell_type": "code",
   "execution_count": 12,
   "metadata": {},
   "outputs": [
    {
     "data": {
      "text/plain": [
       "[10, 100, 20, 50, 160, 210]"
      ]
     },
     "execution_count": 12,
     "metadata": {},
     "output_type": "execute_result"
    }
   ],
   "source": [
    "tens"
   ]
  },
  {
   "cell_type": "markdown",
   "metadata": {},
   "source": [
    "# Задание 8\n",
    "___\n",
    "Реализуйте цикл, который пробегается по уже созданному списку `workers` со значениями как в 2-м и 6-м заданиях и выводит для каждого сотрудника следующую строку (то есть печатает её для каждого элемента списка):\n",
    "```\n",
    "user_name user_family is position\n",
    "```\n",
    "где `user_name` и `user_family` — имя и фамилия сотрудника, а `position` — одна из следующих строк:\n",
    "\n",
    "+ 'junior' — стаж меньше 2 лет\n",
    "+ 'middle' — стаж больше либо равен 2\n",
    "+ 'senior' — стаж строго больше 5 лет \n",
    "\n",
    "Пример данных, которые могут быть в workers:\n",
    "```\n",
    "workers = [['Ivan', 'Ivanov', 100000, 2], ['Petr', 'Petrov', 150000, 2], ['Sidor', 'Sidorov', 200000, 3]]\n",
    "```"
   ]
  },
  {
   "cell_type": "code",
   "execution_count": 13,
   "metadata": {},
   "outputs": [],
   "source": [
    "workers = [['Ivan', 'Ivanov', 100000, 2], ['Petr', 'Petrov', 150000, 2], ['Sidor', 'Sidorov', 200000, 3]]"
   ]
  },
  {
   "cell_type": "code",
   "execution_count": 14,
   "metadata": {},
   "outputs": [
    {
     "name": "stdout",
     "output_type": "stream",
     "text": [
      "Ivan Ivanov is middle\n",
      "Petr Petrov is middle\n",
      "Sidor Sidorov is middle\n"
     ]
    }
   ],
   "source": [
    "for worker in workers:\n",
    "    if worker[3] < 2:\n",
    "        position = 'junior'\n",
    "    elif 2 <= worker[3] <= 5:\n",
    "        position = 'middle'\n",
    "    else:\n",
    "        position = 'senior'\n",
    "    print(f'{worker[0]} {worker[1]} is {position}')"
   ]
  },
  {
   "cell_type": "markdown",
   "metadata": {},
   "source": [
    "# Задание 9\n",
    "___\n",
    "Поместите в список `lst` числа от 0 (`n = 0`) до 10 включительно (`N = 10`) c шагом 2 (`dn = 2`). Для этого используйте условие `while`."
   ]
  },
  {
   "cell_type": "code",
   "execution_count": 15,
   "metadata": {},
   "outputs": [],
   "source": [
    "lst = [i for i in range(0, 11, 2)]"
   ]
  },
  {
   "cell_type": "code",
   "execution_count": 16,
   "metadata": {},
   "outputs": [
    {
     "data": {
      "text/plain": [
       "[0, 2, 4, 6, 8, 10]"
      ]
     },
     "execution_count": 16,
     "metadata": {},
     "output_type": "execute_result"
    }
   ],
   "source": [
    "lst"
   ]
  },
  {
   "cell_type": "code",
   "execution_count": null,
   "metadata": {},
   "outputs": [],
   "source": []
  }
 ],
 "metadata": {
  "kernelspec": {
   "display_name": "Python 3",
   "language": "python",
   "name": "python3"
  },
  "language_info": {
   "codemirror_mode": {
    "name": "ipython",
    "version": 3
   },
   "file_extension": ".py",
   "mimetype": "text/x-python",
   "name": "python",
   "nbconvert_exporter": "python",
   "pygments_lexer": "ipython3",
   "version": "3.7.3"
  }
 },
 "nbformat": 4,
 "nbformat_minor": 4
}
